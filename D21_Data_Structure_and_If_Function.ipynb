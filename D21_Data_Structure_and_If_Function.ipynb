{
  "nbformat": 4,
  "nbformat_minor": 0,
  "metadata": {
    "colab": {
      "name": "D21_Data Structure and If Function.ipynb",
      "provenance": [],
      "collapsed_sections": [],
      "include_colab_link": true
    },
    "kernelspec": {
      "name": "python3",
      "display_name": "Python 3"
    },
    "language_info": {
      "name": "python"
    }
  },
  "cells": [
    {
      "cell_type": "markdown",
      "metadata": {
        "id": "view-in-github",
        "colab_type": "text"
      },
      "source": [
        "<a href=\"https://colab.research.google.com/github/arifanf/MSIB21/blob/main/D21_Data_Structure_and_If_Function.ipynb\" target=\"_parent\"><img src=\"https://colab.research.google.com/assets/colab-badge.svg\" alt=\"Open In Colab\"/></a>"
      ]
    },
    {
      "cell_type": "markdown",
      "metadata": {
        "id": "iRr9ddrFO0Y5"
      },
      "source": [
        "Day21 - Selasa, 21 September 2021<br>\n",
        "(Free Sharing)"
      ]
    },
    {
      "cell_type": "markdown",
      "metadata": {
        "id": "ZG4yrODOOoWt"
      },
      "source": [
        "# **LIST**\n",
        "\n",
        "---\n",
        "\n"
      ]
    },
    {
      "cell_type": "code",
      "metadata": {
        "id": "SfWGM9igKFjK",
        "colab": {
          "base_uri": "https://localhost:8080/"
        },
        "outputId": "2ed92167-9756-45cc-d864-e15e05a0696b"
      },
      "source": [
        "drink_list = ['milk', 'coffee', \"teh\", \"stmj\"]\n",
        "#tgl = [25, 7, 17, 4]\n",
        "print(type(drink_list), \"\\n\")\n",
        "\n",
        "print(\"Fungsi len\\t ->\", len(drink_list)) #len() method menghitung list\n",
        "print(\"Fungsi sorted\\t ->\", sorted(drink_list)) #sorted() method mengurutkan list\n",
        "print(\"Pilih index\\t ->\", drink_list[1]) #milih index"
      ],
      "execution_count": null,
      "outputs": [
        {
          "output_type": "stream",
          "name": "stdout",
          "text": [
            "<class 'list'> \n",
            "\n",
            "Fungsi len\t -> 4\n",
            "Fungsi sorted\t -> ['coffee', 'milk', 'stmj', 'teh']\n",
            "Pilih index\t -> coffee\n"
          ]
        }
      ]
    },
    {
      "cell_type": "markdown",
      "metadata": {
        "id": "F1v74fpTOx5_"
      },
      "source": [
        "# **TUPLE**\n",
        "\n",
        "---\n",
        "\n"
      ]
    },
    {
      "cell_type": "code",
      "metadata": {
        "id": "8dtXBj7sNycs",
        "colab": {
          "base_uri": "https://localhost:8080/"
        },
        "outputId": "5fa11b2f-4f19-43c5-f03a-6d9875d460fa"
      },
      "source": [
        "drink_list = ('milk', 'coffee', \"teh\", \"stmj\")\n",
        "single_tuple = ('susu',) #tuple dengan satu value diakhiri dengan koma\n",
        "list_minuman = 'milk', 'coffee', \"teh\", \"stmj\" #dapat tanpa tanda kurung\n",
        "\n",
        "print(type(drink_list), \"\\n\")\n",
        "\n",
        "print(drink_list)\n",
        "#drink_list[0] = \"Test\"\n",
        "print(drink_list)"
      ],
      "execution_count": null,
      "outputs": [
        {
          "output_type": "stream",
          "name": "stdout",
          "text": [
            "<class 'tuple'> \n",
            "\n",
            "('milk', 'coffee', 'teh', 'stmj')\n",
            "('milk', 'coffee', 'teh', 'stmj')\n"
          ]
        }
      ]
    },
    {
      "cell_type": "markdown",
      "metadata": {
        "id": "Uz10MaQxPlJp"
      },
      "source": [
        "# **DICTIONARY**\n",
        "\n",
        "---\n",
        "\n"
      ]
    },
    {
      "cell_type": "code",
      "metadata": {
        "id": "9DePzPYjPpAL",
        "colab": {
          "base_uri": "https://localhost:8080/"
        },
        "outputId": "ff283873-4262-4360-9132-05a522911422"
      },
      "source": [
        "student = {\n",
        "    'name': 'Arifa Nurul Fadlila',\n",
        "    'age': 21,\n",
        "    'awesome': True,\n",
        "    'language': ['Java', 'Python', 'HTML', 'CSS'],\n",
        "    'favorites': {\n",
        "        'food': 'Fish',\n",
        "        'music': 'stray kids'\n",
        "    }\n",
        "}\n",
        "#print(sorted(student.items())) #-> fungsi mengurutkan key dict\n",
        "print(type(student), \"\\n\")\n",
        "\n",
        "name = student.get('name')\n",
        "print(name)\n",
        "\n",
        "hobby = student.get('favorites')['music']\n",
        "print(hobby)\n",
        "\n",
        "address = student.get('address')\n",
        "print(address)\n",
        "\n",
        "#dengan menggunakan .get dan key tidak ditemukan akan mengembalikan \"none\"\n",
        "#jika menggunakan fungsi di bawah maka akan error\n",
        "\n",
        "#address = student['address'] \n",
        "#print(address)"
      ],
      "execution_count": null,
      "outputs": [
        {
          "output_type": "stream",
          "name": "stdout",
          "text": [
            "<class 'dict'> \n",
            "\n",
            "Arifa Nurul Fadlila\n",
            "stray kids\n",
            "None\n"
          ]
        }
      ]
    },
    {
      "cell_type": "markdown",
      "metadata": {
        "id": "LExoxbHRQqpv"
      },
      "source": [
        "# **SET**\n",
        "\n",
        "---\n",
        "\n"
      ]
    },
    {
      "cell_type": "code",
      "metadata": {
        "id": "4ZJvtPoqQtE-",
        "colab": {
          "base_uri": "https://localhost:8080/"
        },
        "outputId": "4aa5f740-fda8-44f9-959b-9544a3e00061"
      },
      "source": [
        "my_set = {1, 2, 3, 4}\n",
        "my_set_2 = {3, 4, 5, 6}\n",
        "\n",
        "print(type(my_set), ' - ', type(my_set_2), \"\\n\")\n",
        "\n",
        "print(my_set.union(my_set_2), '----------', my_set | my_set_2)\n",
        "print(my_set.intersection(my_set_2), '----------', my_set & my_set_2)\n",
        "print(my_set.difference(my_set_2), '----------', my_set - my_set_2)\n",
        "print(my_set.symmetric_difference(my_set_2), '----------', my_set ^ my_set_2)\n",
        "my_set.clear()\n",
        "print(my_set)"
      ],
      "execution_count": null,
      "outputs": [
        {
          "output_type": "stream",
          "name": "stdout",
          "text": [
            "<class 'set'>  -  <class 'set'> \n",
            "\n",
            "{1, 2, 3, 4, 5, 6} ---------- {1, 2, 3, 4, 5, 6}\n",
            "{3, 4} ---------- {3, 4}\n",
            "{1, 2} ---------- {1, 2}\n",
            "{1, 2, 5, 6} ---------- {1, 2, 5, 6}\n",
            "set()\n"
          ]
        }
      ]
    },
    {
      "cell_type": "markdown",
      "metadata": {
        "id": "yxWX0FPtkPrA"
      },
      "source": [
        "Konversi Tuple ke Set"
      ]
    },
    {
      "cell_type": "code",
      "metadata": {
        "colab": {
          "base_uri": "https://localhost:8080/"
        },
        "id": "S4PUzGoakAqG",
        "outputId": "107e25bb-69eb-4ce6-9403-f0e6c018b26f"
      },
      "source": [
        "print(type(single_tuple))\n",
        "\n",
        "set_single_tuple = set(single_tuple)\n",
        "print(type(set_single_tuple))"
      ],
      "execution_count": null,
      "outputs": [
        {
          "output_type": "stream",
          "name": "stdout",
          "text": [
            "<class 'tuple'>\n",
            "<class 'set'>\n"
          ]
        }
      ]
    },
    {
      "cell_type": "markdown",
      "metadata": {
        "id": "B9XE1kCRXWHu"
      },
      "source": [
        "# **Pengondisian**\n",
        "\n",
        "---\n",
        "Bentuk umum if, elif, dan else\n",
        "\n",
        "```\n",
        "if(Condition1):\n",
        "      Indented statement block for Condition1\n",
        "elif(Condition2):\n",
        "       Indented statement block for Condition2\n",
        "else:\n",
        "       Alternate statement block if all condition check above fails\n",
        "```\n",
        "\n"
      ]
    },
    {
      "cell_type": "markdown",
      "metadata": {
        "id": "bPt3UNS7aQP6"
      },
      "source": [
        "Algoritma tahun kabisat: \n",
        "\n",
        "1.   Jika angka tahun itu habis dibagi 400, maka tahun itu sudah pasti tahun kabisat.\n",
        "2.   Jika angka tahun itu tidak habis dibagi 400 tetapi habis dibagi 100, maka tahun itu sudah pasti bukan merupakan tahun kabisat.\n",
        "3.   Jika angka tahun itu tidak habis dibagi 400, tidak habis dibagi 100 akan tetapi habis dibagi 4, maka tahun itu merupakan tahun kabisat.\n",
        "4.   Jika angka tahun tidak habis dibagi 400, tidak habis dibagi 100, dan tidak habis dibagi 4, maka tahun tersebut bukan merupakan tahun kabisat."
      ]
    },
    {
      "cell_type": "code",
      "metadata": {
        "id": "3ak7ijenXS6A",
        "colab": {
          "base_uri": "https://localhost:8080/"
        },
        "outputId": "20ddc158-f3b9-4741-91a6-c8a77f3ce25c"
      },
      "source": [
        "tahun = int(input(\"Input tahun: \"))\n",
        "\n",
        "if (tahun % 4) == 0:\n",
        "    if (tahun % 100) == 0:\n",
        "        if (tahun % 400) == 0:\n",
        "            print(\"Tahun Kabisat\")\n",
        "        else:\n",
        "            print(\"Bukan Tahun Kabisat\")\n",
        "    else:\n",
        "        print(\"Tahun Kabisat\")\n",
        "else:\n",
        "    print(\"Bukan Tahun Kabisat\")"
      ],
      "execution_count": null,
      "outputs": [
        {
          "output_type": "stream",
          "name": "stdout",
          "text": [
            "Input tahun: 2019\n",
            "Bukan Tahun Kabisat\n"
          ]
        }
      ]
    },
    {
      "cell_type": "markdown",
      "metadata": {
        "id": "yXJEA8DMlyWY"
      },
      "source": [
        "Mencari nilai pada List"
      ]
    },
    {
      "cell_type": "code",
      "metadata": {
        "id": "SWQGkDU4ldJU",
        "colab": {
          "base_uri": "https://localhost:8080/"
        },
        "outputId": "70aedcb1-1255-4648-a4b7-681f91b42b46"
      },
      "source": [
        "drink_list = ['milk', 'coffee', \"teh\", \"stmj\"]\n",
        "'coffee' in drink_list "
      ],
      "execution_count": null,
      "outputs": [
        {
          "output_type": "execute_result",
          "data": {
            "text/plain": [
              "True"
            ]
          },
          "metadata": {},
          "execution_count": 9
        }
      ]
    },
    {
      "cell_type": "markdown",
      "metadata": {
        "id": "PuFEU-Pfl6Jr"
      },
      "source": [
        "Penerapan Break, Continue, dan Pass"
      ]
    },
    {
      "cell_type": "code",
      "metadata": {
        "id": "X7pcFulAdPJs",
        "colab": {
          "base_uri": "https://localhost:8080/"
        },
        "outputId": "a2c5e457-fb23-4bb6-fcce-f6cd4058f0f9"
      },
      "source": [
        "for i in range(1,11):\n",
        "  if i == 3:\n",
        "    #break\n",
        "    #continue\n",
        "    #pass\n",
        "    print(i,' x ',i ,' = ',i*i)"
      ],
      "execution_count": null,
      "outputs": [
        {
          "output_type": "stream",
          "name": "stdout",
          "text": [
            "3  x  3  =  9\n"
          ]
        }
      ]
    },
    {
      "cell_type": "markdown",
      "metadata": {
        "id": "_oAGk-Om5FLn"
      },
      "source": [
        "Bonus, looping menggunakan if dan def"
      ]
    },
    {
      "cell_type": "code",
      "metadata": {
        "id": "8wXzTiy43SnV",
        "colab": {
          "base_uri": "https://localhost:8080/"
        },
        "outputId": "29f0478e-ba6d-4599-dc57-f9b1fe04105a"
      },
      "source": [
        "i = 0\n",
        "\n",
        "def loop(cond):\n",
        "  if(cond<=10):\n",
        "    print(cond)\n",
        "    cond += 1\n",
        "    loop(cond)\n",
        "\n",
        "loop(i)"
      ],
      "execution_count": null,
      "outputs": [
        {
          "output_type": "stream",
          "name": "stdout",
          "text": [
            "0\n",
            "1\n",
            "2\n",
            "3\n",
            "4\n",
            "5\n",
            "6\n",
            "7\n",
            "8\n",
            "9\n",
            "10\n"
          ]
        }
      ]
    },
    {
      "cell_type": "code",
      "metadata": {
        "id": "TZdDofhfQ2Xn",
        "colab": {
          "base_uri": "https://localhost:8080/",
          "height": 141
        },
        "outputId": "c2a392a2-0fb6-4910-d3db-9918d2f68ae3"
      },
      "source": [
        "import pandas as pd\n",
        "data = {'Country': ['Belgium', 'India', 'Brazil'], 'Capital': ['Brussels', 'New Delhi', 'Brasília'], 'Population': [11190846, 1303171035, 207847528]}\n",
        "df = pd.DataFrame(data, columns=['Country', 'Capital', 'Population'])\n",
        "df"
      ],
      "execution_count": null,
      "outputs": [
        {
          "output_type": "execute_result",
          "data": {
            "text/html": [
              "<div>\n",
              "<style scoped>\n",
              "    .dataframe tbody tr th:only-of-type {\n",
              "        vertical-align: middle;\n",
              "    }\n",
              "\n",
              "    .dataframe tbody tr th {\n",
              "        vertical-align: top;\n",
              "    }\n",
              "\n",
              "    .dataframe thead th {\n",
              "        text-align: right;\n",
              "    }\n",
              "</style>\n",
              "<table border=\"1\" class=\"dataframe\">\n",
              "  <thead>\n",
              "    <tr style=\"text-align: right;\">\n",
              "      <th></th>\n",
              "      <th>Country</th>\n",
              "      <th>Capital</th>\n",
              "      <th>Population</th>\n",
              "    </tr>\n",
              "  </thead>\n",
              "  <tbody>\n",
              "    <tr>\n",
              "      <th>0</th>\n",
              "      <td>Belgium</td>\n",
              "      <td>Brussels</td>\n",
              "      <td>11190846</td>\n",
              "    </tr>\n",
              "    <tr>\n",
              "      <th>1</th>\n",
              "      <td>India</td>\n",
              "      <td>New Delhi</td>\n",
              "      <td>1303171035</td>\n",
              "    </tr>\n",
              "    <tr>\n",
              "      <th>2</th>\n",
              "      <td>Brazil</td>\n",
              "      <td>Brasília</td>\n",
              "      <td>207847528</td>\n",
              "    </tr>\n",
              "  </tbody>\n",
              "</table>\n",
              "</div>"
            ],
            "text/plain": [
              "   Country    Capital  Population\n",
              "0  Belgium   Brussels    11190846\n",
              "1    India  New Delhi  1303171035\n",
              "2   Brazil   Brasília   207847528"
            ]
          },
          "metadata": {},
          "execution_count": 14
        }
      ]
    },
    {
      "cell_type": "code",
      "metadata": {
        "id": "HhITc_lARFGt",
        "colab": {
          "base_uri": "https://localhost:8080/",
          "height": 110
        },
        "outputId": "6470f419-9e79-4cf3-b153-6e06d943f038"
      },
      "source": [
        "df.iloc[:2,:3]"
      ],
      "execution_count": null,
      "outputs": [
        {
          "output_type": "execute_result",
          "data": {
            "text/html": [
              "<div>\n",
              "<style scoped>\n",
              "    .dataframe tbody tr th:only-of-type {\n",
              "        vertical-align: middle;\n",
              "    }\n",
              "\n",
              "    .dataframe tbody tr th {\n",
              "        vertical-align: top;\n",
              "    }\n",
              "\n",
              "    .dataframe thead th {\n",
              "        text-align: right;\n",
              "    }\n",
              "</style>\n",
              "<table border=\"1\" class=\"dataframe\">\n",
              "  <thead>\n",
              "    <tr style=\"text-align: right;\">\n",
              "      <th></th>\n",
              "      <th>Country</th>\n",
              "      <th>Capital</th>\n",
              "      <th>Population</th>\n",
              "    </tr>\n",
              "  </thead>\n",
              "  <tbody>\n",
              "    <tr>\n",
              "      <th>0</th>\n",
              "      <td>Belgium</td>\n",
              "      <td>Brussels</td>\n",
              "      <td>11190846</td>\n",
              "    </tr>\n",
              "    <tr>\n",
              "      <th>1</th>\n",
              "      <td>India</td>\n",
              "      <td>New Delhi</td>\n",
              "      <td>1303171035</td>\n",
              "    </tr>\n",
              "  </tbody>\n",
              "</table>\n",
              "</div>"
            ],
            "text/plain": [
              "   Country    Capital  Population\n",
              "0  Belgium   Brussels    11190846\n",
              "1    India  New Delhi  1303171035"
            ]
          },
          "metadata": {},
          "execution_count": 15
        }
      ]
    },
    {
      "cell_type": "code",
      "metadata": {
        "id": "75afQjz7S1wB",
        "colab": {
          "base_uri": "https://localhost:8080/"
        },
        "outputId": "585f1e20-90c4-4739-e935-56f9cb7f2bf1"
      },
      "source": [
        "# Function to convert number into string\n",
        "# Switcher is dictionary data type here\n",
        "def numbers_to_strings(argument):\n",
        "    switcher = {\n",
        "        0: \"zero\",\n",
        "        1: \"one\",\n",
        "        2: \"two\",\n",
        "    }\n",
        " \n",
        "    # get() method of dictionary data type returns\n",
        "    # value of passed argument if it is present\n",
        "    # in dictionary otherwise second argument will\n",
        "    # be assigned as default value of passed argument\n",
        "    return switcher.get(argument, \"nothing\")\n",
        " \n",
        "# Driver program\n",
        "if __name__ == \"__main__\":\n",
        "    argument=2\n",
        "    print (numbers_to_strings(argument))"
      ],
      "execution_count": null,
      "outputs": [
        {
          "output_type": "stream",
          "name": "stdout",
          "text": [
            "two\n"
          ]
        }
      ]
    }
  ]
}