{
  "nbformat": 4,
  "nbformat_minor": 0,
  "metadata": {
    "kernelspec": {
      "display_name": "Python 3",
      "language": "python",
      "name": "python3"
    },
    "language_info": {
      "codemirror_mode": {
        "name": "ipython",
        "version": 3
      },
      "file_extension": ".py",
      "mimetype": "text/x-python",
      "name": "python",
      "nbconvert_exporter": "python",
      "pygments_lexer": "ipython3",
      "version": "3.7.3"
    },
    "colab": {
      "name": "Lat2_Fundamental Python .ipynb",
      "provenance": [],
      "include_colab_link": true
    }
  },
  "cells": [
    {
      "cell_type": "markdown",
      "metadata": {
        "id": "view-in-github",
        "colab_type": "text"
      },
      "source": [
        "<a href=\"https://colab.research.google.com/github/arifanf/MSIB21/blob/main/Lat2_Fundamental_Python_.ipynb\" target=\"_parent\"><img src=\"https://colab.research.google.com/assets/colab-badge.svg\" alt=\"Open In Colab\"/></a>"
      ]
    },
    {
      "cell_type": "markdown",
      "metadata": {
        "id": "yILXWvyzJh5w"
      },
      "source": [
        "Day17 - Selasa, 14 September 2021"
      ]
    },
    {
      "cell_type": "markdown",
      "metadata": {
        "id": "EpSkCFlivrZU"
      },
      "source": [
        "# Belajar Python\n",
        "## Intro Python\n",
        "### List Pembahasan Python Basic"
      ]
    },
    {
      "cell_type": "markdown",
      "metadata": {
        "id": "94SDCN9FvrZV"
      },
      "source": [
        "***\n",
        "---"
      ]
    },
    {
      "cell_type": "markdown",
      "metadata": {
        "id": "37xL3ixivrZW"
      },
      "source": [
        "1. Basic Type Object\n",
        "    * Numbers\n",
        "    * Strings\n",
        "    * Boolean\n",
        "    * List\n",
        "2. Structure Data"
      ]
    },
    {
      "cell_type": "markdown",
      "metadata": {
        "id": "grdI1oIWvrZY"
      },
      "source": [
        "### 2. Basic Python - Aturan Penulisan Statement pada Python"
      ]
    },
    {
      "cell_type": "markdown",
      "metadata": {
        "id": "Ol252zPQI-Lm"
      },
      "source": [
        "#### Aturan Penulisan Statement Pada Basic Python\n",
        "1.   Penulisan satu statement di dalam Python tidak diakhiri dengan tanda titik-koma\n",
        "2.   Statement pada Pyhton dinyatakan dalam satu baris. Jadi akhir dari sebuah pernyataan adalah baris baru (new line).\n",
        "3.   Jika ada pernyataan yang panjangnya terdiri lebih dari 1 baris, maka dapat dilakukan dengan menggunakan tanda backslash ().\n",
        "4.   Statement yang ada di dalam atau diapit oleh tanda kurung seperti \"[],{},()\" tidak memerlukan tanda \"\".\n",
        "5.   Python menggunakan tanda indentasi (spasi) sebagai penanda blok. Panjang spasi atau indentasi untuk setiap baris yang ada dalam satu blok kode harus sama. Bila spasi atau indentasi dalam satu grup kode tersebut tidak sama, python akan menamplikan sintaks error.\n",
        "6.   Sebagai penanda string, Python menggunakan tanda kutip, baik tunggal ('), maupun ganda(\"). Tanda kutip tiga(\"\"\") digunakan untuk string multibaris.\n",
        "7.   Bahasa Python bersifat case sensitif, yang berarti membedakan huruf besar dan huruf kecil (memiliki nilai yang berbeda).\n",
        "8.   Untuk komentar di awali dengan tanda \"#\" yang artinya tidak diproses sebagai statement code."
      ]
    },
    {
      "cell_type": "code",
      "metadata": {
        "colab": {
          "base_uri": "https://localhost:8080/"
        },
        "id": "Uyus2oi7vrZY",
        "outputId": "a98a6c65-0448-4c1f-c97d-ab0ce7471aca"
      },
      "source": [
        "# 1. Penulisan satu statement di dalam Python tidak diakhiri dengan tanda titik-koma\n",
        "print(\"Halo Dunia!\")\n",
        "print(\"panjang = 100\")\n",
        "print(\"lebar = 23\")"
      ],
      "execution_count": 1,
      "outputs": [
        {
          "output_type": "stream",
          "name": "stdout",
          "text": [
            "Halo Dunia!\n",
            "panjang = 100\n",
            "lebar = 23\n"
          ]
        }
      ]
    },
    {
      "cell_type": "code",
      "metadata": {
        "colab": {
          "base_uri": "https://localhost:8080/"
        },
        "id": "S42bixRovrZb",
        "outputId": "9bc18844-91d6-4b40-ebe4-fbcf56b2ed2d"
      },
      "source": [
        "# 2. Statement pada Pyhton dinyatakan dalam satu baris. Jadi akhir dari sebuah pernyataan adalah baris baru (new line).\n",
        "print(\"luas = panjang * lebar\")"
      ],
      "execution_count": 2,
      "outputs": [
        {
          "output_type": "stream",
          "name": "stdout",
          "text": [
            "luas = panjang * lebar\n"
          ]
        }
      ]
    },
    {
      "cell_type": "code",
      "metadata": {
        "colab": {
          "base_uri": "https://localhost:8080/"
        },
        "id": "cJRlmkpfvrZc",
        "outputId": "3bf7792d-f056-4ba3-d416-c6aad007afb4"
      },
      "source": [
        "# 3. Jika ada pernyataan yang panjangnya terdiri lebih dari 1 baris, maka dapat dilakukan dengan menggunakan tanda backslash (\\).\n",
        "print(\"volume = panjang * lebar *\\\n",
        " tinggi\")"
      ],
      "execution_count": 3,
      "outputs": [
        {
          "output_type": "stream",
          "name": "stdout",
          "text": [
            "volume = panjang * lebar * tinggi\n"
          ]
        }
      ]
    },
    {
      "cell_type": "code",
      "metadata": {
        "colab": {
          "base_uri": "https://localhost:8080/"
        },
        "id": "492g7n9WvrZd",
        "outputId": "bbfeea25-36ff-4d93-c0cf-f8e0698e9522"
      },
      "source": [
        "# 4. Statement yang ada di dalam atau diapit oleh tanda kurung seperti \"[],{},()\" tidak memerlukan tanda \"\".\n",
        "nama_hari = ['Senin','Selasa','Rabu','Kamis','Jumat','Sabtu']\n",
        "print(nama_hari)"
      ],
      "execution_count": 4,
      "outputs": [
        {
          "output_type": "stream",
          "name": "stdout",
          "text": [
            "['Senin', 'Selasa', 'Rabu', 'Kamis', 'Jumat', 'Sabtu']\n"
          ]
        }
      ]
    },
    {
      "cell_type": "code",
      "metadata": {
        "colab": {
          "base_uri": "https://localhost:8080/"
        },
        "id": "HWcHimafvrZe",
        "outputId": "4587e286-8380-4953-836e-fc36120eef74"
      },
      "source": [
        "# 5. Python menggunakan tanda indentasi (spasi) sebagai penanda blok. Panjang spasi atau indentasi untuk setiap baris yang ada dalam satu blok kode harus sama. Bila spasi atau indentasi dalam satu grup kode tersebut tidak sama, python akan menamplikan sintaks error.\n",
        "usia = 7\n",
        "if usia >= 7:\n",
        "    print(\"diterima masuk SD\")\n",
        "    print(\"dinyatakan lulus\")\n",
        "else:\n",
        "    print(\"tidak diterima masuk SD\")\n",
        "    print(\"dinyatakan gagal\")"
      ],
      "execution_count": 5,
      "outputs": [
        {
          "output_type": "stream",
          "name": "stdout",
          "text": [
            "diterima masuk SD\n",
            "dinyatakan lulus\n"
          ]
        }
      ]
    },
    {
      "cell_type": "code",
      "metadata": {
        "colab": {
          "base_uri": "https://localhost:8080/"
        },
        "id": "C4sIpDwPvrZf",
        "outputId": "c09e6946-9249-4710-94c1-f77db976eaae"
      },
      "source": [
        "# 6. Sebagai penanda string, Python menggunakan tanda kutip, baik tunggal ('), maupun ganda(\"). Tanda kutip tiga(\"\"\") digunakan untuk string multibaris.\n",
        "namadepan = 'Arifa'\n",
        "namalengkap = \"Arifa Nurul Fadlila\"\n",
        "alinea = \"\"\"Berikut ini adalah alinea\n",
        "yang terdiri dari beberapa baris.\"\"\"\n",
        "print(namadepan)\n",
        "print(namalengkap)\n",
        "print(alinea)"
      ],
      "execution_count": 6,
      "outputs": [
        {
          "output_type": "stream",
          "name": "stdout",
          "text": [
            "Arifa\n",
            "Arifa Nurul Fadlila\n",
            "Berikut ini adalah alinea\n",
            "yang terdiri dari beberapa baris.\n"
          ]
        }
      ]
    },
    {
      "cell_type": "code",
      "metadata": {
        "colab": {
          "base_uri": "https://localhost:8080/"
        },
        "id": "Zo6wZ0ZnvrZg",
        "outputId": "0576e18e-2cb0-4369-863a-e4f9b36bdf79"
      },
      "source": [
        "# 7. Bahasa Python bersifat case sensitif, yang berarti membedakan huruf besar dan huruf kecil (memiliki nilai yang berbeda).\n",
        "# Contoh statement yang benar\n",
        "luas = 15*3\n",
        "print(luas)\n",
        "\n",
        "# Contoh statement yang salah\n",
        "#luas = 15*3\n",
        "#Print(luas)\n",
        "#PRINT(luas)"
      ],
      "execution_count": 7,
      "outputs": [
        {
          "output_type": "stream",
          "name": "stdout",
          "text": [
            "45\n"
          ]
        }
      ]
    },
    {
      "cell_type": "code",
      "metadata": {
        "colab": {
          "base_uri": "https://localhost:8080/"
        },
        "id": "OapZZBsMvrZh",
        "outputId": "08e19759-0df2-4d2a-94b8-f9db68311b47"
      },
      "source": [
        "# 8. Untuk komentar di awali dengan tanda \"#\" yang artinya tidak diproses sebagai statement code.\n",
        "panjang = 15\n",
        "lebar = 3\n",
        "luas = (panjang*lebar)\n",
        "print(luas)"
      ],
      "execution_count": 8,
      "outputs": [
        {
          "output_type": "stream",
          "name": "stdout",
          "text": [
            "45\n"
          ]
        }
      ]
    },
    {
      "cell_type": "markdown",
      "metadata": {
        "id": "zZifVHxnvrZi"
      },
      "source": [
        "### 3. Python as Calculator (Numbers), Assignment, Comparison, Boolean, and Logic Operator"
      ]
    },
    {
      "cell_type": "code",
      "metadata": {
        "colab": {
          "base_uri": "https://localhost:8080/"
        },
        "id": "lW2HUs-WvrZj",
        "outputId": "fd079122-689b-4ac0-e04a-0d3d11f2da1c"
      },
      "source": [
        "# Contoh sederhana Boolean\n",
        "nilai = 80\n",
        "nilai > 65\n",
        "nilai < 65"
      ],
      "execution_count": 9,
      "outputs": [
        {
          "output_type": "execute_result",
          "data": {
            "text/plain": [
              "False"
            ]
          },
          "metadata": {},
          "execution_count": 9
        }
      ]
    },
    {
      "cell_type": "markdown",
      "metadata": {
        "id": "3R4R8NCFvrZj"
      },
      "source": [
        "#### a. Python Working in Strings and List"
      ]
    },
    {
      "cell_type": "code",
      "metadata": {
        "colab": {
          "base_uri": "https://localhost:8080/"
        },
        "id": "--dtcEPgvrZk",
        "outputId": "0c9caa22-35c1-4e09-ff9c-add163a09f12"
      },
      "source": [
        "#String pendek\n",
        "print('pendek')\n",
        "print(\"pendek\")\n",
        "print(\"don't\")\n",
        "\n",
        "#Tanda \\ (Menghilangkan pengaruh \"\")\n",
        "print(\"don\\'t\")\n",
        "print(\"\\\"Siap!\\\" kata orang itu\")\n",
        "\n",
        "#String panjang\n",
        "print('''\n",
        "string\n",
        "panjang\n",
        "''')"
      ],
      "execution_count": 10,
      "outputs": [
        {
          "output_type": "stream",
          "name": "stdout",
          "text": [
            "pendek\n",
            "pendek\n",
            "don't\n",
            "don't\n",
            "\"Siap!\" kata orang itu\n",
            "\n",
            "string\n",
            "panjang\n",
            "\n"
          ]
        }
      ]
    },
    {
      "cell_type": "code",
      "metadata": {
        "colab": {
          "base_uri": "https://localhost:8080/"
        },
        "id": "pDModQj6vrZk",
        "outputId": "a2a128c0-c604-4e59-903c-ccdac0d3847f"
      },
      "source": [
        "#Operator +\n",
        "print(\"Py\" + \"thon\")\n",
        "prefiks = \"di\"\n",
        "dasar_1 = \"terima\"\n",
        "dasar_2 = \"tolak\"\n",
        "print(prefiks + dasar_1)\n",
        "print(prefiks, dasar_2)\n",
        "print(\"Py\" \"thon\")"
      ],
      "execution_count": 11,
      "outputs": [
        {
          "output_type": "stream",
          "name": "stdout",
          "text": [
            "Python\n",
            "diterima\n",
            "di tolak\n",
            "Python\n"
          ]
        }
      ]
    },
    {
      "cell_type": "code",
      "metadata": {
        "colab": {
          "base_uri": "https://localhost:8080/"
        },
        "id": "1dbG9Y7SvrZk",
        "outputId": "b17389e5-2f3a-487a-c4dc-4086f1d3eefe"
      },
      "source": [
        "#Tanda \\ dan r\n",
        "#Tanda \\ berguna sebagai penginterpretasi karakter spesial sedangkan r membuat string menjadi terbaca sebagai raw strings (apa adanya)\n",
        "print(\"ganti baris \\n ke bawah\")  # \\n turun satu baris\n",
        "#print(\"C:\\user\\folder\") # error\n",
        "print(r\"C:\\user\\folder\") # berhasil"
      ],
      "execution_count": 12,
      "outputs": [
        {
          "output_type": "stream",
          "name": "stdout",
          "text": [
            "ganti baris \n",
            " ke bawah\n",
            "C:\\user\\folder\n"
          ]
        }
      ]
    },
    {
      "cell_type": "code",
      "metadata": {
        "colab": {
          "base_uri": "https://localhost:8080/",
          "height": 35
        },
        "id": "ZvtMK6jIvrZl",
        "outputId": "99c57b02-df85-42ec-987f-02a322564835"
      },
      "source": [
        "#Indexed\n",
        "kata_sambutan = \"Hello\"\n",
        "kata_sambutan[0]#\tindeks ke 0\n",
        "#kata_sambutan[:2]#\tindeks ke 0 sampai 2 – 1\n",
        "#kata_sambutan[1:2]#\tindeks ke 1 sampai 2 – 1\n",
        "#kata_sambutan[1:]#\tindeks ke 1 sampai terakhir\n",
        "#kata_sambutan[-1]#\tindeks ke 1 dari belakang\n",
        "#kata_sambutan[-0]#\tindeks ke 0\n",
        "#kata_sambutan[:-3]#\tdari indeks ke 0 sampai -3 – 1"
      ],
      "execution_count": 13,
      "outputs": [
        {
          "output_type": "execute_result",
          "data": {
            "application/vnd.google.colaboratory.intrinsic+json": {
              "type": "string"
            },
            "text/plain": [
              "'H'"
            ]
          },
          "metadata": {},
          "execution_count": 13
        }
      ]
    },
    {
      "cell_type": "code",
      "metadata": {
        "colab": {
          "base_uri": "https://localhost:8080/",
          "height": 35
        },
        "id": "RAuKzQS7vrZl",
        "outputId": "a4c2229d-54e6-4abd-d0b9-3ca2195129df"
      },
      "source": [
        "#Metode\n",
        "kata_sambutan.lower() #huruf kecil\n",
        "#kata_sambutan.upper() #huruf besar"
      ],
      "execution_count": 14,
      "outputs": [
        {
          "output_type": "execute_result",
          "data": {
            "application/vnd.google.colaboratory.intrinsic+json": {
              "type": "string"
            },
            "text/plain": [
              "'hello'"
            ]
          },
          "metadata": {},
          "execution_count": 14
        }
      ]
    },
    {
      "cell_type": "code",
      "metadata": {
        "colab": {
          "base_uri": "https://localhost:8080/"
        },
        "id": "X3NTp52JvrZl",
        "outputId": "d866323a-d14c-4998-a592-25b584cdb9e4"
      },
      "source": [
        "#Fungsi len dan operator in\n",
        "sambutan = kata_sambutan + \", Pak Febri. Ada yang bisa Elen bantu?\"\n",
        "len(sambutan) #panjang karakter len\n",
        "#\"Elen\" in sambutan"
      ],
      "execution_count": 15,
      "outputs": [
        {
          "output_type": "execute_result",
          "data": {
            "text/plain": [
              "43"
            ]
          },
          "metadata": {},
          "execution_count": 15
        }
      ]
    },
    {
      "cell_type": "code",
      "metadata": {
        "id": "UgRVSfBeM4Bi",
        "colab": {
          "base_uri": "https://localhost:8080/"
        },
        "outputId": "deae591d-9048-4932-fba5-789f1f74bf60"
      },
      "source": [
        "print(sambutan)"
      ],
      "execution_count": 16,
      "outputs": [
        {
          "output_type": "stream",
          "name": "stdout",
          "text": [
            "Hello, Pak Febri. Ada yang bisa Elen bantu?\n"
          ]
        }
      ]
    },
    {
      "cell_type": "markdown",
      "metadata": {
        "id": "lkV4EOAgvrZl"
      },
      "source": [
        "#### b. List"
      ]
    },
    {
      "cell_type": "code",
      "metadata": {
        "colab": {
          "base_uri": "https://localhost:8080/"
        },
        "id": "2_llYwxovrZm",
        "outputId": "67718ebf-14af-4ad2-e91a-3657ae3429ab"
      },
      "source": [
        "#Create list\n",
        "akurasi = [0.6,0.7, 0.8, 0.9]\n",
        "kredit = ['macet', 'lancar', 'macet']\n",
        "feature = [1,2,3,4]\n",
        "container_1 = list()\n",
        "container_2 = []\n",
        "type(container_1) # mengecek tipe"
      ],
      "execution_count": 17,
      "outputs": [
        {
          "output_type": "execute_result",
          "data": {
            "text/plain": [
              "list"
            ]
          },
          "metadata": {},
          "execution_count": 17
        }
      ]
    },
    {
      "cell_type": "code",
      "metadata": {
        "colab": {
          "base_uri": "https://localhost:8080/"
        },
        "id": "bq6OtO5lvrZm",
        "outputId": "90e22d0f-6702-49d4-cac8-52028b01161d"
      },
      "source": [
        "#Concatenating (operator +)\n",
        "akurasi+feature\n",
        "cacah = [1, 3, 5, 7, 9] + [2, 4, 6, 8]\n",
        "dua_list = [akurasi, feature]\n",
        "campur = feature + kredit\n",
        "isinstance(campur, str)\n"
      ],
      "execution_count": 18,
      "outputs": [
        {
          "output_type": "execute_result",
          "data": {
            "text/plain": [
              "False"
            ]
          },
          "metadata": {},
          "execution_count": 18
        }
      ]
    },
    {
      "cell_type": "code",
      "metadata": {
        "colab": {
          "base_uri": "https://localhost:8080/"
        },
        "id": "u5z6rMYzvrZm",
        "outputId": "cdff1a5e-cc3e-4294-b36b-140ef0d9e24b"
      },
      "source": [
        "#Indexed\n",
        "feature[0]\n",
        "#feature[:3]\n",
        "#feature[1:]\n",
        "#dua_list[0][2]"
      ],
      "execution_count": 19,
      "outputs": [
        {
          "output_type": "execute_result",
          "data": {
            "text/plain": [
              "1"
            ]
          },
          "metadata": {},
          "execution_count": 19
        }
      ]
    },
    {
      "cell_type": "code",
      "metadata": {
        "id": "bBR_6KiGvrZn"
      },
      "source": [
        "#Edited\n",
        "cacah[1] = 3\n",
        "cacah[1:4] = [9,9,9]"
      ],
      "execution_count": 20,
      "outputs": []
    },
    {
      "cell_type": "code",
      "metadata": {
        "colab": {
          "base_uri": "https://localhost:8080/"
        },
        "id": "iETxUpsVLc1s",
        "outputId": "c4493de5-4d49-4a69-eda5-a64251d03efd"
      },
      "source": [
        "print(cacah)"
      ],
      "execution_count": 21,
      "outputs": [
        {
          "output_type": "stream",
          "name": "stdout",
          "text": [
            "[1, 9, 9, 9, 9, 2, 4, 6, 8]\n"
          ]
        }
      ]
    },
    {
      "cell_type": "code",
      "metadata": {
        "colab": {
          "base_uri": "https://localhost:8080/"
        },
        "id": "0WH0--eXvrZn",
        "outputId": "35e30cfb-e7e2-4716-c159-949f8a235ac5"
      },
      "source": [
        "lakes = ['superior', 'erie', 'huron', 'ontario', 'powell']\n",
        "len(lakes)"
      ],
      "execution_count": 22,
      "outputs": [
        {
          "output_type": "execute_result",
          "data": {
            "text/plain": [
              "5"
            ]
          },
          "metadata": {},
          "execution_count": 22
        }
      ]
    },
    {
      "cell_type": "code",
      "metadata": {
        "colab": {
          "base_uri": "https://localhost:8080/"
        },
        "id": "1MquLagSvrZn",
        "outputId": "511e532e-4abd-43ba-f50e-6c7402ccbebd"
      },
      "source": [
        "numbers = [1, 2, 3, 4, 5]\n",
        "sum(numbers)\n",
        "#max(numbers)\n",
        "#min(numbers)"
      ],
      "execution_count": 23,
      "outputs": [
        {
          "output_type": "execute_result",
          "data": {
            "text/plain": [
              "15"
            ]
          },
          "metadata": {},
          "execution_count": 23
        }
      ]
    },
    {
      "cell_type": "code",
      "metadata": {
        "colab": {
          "base_uri": "https://localhost:8080/"
        },
        "id": "dKn7Dmk4vrZo",
        "outputId": "83f961b9-4539-4ccf-d9da-b2636f82e09d"
      },
      "source": [
        "any([1, 1, 0, 0, 1, 0])\n",
        "all([1, 1, 1, 1])\n",
        "lakes_sorted_new = sorted(lakes)\n",
        "lakes_sorted_new"
      ],
      "execution_count": 24,
      "outputs": [
        {
          "output_type": "execute_result",
          "data": {
            "text/plain": [
              "['erie', 'huron', 'ontario', 'powell', 'superior']"
            ]
          },
          "metadata": {},
          "execution_count": 24
        }
      ]
    },
    {
      "cell_type": "code",
      "metadata": {
        "colab": {
          "base_uri": "https://localhost:8080/"
        },
        "id": "eNfHUQWxvrZo",
        "outputId": "9b410fe9-1c6f-4f87-bc6f-3c78f2fccb15"
      },
      "source": [
        "cities = [\"oslo\", \"delhi\", \"washington\", \"london\", \"seattle\", \"paris\", \"washington\"]\n",
        "cities.count('seattle')\n",
        "#cities.index('washington')"
      ],
      "execution_count": 25,
      "outputs": [
        {
          "output_type": "execute_result",
          "data": {
            "text/plain": [
              "1"
            ]
          },
          "metadata": {},
          "execution_count": 25
        }
      ]
    },
    {
      "cell_type": "code",
      "metadata": {
        "colab": {
          "base_uri": "https://localhost:8080/"
        },
        "id": "D7tIqLoxvrZo",
        "outputId": "1611e346-93d9-4a20-b353-b4adb6733c45"
      },
      "source": [
        "cities.reverse()\n",
        "cities"
      ],
      "execution_count": 26,
      "outputs": [
        {
          "output_type": "execute_result",
          "data": {
            "text/plain": [
              "['washington', 'paris', 'seattle', 'london', 'washington', 'delhi', 'oslo']"
            ]
          },
          "metadata": {},
          "execution_count": 26
        }
      ]
    },
    {
      "cell_type": "code",
      "metadata": {
        "colab": {
          "base_uri": "https://localhost:8080/"
        },
        "id": "wyxyKUvfvrZo",
        "outputId": "dd2278ee-1c30-4937-cf11-8496e7924517"
      },
      "source": [
        "cities.append('brussels')\n",
        "cities"
      ],
      "execution_count": 27,
      "outputs": [
        {
          "output_type": "execute_result",
          "data": {
            "text/plain": [
              "['washington',\n",
              " 'paris',\n",
              " 'seattle',\n",
              " 'london',\n",
              " 'washington',\n",
              " 'delhi',\n",
              " 'oslo',\n",
              " 'brussels']"
            ]
          },
          "metadata": {},
          "execution_count": 27
        }
      ]
    },
    {
      "cell_type": "code",
      "metadata": {
        "colab": {
          "base_uri": "https://localhost:8080/"
        },
        "id": "qW-Mpq7gvrZp",
        "outputId": "3e0c568a-f63b-4ca5-ed9d-87cf053e629e"
      },
      "source": [
        "cities.sort()\n",
        "cities"
      ],
      "execution_count": 28,
      "outputs": [
        {
          "output_type": "execute_result",
          "data": {
            "text/plain": [
              "['brussels',\n",
              " 'delhi',\n",
              " 'london',\n",
              " 'oslo',\n",
              " 'paris',\n",
              " 'seattle',\n",
              " 'washington',\n",
              " 'washington']"
            ]
          },
          "metadata": {},
          "execution_count": 28
        }
      ]
    },
    {
      "cell_type": "code",
      "metadata": {
        "colab": {
          "base_uri": "https://localhost:8080/"
        },
        "id": "5na6iXi5vrZp",
        "outputId": "72656954-28e4-4fcb-be84-031530152ba3"
      },
      "source": [
        "cities.pop()\n",
        "cities"
      ],
      "execution_count": 29,
      "outputs": [
        {
          "output_type": "execute_result",
          "data": {
            "text/plain": [
              "['brussels', 'delhi', 'london', 'oslo', 'paris', 'seattle', 'washington']"
            ]
          },
          "metadata": {},
          "execution_count": 29
        }
      ]
    },
    {
      "cell_type": "code",
      "metadata": {
        "colab": {
          "base_uri": "https://localhost:8080/"
        },
        "id": "MFvCORfUvrZp",
        "outputId": "0ec5d887-d84b-4113-b9d3-894b3c84ebf5"
      },
      "source": [
        "more_cities = [\"brussels\", \"copenhagen\"]\n",
        "cities.extend(more_cities)\n",
        "cities"
      ],
      "execution_count": 30,
      "outputs": [
        {
          "output_type": "execute_result",
          "data": {
            "text/plain": [
              "['brussels',\n",
              " 'delhi',\n",
              " 'london',\n",
              " 'oslo',\n",
              " 'paris',\n",
              " 'seattle',\n",
              " 'washington',\n",
              " 'brussels',\n",
              " 'copenhagen']"
            ]
          },
          "metadata": {},
          "execution_count": 30
        }
      ]
    },
    {
      "cell_type": "code",
      "metadata": {
        "colab": {
          "base_uri": "https://localhost:8080/"
        },
        "id": "85vK0OphvrZp",
        "outputId": "78b5610a-d1cb-44c5-ab7d-dcaa0f7aac9d"
      },
      "source": [
        "cities.remove(\"brussels\")\n",
        "cities"
      ],
      "execution_count": 31,
      "outputs": [
        {
          "output_type": "execute_result",
          "data": {
            "text/plain": [
              "['delhi',\n",
              " 'london',\n",
              " 'oslo',\n",
              " 'paris',\n",
              " 'seattle',\n",
              " 'washington',\n",
              " 'brussels',\n",
              " 'copenhagen']"
            ]
          },
          "metadata": {},
          "execution_count": 31
        }
      ]
    },
    {
      "cell_type": "markdown",
      "metadata": {
        "id": "owGl3PpgvrZq"
      },
      "source": [
        "### Thank You"
      ]
    }
  ]
}