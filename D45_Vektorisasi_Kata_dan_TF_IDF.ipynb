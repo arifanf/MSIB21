{
  "nbformat": 4,
  "nbformat_minor": 0,
  "metadata": {
    "colab": {
      "name": "D45_Vektorisasi Kata dan TF-IDF.ipynb",
      "provenance": [],
      "collapsed_sections": [],
      "include_colab_link": true
    },
    "kernelspec": {
      "name": "python3",
      "display_name": "Python 3"
    },
    "language_info": {
      "name": "python"
    }
  },
  "cells": [
    {
      "cell_type": "markdown",
      "metadata": {
        "id": "view-in-github",
        "colab_type": "text"
      },
      "source": [
        "<a href=\"https://colab.research.google.com/github/arifanf/MSIB21/blob/main/D45_Vektorisasi_Kata_dan_TF_IDF.ipynb\" target=\"_parent\"><img src=\"https://colab.research.google.com/assets/colab-badge.svg\" alt=\"Open In Colab\"/></a>"
      ]
    },
    {
      "cell_type": "markdown",
      "metadata": {
        "id": "GBy-j51XCvmW"
      },
      "source": [
        "Day 45 - 22 Oktober 2021"
      ]
    },
    {
      "cell_type": "code",
      "metadata": {
        "id": "RP6hW8NDVzaI"
      },
      "source": [
        "# Import Library yang dibutuhkan\n",
        "\n",
        "import nltk\n",
        "from nltk.tokenize import word_tokenize\n",
        "from gensim.models import Word2Vec\n",
        "import re"
      ],
      "execution_count": 1,
      "outputs": []
    },
    {
      "cell_type": "code",
      "metadata": {
        "colab": {
          "base_uri": "https://localhost:8080/"
        },
        "id": "gKe7ZPUfmjYA",
        "outputId": "3a841440-1f6a-4232-b2a0-939f5362762a"
      },
      "source": [
        "nltk.download('punkt')"
      ],
      "execution_count": 2,
      "outputs": [
        {
          "output_type": "stream",
          "name": "stdout",
          "text": [
            "[nltk_data] Downloading package punkt to /root/nltk_data...\n",
            "[nltk_data]   Unzipping tokenizers/punkt.zip.\n"
          ]
        },
        {
          "output_type": "execute_result",
          "data": {
            "text/plain": [
              "True"
            ]
          },
          "metadata": {},
          "execution_count": 2
        }
      ]
    },
    {
      "cell_type": "code",
      "metadata": {
        "id": "rmfhSdxekrEh"
      },
      "source": [
        "komentar = [\n",
        "          \"Pengiriman cepat, kualitas produk baik, penjual ramah\",\n",
        "          \"Produk tidak sesuai gambar, tapi memang sesuai harga\",\n",
        "          \"penjual responsif dan ramah, produk berfungsi dengan baik\",\n",
        "          \"Lumayan untuk harga segini sudah dapat produk bagus\",\n",
        "          \"Tidak sesuai ekspektasi, produk berbeda dengan gambar\",\n",
        "          \"Sejauh ini yaaa lumayan sih, tidak berkespektasi tinggi, sesuai lah sama harga, tengkyuu\",\n",
        "          \"Barang cepat sampai dan sesuai pesanan Packing rapi dan harga recommended\",\n",
        "          \"Barang sdh diterima..packing aman...sampainya cepet...jenis dan jumlahnya sesuai pesenan..makase yah\",\n",
        "          \"seller ramah, tapi di pengirimanya lama\",\n",
        "          \"realpic,barang sesuai pesenan..terimakasih seller,sukses terus..\",\n",
        "          \"Barang bagus aku sering beli produk ini..yamagata okeee..\",\n",
        "          \"seller gak responsif, ga sesuai gambar\",\n",
        "          \"barang ok, kualitas ok\",\n",
        "          \"harga sesuai sama barangnya, not bad lah\",\n",
        "          \"wajar sih ada harga, ada barang\",\n",
        "          \"mantap, kualitas ok sesuai pic\",\n",
        "          \"recommended pokoknya\",\n",
        "          \"kualitas ok, seller ramah, pengiriman cepat\",\n",
        "          \"toko nya gak recommended, seller kurang responsif\",\n",
        "          \"ok barangnya, recommended sellernya\"\n",
        "\n",
        "\n",
        "]"
      ],
      "execution_count": 3,
      "outputs": []
    },
    {
      "cell_type": "code",
      "metadata": {
        "colab": {
          "base_uri": "https://localhost:8080/"
        },
        "id": "QX4OeAmEmsdL",
        "outputId": "e7fde315-00eb-413d-c0d7-72bf7bcdd15b"
      },
      "source": [
        "komentar = [re.sub(r'[,.]', '', k) for k in komentar]\n",
        "komentar"
      ],
      "execution_count": 4,
      "outputs": [
        {
          "output_type": "execute_result",
          "data": {
            "text/plain": [
              "['Pengiriman cepat kualitas produk baik penjual ramah',\n",
              " 'Produk tidak sesuai gambar tapi memang sesuai harga',\n",
              " 'penjual responsif dan ramah produk berfungsi dengan baik',\n",
              " 'Lumayan untuk harga segini sudah dapat produk bagus',\n",
              " 'Tidak sesuai ekspektasi produk berbeda dengan gambar',\n",
              " 'Sejauh ini yaaa lumayan sih tidak berkespektasi tinggi sesuai lah sama harga tengkyuu',\n",
              " 'Barang cepat sampai dan sesuai pesanan Packing rapi dan harga recommended',\n",
              " 'Barang sdh diterimapacking amansampainya cepetjenis dan jumlahnya sesuai pesenanmakase yah',\n",
              " 'seller ramah tapi di pengirimanya lama',\n",
              " 'realpicbarang sesuai pesenanterimakasih sellersukses terus',\n",
              " 'Barang bagus aku sering beli produk iniyamagata okeee',\n",
              " 'seller gak responsif ga sesuai gambar',\n",
              " 'barang ok kualitas ok',\n",
              " 'harga sesuai sama barangnya not bad lah',\n",
              " 'wajar sih ada harga ada barang',\n",
              " 'mantap kualitas ok sesuai pic',\n",
              " 'recommended pokoknya',\n",
              " 'kualitas ok seller ramah pengiriman cepat',\n",
              " 'toko nya gak recommended seller kurang responsif',\n",
              " 'ok barangnya recommended sellernya']"
            ]
          },
          "metadata": {},
          "execution_count": 4
        }
      ]
    },
    {
      "cell_type": "code",
      "metadata": {
        "colab": {
          "base_uri": "https://localhost:8080/"
        },
        "id": "KJPae-LBmH3N",
        "outputId": "8ad57490-4423-4e74-971c-b6ab1a82022c"
      },
      "source": [
        "corpus = [word_tokenize(k.lower()) for k in komentar]\n",
        "corpus"
      ],
      "execution_count": 5,
      "outputs": [
        {
          "output_type": "execute_result",
          "data": {
            "text/plain": [
              "[['pengiriman', 'cepat', 'kualitas', 'produk', 'baik', 'penjual', 'ramah'],\n",
              " ['produk', 'tidak', 'sesuai', 'gambar', 'tapi', 'memang', 'sesuai', 'harga'],\n",
              " ['penjual',\n",
              "  'responsif',\n",
              "  'dan',\n",
              "  'ramah',\n",
              "  'produk',\n",
              "  'berfungsi',\n",
              "  'dengan',\n",
              "  'baik'],\n",
              " ['lumayan', 'untuk', 'harga', 'segini', 'sudah', 'dapat', 'produk', 'bagus'],\n",
              " ['tidak', 'sesuai', 'ekspektasi', 'produk', 'berbeda', 'dengan', 'gambar'],\n",
              " ['sejauh',\n",
              "  'ini',\n",
              "  'yaaa',\n",
              "  'lumayan',\n",
              "  'sih',\n",
              "  'tidak',\n",
              "  'berkespektasi',\n",
              "  'tinggi',\n",
              "  'sesuai',\n",
              "  'lah',\n",
              "  'sama',\n",
              "  'harga',\n",
              "  'tengkyuu'],\n",
              " ['barang',\n",
              "  'cepat',\n",
              "  'sampai',\n",
              "  'dan',\n",
              "  'sesuai',\n",
              "  'pesanan',\n",
              "  'packing',\n",
              "  'rapi',\n",
              "  'dan',\n",
              "  'harga',\n",
              "  'recommended'],\n",
              " ['barang',\n",
              "  'sdh',\n",
              "  'diterimapacking',\n",
              "  'amansampainya',\n",
              "  'cepetjenis',\n",
              "  'dan',\n",
              "  'jumlahnya',\n",
              "  'sesuai',\n",
              "  'pesenanmakase',\n",
              "  'yah'],\n",
              " ['seller', 'ramah', 'tapi', 'di', 'pengirimanya', 'lama'],\n",
              " ['realpicbarang', 'sesuai', 'pesenanterimakasih', 'sellersukses', 'terus'],\n",
              " ['barang',\n",
              "  'bagus',\n",
              "  'aku',\n",
              "  'sering',\n",
              "  'beli',\n",
              "  'produk',\n",
              "  'iniyamagata',\n",
              "  'okeee'],\n",
              " ['seller', 'gak', 'responsif', 'ga', 'sesuai', 'gambar'],\n",
              " ['barang', 'ok', 'kualitas', 'ok'],\n",
              " ['harga', 'sesuai', 'sama', 'barangnya', 'not', 'bad', 'lah'],\n",
              " ['wajar', 'sih', 'ada', 'harga', 'ada', 'barang'],\n",
              " ['mantap', 'kualitas', 'ok', 'sesuai', 'pic'],\n",
              " ['recommended', 'pokoknya'],\n",
              " ['kualitas', 'ok', 'seller', 'ramah', 'pengiriman', 'cepat'],\n",
              " ['toko', 'nya', 'gak', 'recommended', 'seller', 'kurang', 'responsif'],\n",
              " ['ok', 'barangnya', 'recommended', 'sellernya']]"
            ]
          },
          "metadata": {},
          "execution_count": 5
        }
      ]
    },
    {
      "cell_type": "markdown",
      "metadata": {
        "id": "ilqs6oh8nJyx"
      },
      "source": [
        "## Train Word2Vec Model"
      ]
    },
    {
      "cell_type": "code",
      "metadata": {
        "id": "Zr3eUJ0Tmfmt"
      },
      "source": [
        "model = Word2Vec(corpus, size=100, window=5, workers=2, min_count=1, iter=100)"
      ],
      "execution_count": 6,
      "outputs": []
    },
    {
      "cell_type": "markdown",
      "metadata": {
        "id": "W3GOj9NDobAK"
      },
      "source": [
        "## Menyimpan model"
      ]
    },
    {
      "cell_type": "code",
      "metadata": {
        "id": "4me7Ne3gn3OM"
      },
      "source": [
        "model.save(\"komentar_app.w2v\")"
      ],
      "execution_count": 7,
      "outputs": []
    },
    {
      "cell_type": "markdown",
      "metadata": {
        "id": "6_RJ3olWocLH"
      },
      "source": [
        "## Load Model\n",
        "> Menggunakan pretrained model (model yang sudah dibuat sebelumnya)"
      ]
    },
    {
      "cell_type": "code",
      "metadata": {
        "id": "LIRAsG-Jn9Hn"
      },
      "source": [
        "model = Word2Vec.load(\"komentar_app.w2v\")"
      ],
      "execution_count": 8,
      "outputs": []
    },
    {
      "cell_type": "markdown",
      "metadata": {
        "id": "X6jijQCcorCg"
      },
      "source": [
        "## Menampilkan Informasi dari Model yang Sudah Dibuat"
      ]
    },
    {
      "cell_type": "code",
      "metadata": {
        "id": "XCc72C54ot_w"
      },
      "source": [
        "# model.wv adalah Word Vector dari Model yang sudah dibuat\n",
        "w2v = model.wv"
      ],
      "execution_count": 9,
      "outputs": []
    },
    {
      "cell_type": "code",
      "metadata": {
        "colab": {
          "base_uri": "https://localhost:8080/"
        },
        "id": "ZKrvWt9Io422",
        "outputId": "fc035360-1a87-4cc6-fb27-d8a52367c029"
      },
      "source": [
        "# Menampilkan semua vocabulary yang sudah di-train\n",
        "w2v.index2word"
      ],
      "execution_count": 10,
      "outputs": [
        {
          "output_type": "execute_result",
          "data": {
            "text/plain": [
              "['sesuai',\n",
              " 'produk',\n",
              " 'harga',\n",
              " 'barang',\n",
              " 'ok',\n",
              " 'kualitas',\n",
              " 'ramah',\n",
              " 'dan',\n",
              " 'recommended',\n",
              " 'seller',\n",
              " 'cepat',\n",
              " 'tidak',\n",
              " 'gambar',\n",
              " 'responsif',\n",
              " 'pengiriman',\n",
              " 'baik',\n",
              " 'penjual',\n",
              " 'tapi',\n",
              " 'dengan',\n",
              " 'lumayan',\n",
              " 'bagus',\n",
              " 'sih',\n",
              " 'lah',\n",
              " 'sama',\n",
              " 'gak',\n",
              " 'barangnya',\n",
              " 'ada',\n",
              " 'memang',\n",
              " 'berfungsi',\n",
              " 'untuk',\n",
              " 'segini',\n",
              " 'sudah',\n",
              " 'dapat',\n",
              " 'ekspektasi',\n",
              " 'berbeda',\n",
              " 'sejauh',\n",
              " 'ini',\n",
              " 'yaaa',\n",
              " 'berkespektasi',\n",
              " 'tinggi',\n",
              " 'tengkyuu',\n",
              " 'sampai',\n",
              " 'pesanan',\n",
              " 'packing',\n",
              " 'rapi',\n",
              " 'sdh',\n",
              " 'diterimapacking',\n",
              " 'amansampainya',\n",
              " 'cepetjenis',\n",
              " 'jumlahnya',\n",
              " 'pesenanmakase',\n",
              " 'yah',\n",
              " 'di',\n",
              " 'pengirimanya',\n",
              " 'lama',\n",
              " 'realpicbarang',\n",
              " 'pesenanterimakasih',\n",
              " 'sellersukses',\n",
              " 'terus',\n",
              " 'aku',\n",
              " 'sering',\n",
              " 'beli',\n",
              " 'iniyamagata',\n",
              " 'okeee',\n",
              " 'ga',\n",
              " 'not',\n",
              " 'bad',\n",
              " 'wajar',\n",
              " 'mantap',\n",
              " 'pic',\n",
              " 'pokoknya',\n",
              " 'toko',\n",
              " 'nya',\n",
              " 'kurang',\n",
              " 'sellernya']"
            ]
          },
          "metadata": {},
          "execution_count": 10
        }
      ]
    },
    {
      "cell_type": "code",
      "metadata": {
        "colab": {
          "base_uri": "https://localhost:8080/"
        },
        "id": "cINrhrKWpDwK",
        "outputId": "e3d4cd80-11e3-4bc2-a5aa-e95f9f2f0bbf"
      },
      "source": [
        "# Menampilkan vector yang sudah dibuat dari dokumen teks\n",
        "w2v.vectors"
      ],
      "execution_count": 11,
      "outputs": [
        {
          "output_type": "execute_result",
          "data": {
            "text/plain": [
              "array([[-1.9627430e-03, -2.9296067e-03, -2.8162330e-04, ...,\n",
              "         1.5945245e-04,  3.7403270e-03, -8.0789364e-04],\n",
              "       [-1.7297971e-03, -6.8961275e-03,  5.3044278e-03, ...,\n",
              "        -3.6713816e-03, -3.0534810e-03,  1.5763144e-03],\n",
              "       [ 2.9022575e-03, -9.3470756e-03,  5.9404150e-03, ...,\n",
              "        -1.6725200e-03, -6.5669743e-04,  2.6908813e-03],\n",
              "       ...,\n",
              "       [ 8.0043479e-04,  1.4807385e-03,  1.9621609e-03, ...,\n",
              "         4.0627001e-03,  1.4228639e-03,  2.2379703e-05],\n",
              "       [-4.3391953e-03, -2.5714939e-03,  3.5109888e-03, ...,\n",
              "        -4.5526456e-03,  2.0878948e-03, -9.2278729e-04],\n",
              "       [-2.4918856e-03, -2.2124571e-03,  2.9546602e-04, ...,\n",
              "         1.3365014e-03, -2.5063574e-03, -1.3891426e-05]], dtype=float32)"
            ]
          },
          "metadata": {},
          "execution_count": 11
        }
      ]
    },
    {
      "cell_type": "code",
      "metadata": {
        "colab": {
          "base_uri": "https://localhost:8080/"
        },
        "id": "lyQPHKDQpfLi",
        "outputId": "48d41490-9749-44b7-bed9-4ad86f8cb52e"
      },
      "source": [
        "# Menampilkan ukuran vektor\n",
        "w2v.vector_size"
      ],
      "execution_count": 12,
      "outputs": [
        {
          "output_type": "execute_result",
          "data": {
            "text/plain": [
              "100"
            ]
          },
          "metadata": {},
          "execution_count": 12
        }
      ]
    },
    {
      "cell_type": "code",
      "metadata": {
        "colab": {
          "base_uri": "https://localhost:8080/"
        },
        "id": "u1htiGu_p36V",
        "outputId": "f7f0c803-cbe9-4869-af25-9ee4fcd7a97d"
      },
      "source": [
        "# Menampilkan vektor kata yang terdapat pada vocabulary\n",
        "w2v['berbeda']"
      ],
      "execution_count": 13,
      "outputs": [
        {
          "output_type": "execute_result",
          "data": {
            "text/plain": [
              "array([ 1.6936233e-03, -3.7386846e-03,  5.2017220e-03,  2.7968714e-03,\n",
              "       -6.4672031e-03,  1.9599595e-03,  3.6976954e-03,  5.1883790e-03,\n",
              "        3.9577852e-03,  3.8113873e-03,  5.1143225e-03,  3.5587330e-03,\n",
              "       -8.4271317e-04, -1.3156967e-05, -5.7403892e-03, -1.9584771e-03,\n",
              "       -4.2991852e-03,  1.9114440e-03, -3.7193887e-03,  4.1117812e-05,\n",
              "        1.2065106e-03, -1.3075601e-03, -3.4686865e-03,  1.7665649e-03,\n",
              "        2.4600895e-03, -3.2710370e-03,  3.2109774e-03, -1.2343508e-03,\n",
              "       -1.7132699e-03,  3.8851181e-03, -4.5974548e-03, -1.6693724e-03,\n",
              "       -2.0840443e-03, -4.3624714e-03, -4.2840447e-03, -3.8506279e-03,\n",
              "        3.0025996e-03,  3.1307365e-03, -5.4014553e-03,  5.1470655e-03,\n",
              "        1.8248267e-03, -1.4380354e-03,  4.0038996e-03, -3.6782564e-03,\n",
              "        1.8770852e-03,  5.3521483e-03,  4.0912074e-03, -3.4897664e-04,\n",
              "       -5.4511395e-03, -3.5219658e-05,  1.4295278e-03,  4.6137930e-04,\n",
              "       -4.2538401e-03,  1.5201349e-03,  2.4285717e-03,  2.7682493e-03,\n",
              "       -2.2020447e-03, -6.1425446e-03, -4.0948694e-03, -2.4901838e-03,\n",
              "       -3.5389303e-03,  5.3509329e-03,  3.2357647e-04, -1.6523117e-03,\n",
              "        1.5831344e-04,  5.5116694e-03,  2.3246179e-03,  5.7875772e-04,\n",
              "       -1.7928435e-03, -4.3140207e-03,  5.4358258e-03,  6.8923659e-03,\n",
              "       -3.3227080e-03,  3.2316782e-03,  2.4647657e-03,  8.0425618e-04,\n",
              "        2.8826860e-03, -5.0927969e-03,  4.0947958e-03,  2.6548030e-03,\n",
              "       -3.2415115e-03,  2.0276608e-03, -6.0628373e-03,  5.0020344e-03,\n",
              "        4.5660222e-03, -4.0386831e-03, -3.3719433e-03, -3.8160451e-03,\n",
              "        1.2452805e-03,  2.2575550e-03,  9.4968278e-04,  3.5056910e-03,\n",
              "        1.9768730e-03,  3.5643992e-03, -5.0656581e-03, -2.8905718e-04,\n",
              "        3.8112151e-03, -2.1412976e-04,  1.3543487e-03,  5.4033677e-04],\n",
              "      dtype=float32)"
            ]
          },
          "metadata": {},
          "execution_count": 13
        }
      ]
    },
    {
      "cell_type": "markdown",
      "metadata": {
        "id": "TPklgZ0AqX4O"
      },
      "source": [
        "## Sanity Check\n",
        "> Untuk mengetahui apakah model yang sudah kita train sudah memiliki makna atau masih perlu dilakukan training lanjutan"
      ]
    },
    {
      "cell_type": "markdown",
      "metadata": {
        "id": "LYb7IP93qin1"
      },
      "source": [
        "### Similar Word"
      ]
    },
    {
      "cell_type": "code",
      "metadata": {
        "colab": {
          "base_uri": "https://localhost:8080/"
        },
        "id": "-0xUDnlFp-6n",
        "outputId": "20df7d0f-2929-4db8-f0b5-963f71792e81"
      },
      "source": [
        "# Menampilkan kata yang memiliki kemiripan makna dengan kata `produk`\n",
        "# atau dalam kata lain yaitu melihat hubungan semantik dari kata `produk` dengan kata lainnya.\n",
        "w2v.similar_by_word(\"produk\", topn=5)"
      ],
      "execution_count": 14,
      "outputs": [
        {
          "output_type": "execute_result",
          "data": {
            "text/plain": [
              "[('sesuai', 0.6545201539993286),\n",
              " ('barang', 0.6364656090736389),\n",
              " ('beli', 0.6299790740013123),\n",
              " ('dan', 0.6279106736183167),\n",
              " ('harga', 0.6243358850479126)]"
            ]
          },
          "metadata": {},
          "execution_count": 14
        }
      ]
    },
    {
      "cell_type": "markdown",
      "metadata": {
        "id": "AZ7e5HNHte2X"
      },
      "source": [
        "---"
      ]
    },
    {
      "cell_type": "markdown",
      "metadata": {
        "id": "4VvPSHL9tawr"
      },
      "source": [
        "## TF-IDF"
      ]
    },
    {
      "cell_type": "code",
      "metadata": {
        "colab": {
          "base_uri": "https://localhost:8080/"
        },
        "id": "AEnPHEPH1uzL",
        "outputId": "4bcf7f35-b9ea-4131-e23d-d39dbf21557f"
      },
      "source": [
        "# Menggunakan dataset yang sama seperti pada Word2vec. \n",
        "komentar"
      ],
      "execution_count": 15,
      "outputs": [
        {
          "output_type": "execute_result",
          "data": {
            "text/plain": [
              "['Pengiriman cepat kualitas produk baik penjual ramah',\n",
              " 'Produk tidak sesuai gambar tapi memang sesuai harga',\n",
              " 'penjual responsif dan ramah produk berfungsi dengan baik',\n",
              " 'Lumayan untuk harga segini sudah dapat produk bagus',\n",
              " 'Tidak sesuai ekspektasi produk berbeda dengan gambar',\n",
              " 'Sejauh ini yaaa lumayan sih tidak berkespektasi tinggi sesuai lah sama harga tengkyuu',\n",
              " 'Barang cepat sampai dan sesuai pesanan Packing rapi dan harga recommended',\n",
              " 'Barang sdh diterimapacking amansampainya cepetjenis dan jumlahnya sesuai pesenanmakase yah',\n",
              " 'seller ramah tapi di pengirimanya lama',\n",
              " 'realpicbarang sesuai pesenanterimakasih sellersukses terus',\n",
              " 'Barang bagus aku sering beli produk iniyamagata okeee',\n",
              " 'seller gak responsif ga sesuai gambar',\n",
              " 'barang ok kualitas ok',\n",
              " 'harga sesuai sama barangnya not bad lah',\n",
              " 'wajar sih ada harga ada barang',\n",
              " 'mantap kualitas ok sesuai pic',\n",
              " 'recommended pokoknya',\n",
              " 'kualitas ok seller ramah pengiriman cepat',\n",
              " 'toko nya gak recommended seller kurang responsif',\n",
              " 'ok barangnya recommended sellernya']"
            ]
          },
          "metadata": {},
          "execution_count": 15
        }
      ]
    },
    {
      "cell_type": "code",
      "metadata": {
        "id": "DYJzS0h9shOE"
      },
      "source": [
        "# Import Library yang dibutuhkan\n",
        "from sklearn.feature_extraction.text import TfidfVectorizer\n",
        "import pandas as pd\n",
        "\n",
        "\n",
        "vectorizer = TfidfVectorizer()\n",
        "result = vectorizer.fit_transform(komentar) #tfidf"
      ],
      "execution_count": 16,
      "outputs": []
    },
    {
      "cell_type": "code",
      "metadata": {
        "colab": {
          "base_uri": "https://localhost:8080/"
        },
        "id": "Ev0sewgU15Be",
        "outputId": "604556cd-b9e5-4d07-f7d2-ffe8c1c098e4"
      },
      "source": [
        "# Menampilkan nama fitur / token dari dataset\n",
        "print(vectorizer.get_feature_names())"
      ],
      "execution_count": 17,
      "outputs": [
        {
          "output_type": "stream",
          "name": "stdout",
          "text": [
            "['ada', 'aku', 'amansampainya', 'bad', 'bagus', 'baik', 'barang', 'barangnya', 'beli', 'berbeda', 'berfungsi', 'berkespektasi', 'cepat', 'cepetjenis', 'dan', 'dapat', 'dengan', 'di', 'diterimapacking', 'ekspektasi', 'ga', 'gak', 'gambar', 'harga', 'ini', 'iniyamagata', 'jumlahnya', 'kualitas', 'kurang', 'lah', 'lama', 'lumayan', 'mantap', 'memang', 'not', 'nya', 'ok', 'okeee', 'packing', 'pengiriman', 'pengirimanya', 'penjual', 'pesanan', 'pesenanmakase', 'pesenanterimakasih', 'pic', 'pokoknya', 'produk', 'ramah', 'rapi', 'realpicbarang', 'recommended', 'responsif', 'sama', 'sampai', 'sdh', 'segini', 'sejauh', 'seller', 'sellernya', 'sellersukses', 'sering', 'sesuai', 'sih', 'sudah', 'tapi', 'tengkyuu', 'terus', 'tidak', 'tinggi', 'toko', 'untuk', 'wajar', 'yaaa', 'yah']\n"
          ]
        },
        {
          "output_type": "stream",
          "name": "stderr",
          "text": [
            "/usr/local/lib/python3.7/dist-packages/sklearn/utils/deprecation.py:87: FutureWarning: Function get_feature_names is deprecated; get_feature_names is deprecated in 1.0 and will be removed in 1.2. Please use get_feature_names_out instead.\n",
            "  warnings.warn(msg, category=FutureWarning)\n"
          ]
        }
      ]
    },
    {
      "cell_type": "code",
      "metadata": {
        "colab": {
          "base_uri": "https://localhost:8080/"
        },
        "id": "zKAohjpG10w5",
        "outputId": "cb555a24-1b37-4da9-c1df-8bb47268ea2a"
      },
      "source": [
        "# Menampilkan hasil vektor kata\n",
        "print(result)"
      ],
      "execution_count": 18,
      "outputs": [
        {
          "output_type": "stream",
          "name": "stdout",
          "text": [
            "  (0, 48)\t0.3465815374891616\n",
            "  (0, 41)\t0.41928650039086696\n",
            "  (0, 5)\t0.41928650039086696\n",
            "  (0, 47)\t0.29869200269909457\n",
            "  (0, 27)\t0.3465815374891616\n",
            "  (0, 12)\t0.37834118866023614\n",
            "  (0, 39)\t0.41928650039086696\n",
            "  (1, 23)\t0.28300722075106505\n",
            "  (1, 33)\t0.45194789068240265\n",
            "  (1, 65)\t0.39726911367493173\n",
            "  (1, 22)\t0.35847390399084283\n",
            "  (1, 62)\t0.469816029684285\n",
            "  (1, 68)\t0.35847390399084283\n",
            "  (1, 47)\t0.28300722075106505\n",
            "  (2, 16)\t0.3749390439666552\n",
            "  (2, 10)\t0.42654438571296155\n",
            "  (2, 14)\t0.3383244713036003\n",
            "  (2, 52)\t0.3383244713036003\n",
            "  (2, 48)\t0.3099240023266685\n",
            "  (2, 41)\t0.3749390439666552\n",
            "  (2, 5)\t0.3749390439666552\n",
            "  (2, 47)\t0.26709968918170196\n",
            "  (3, 4)\t0.34938895927010233\n",
            "  (3, 15)\t0.39747767378425\n",
            "  (3, 64)\t0.39747767378425\n",
            "  :\t:\n",
            "  (14, 23)\t0.2434393668525939\n",
            "  (15, 45)\t0.5483233810014905\n",
            "  (15, 32)\t0.5483233810014905\n",
            "  (15, 36)\t0.39840772145019154\n",
            "  (15, 62)\t0.2850009029317661\n",
            "  (15, 27)\t0.39840772145019154\n",
            "  (16, 46)\t0.8089977238779507\n",
            "  (16, 51)\t0.5878117749418559\n",
            "  (17, 36)\t0.3876308990254831\n",
            "  (17, 58)\t0.3876308990254831\n",
            "  (17, 48)\t0.3876308990254831\n",
            "  (17, 27)\t0.3876308990254831\n",
            "  (17, 12)\t0.4231521856622946\n",
            "  (17, 39)\t0.46894708896847387\n",
            "  (18, 28)\t0.42805188921603476\n",
            "  (18, 35)\t0.42805188921603476\n",
            "  (18, 70)\t0.42805188921603476\n",
            "  (18, 21)\t0.3762641626205414\n",
            "  (18, 58)\t0.31101934324508895\n",
            "  (18, 51)\t0.31101934324508895\n",
            "  (18, 52)\t0.33952018584761684\n",
            "  (19, 59)\t0.5945915275476735\n",
            "  (19, 7)\t0.5226550538621318\n",
            "  (19, 36)\t0.43202581522456274\n",
            "  (19, 51)\t0.43202581522456274\n"
          ]
        }
      ]
    },
    {
      "cell_type": "markdown",
      "metadata": {
        "id": "gvtQRTZX8Llu"
      },
      "source": [
        "**(4, 16)\t0.21680124922897376**\n",
        "Artinya:\n",
        "> Terdapat kata dengan index ke-16 pada `vectorizer.get_feature_names()` dalam dokumen ke-5 (index dari nol)\n",
        ">\n",
        "> dengan bobot TF-IDF 0.21680124922897376"
      ]
    },
    {
      "cell_type": "code",
      "metadata": {
        "colab": {
          "base_uri": "https://localhost:8080/"
        },
        "id": "Cx-59-0B8POw",
        "outputId": "d4b4fa07-3ef3-44db-c591-84a3fc2f6b76"
      },
      "source": [
        "print(f\"Teks dokumen ke-{4+1}:\\n{komentar[4]}\")\n",
        "print(f\"Fitur Name ke-16: {vectorizer.get_feature_names()[16]}\")"
      ],
      "execution_count": 19,
      "outputs": [
        {
          "output_type": "stream",
          "name": "stdout",
          "text": [
            "Teks dokumen ke-5:\n",
            "Tidak sesuai ekspektasi produk berbeda dengan gambar\n",
            "Fitur Name ke-16: dengan\n"
          ]
        },
        {
          "output_type": "stream",
          "name": "stderr",
          "text": [
            "/usr/local/lib/python3.7/dist-packages/sklearn/utils/deprecation.py:87: FutureWarning: Function get_feature_names is deprecated; get_feature_names is deprecated in 1.0 and will be removed in 1.2. Please use get_feature_names_out instead.\n",
            "  warnings.warn(msg, category=FutureWarning)\n"
          ]
        }
      ]
    },
    {
      "cell_type": "markdown",
      "metadata": {
        "id": "QDZxrB4p8STH"
      },
      "source": [
        "> Dapat diketahui bahwa di dalam dokumen ke-1 (index ke-0) terdapat kata produk"
      ]
    },
    {
      "cell_type": "code",
      "metadata": {
        "colab": {
          "base_uri": "https://localhost:8080/"
        },
        "id": "SDBhuCu-2V7Z",
        "outputId": "646f6317-b09a-4d5b-dabf-8ecafe7af712"
      },
      "source": [
        "# Menampilkan hasil TF-IDF dalam bentuk list dua dimensi\n",
        "result.todense()"
      ],
      "execution_count": 20,
      "outputs": [
        {
          "output_type": "execute_result",
          "data": {
            "text/plain": [
              "matrix([[0., 0., 0., ..., 0., 0., 0.],\n",
              "        [0., 0., 0., ..., 0., 0., 0.],\n",
              "        [0., 0., 0., ..., 0., 0., 0.],\n",
              "        ...,\n",
              "        [0., 0., 0., ..., 0., 0., 0.],\n",
              "        [0., 0., 0., ..., 0., 0., 0.],\n",
              "        [0., 0., 0., ..., 0., 0., 0.]])"
            ]
          },
          "metadata": {},
          "execution_count": 20
        }
      ]
    },
    {
      "cell_type": "code",
      "metadata": {
        "colab": {
          "base_uri": "https://localhost:8080/",
          "height": 480
        },
        "id": "9j2RVkIb2ZkT",
        "outputId": "48c7b2ca-954e-4384-a3f4-d2583d408e27"
      },
      "source": [
        "# Membuat dataframe dari list dua dimensi tersebut. \n",
        "# Dilakukan transpose agar nama kolom berubah menjadi nama baris\n",
        "# Nama kolom diubah menjadi urutan dokumen\n",
        "df = pd.DataFrame(result.todense().T,\n",
        "                  index=vectorizer.get_feature_names(),\n",
        "                  columns=[f\"D{i+1}\" for i in range(len(komentar))])\n",
        "df"
      ],
      "execution_count": 21,
      "outputs": [
        {
          "output_type": "stream",
          "name": "stderr",
          "text": [
            "/usr/local/lib/python3.7/dist-packages/sklearn/utils/deprecation.py:87: FutureWarning: Function get_feature_names is deprecated; get_feature_names is deprecated in 1.0 and will be removed in 1.2. Please use get_feature_names_out instead.\n",
            "  warnings.warn(msg, category=FutureWarning)\n"
          ]
        },
        {
          "output_type": "execute_result",
          "data": {
            "text/html": [
              "<div>\n",
              "<style scoped>\n",
              "    .dataframe tbody tr th:only-of-type {\n",
              "        vertical-align: middle;\n",
              "    }\n",
              "\n",
              "    .dataframe tbody tr th {\n",
              "        vertical-align: top;\n",
              "    }\n",
              "\n",
              "    .dataframe thead th {\n",
              "        text-align: right;\n",
              "    }\n",
              "</style>\n",
              "<table border=\"1\" class=\"dataframe\">\n",
              "  <thead>\n",
              "    <tr style=\"text-align: right;\">\n",
              "      <th></th>\n",
              "      <th>D1</th>\n",
              "      <th>D2</th>\n",
              "      <th>D3</th>\n",
              "      <th>D4</th>\n",
              "      <th>D5</th>\n",
              "      <th>D6</th>\n",
              "      <th>D7</th>\n",
              "      <th>D8</th>\n",
              "      <th>D9</th>\n",
              "      <th>D10</th>\n",
              "      <th>D11</th>\n",
              "      <th>D12</th>\n",
              "      <th>D13</th>\n",
              "      <th>D14</th>\n",
              "      <th>D15</th>\n",
              "      <th>D16</th>\n",
              "      <th>D17</th>\n",
              "      <th>D18</th>\n",
              "      <th>D19</th>\n",
              "      <th>D20</th>\n",
              "    </tr>\n",
              "  </thead>\n",
              "  <tbody>\n",
              "    <tr>\n",
              "      <th>ada</th>\n",
              "      <td>0.0</td>\n",
              "      <td>0.0</td>\n",
              "      <td>0.0</td>\n",
              "      <td>0.000000</td>\n",
              "      <td>0.0</td>\n",
              "      <td>0.000000</td>\n",
              "      <td>0.0</td>\n",
              "      <td>0.000000</td>\n",
              "      <td>0.0</td>\n",
              "      <td>0.0</td>\n",
              "      <td>0.000000</td>\n",
              "      <td>0.0</td>\n",
              "      <td>0.0</td>\n",
              "      <td>0.000000</td>\n",
              "      <td>0.77752</td>\n",
              "      <td>0.0</td>\n",
              "      <td>0.0</td>\n",
              "      <td>0.0</td>\n",
              "      <td>0.000000</td>\n",
              "      <td>0.0</td>\n",
              "    </tr>\n",
              "    <tr>\n",
              "      <th>aku</th>\n",
              "      <td>0.0</td>\n",
              "      <td>0.0</td>\n",
              "      <td>0.0</td>\n",
              "      <td>0.000000</td>\n",
              "      <td>0.0</td>\n",
              "      <td>0.000000</td>\n",
              "      <td>0.0</td>\n",
              "      <td>0.000000</td>\n",
              "      <td>0.0</td>\n",
              "      <td>0.0</td>\n",
              "      <td>0.388760</td>\n",
              "      <td>0.0</td>\n",
              "      <td>0.0</td>\n",
              "      <td>0.000000</td>\n",
              "      <td>0.00000</td>\n",
              "      <td>0.0</td>\n",
              "      <td>0.0</td>\n",
              "      <td>0.0</td>\n",
              "      <td>0.000000</td>\n",
              "      <td>0.0</td>\n",
              "    </tr>\n",
              "    <tr>\n",
              "      <th>amansampainya</th>\n",
              "      <td>0.0</td>\n",
              "      <td>0.0</td>\n",
              "      <td>0.0</td>\n",
              "      <td>0.000000</td>\n",
              "      <td>0.0</td>\n",
              "      <td>0.000000</td>\n",
              "      <td>0.0</td>\n",
              "      <td>0.346041</td>\n",
              "      <td>0.0</td>\n",
              "      <td>0.0</td>\n",
              "      <td>0.000000</td>\n",
              "      <td>0.0</td>\n",
              "      <td>0.0</td>\n",
              "      <td>0.000000</td>\n",
              "      <td>0.00000</td>\n",
              "      <td>0.0</td>\n",
              "      <td>0.0</td>\n",
              "      <td>0.0</td>\n",
              "      <td>0.000000</td>\n",
              "      <td>0.0</td>\n",
              "    </tr>\n",
              "    <tr>\n",
              "      <th>bad</th>\n",
              "      <td>0.0</td>\n",
              "      <td>0.0</td>\n",
              "      <td>0.0</td>\n",
              "      <td>0.000000</td>\n",
              "      <td>0.0</td>\n",
              "      <td>0.000000</td>\n",
              "      <td>0.0</td>\n",
              "      <td>0.000000</td>\n",
              "      <td>0.0</td>\n",
              "      <td>0.0</td>\n",
              "      <td>0.000000</td>\n",
              "      <td>0.0</td>\n",
              "      <td>0.0</td>\n",
              "      <td>0.448098</td>\n",
              "      <td>0.00000</td>\n",
              "      <td>0.0</td>\n",
              "      <td>0.0</td>\n",
              "      <td>0.0</td>\n",
              "      <td>0.000000</td>\n",
              "      <td>0.0</td>\n",
              "    </tr>\n",
              "    <tr>\n",
              "      <th>bagus</th>\n",
              "      <td>0.0</td>\n",
              "      <td>0.0</td>\n",
              "      <td>0.0</td>\n",
              "      <td>0.349389</td>\n",
              "      <td>0.0</td>\n",
              "      <td>0.000000</td>\n",
              "      <td>0.0</td>\n",
              "      <td>0.000000</td>\n",
              "      <td>0.0</td>\n",
              "      <td>0.0</td>\n",
              "      <td>0.341726</td>\n",
              "      <td>0.0</td>\n",
              "      <td>0.0</td>\n",
              "      <td>0.000000</td>\n",
              "      <td>0.00000</td>\n",
              "      <td>0.0</td>\n",
              "      <td>0.0</td>\n",
              "      <td>0.0</td>\n",
              "      <td>0.000000</td>\n",
              "      <td>0.0</td>\n",
              "    </tr>\n",
              "    <tr>\n",
              "      <th>...</th>\n",
              "      <td>...</td>\n",
              "      <td>...</td>\n",
              "      <td>...</td>\n",
              "      <td>...</td>\n",
              "      <td>...</td>\n",
              "      <td>...</td>\n",
              "      <td>...</td>\n",
              "      <td>...</td>\n",
              "      <td>...</td>\n",
              "      <td>...</td>\n",
              "      <td>...</td>\n",
              "      <td>...</td>\n",
              "      <td>...</td>\n",
              "      <td>...</td>\n",
              "      <td>...</td>\n",
              "      <td>...</td>\n",
              "      <td>...</td>\n",
              "      <td>...</td>\n",
              "      <td>...</td>\n",
              "      <td>...</td>\n",
              "    </tr>\n",
              "    <tr>\n",
              "      <th>toko</th>\n",
              "      <td>0.0</td>\n",
              "      <td>0.0</td>\n",
              "      <td>0.0</td>\n",
              "      <td>0.000000</td>\n",
              "      <td>0.0</td>\n",
              "      <td>0.000000</td>\n",
              "      <td>0.0</td>\n",
              "      <td>0.000000</td>\n",
              "      <td>0.0</td>\n",
              "      <td>0.0</td>\n",
              "      <td>0.000000</td>\n",
              "      <td>0.0</td>\n",
              "      <td>0.0</td>\n",
              "      <td>0.000000</td>\n",
              "      <td>0.00000</td>\n",
              "      <td>0.0</td>\n",
              "      <td>0.0</td>\n",
              "      <td>0.0</td>\n",
              "      <td>0.428052</td>\n",
              "      <td>0.0</td>\n",
              "    </tr>\n",
              "    <tr>\n",
              "      <th>untuk</th>\n",
              "      <td>0.0</td>\n",
              "      <td>0.0</td>\n",
              "      <td>0.0</td>\n",
              "      <td>0.397478</td>\n",
              "      <td>0.0</td>\n",
              "      <td>0.000000</td>\n",
              "      <td>0.0</td>\n",
              "      <td>0.000000</td>\n",
              "      <td>0.0</td>\n",
              "      <td>0.0</td>\n",
              "      <td>0.000000</td>\n",
              "      <td>0.0</td>\n",
              "      <td>0.0</td>\n",
              "      <td>0.000000</td>\n",
              "      <td>0.00000</td>\n",
              "      <td>0.0</td>\n",
              "      <td>0.0</td>\n",
              "      <td>0.0</td>\n",
              "      <td>0.000000</td>\n",
              "      <td>0.0</td>\n",
              "    </tr>\n",
              "    <tr>\n",
              "      <th>wajar</th>\n",
              "      <td>0.0</td>\n",
              "      <td>0.0</td>\n",
              "      <td>0.0</td>\n",
              "      <td>0.000000</td>\n",
              "      <td>0.0</td>\n",
              "      <td>0.000000</td>\n",
              "      <td>0.0</td>\n",
              "      <td>0.000000</td>\n",
              "      <td>0.0</td>\n",
              "      <td>0.0</td>\n",
              "      <td>0.000000</td>\n",
              "      <td>0.0</td>\n",
              "      <td>0.0</td>\n",
              "      <td>0.000000</td>\n",
              "      <td>0.38876</td>\n",
              "      <td>0.0</td>\n",
              "      <td>0.0</td>\n",
              "      <td>0.0</td>\n",
              "      <td>0.000000</td>\n",
              "      <td>0.0</td>\n",
              "    </tr>\n",
              "    <tr>\n",
              "      <th>yaaa</th>\n",
              "      <td>0.0</td>\n",
              "      <td>0.0</td>\n",
              "      <td>0.0</td>\n",
              "      <td>0.000000</td>\n",
              "      <td>0.0</td>\n",
              "      <td>0.310354</td>\n",
              "      <td>0.0</td>\n",
              "      <td>0.000000</td>\n",
              "      <td>0.0</td>\n",
              "      <td>0.0</td>\n",
              "      <td>0.000000</td>\n",
              "      <td>0.0</td>\n",
              "      <td>0.0</td>\n",
              "      <td>0.000000</td>\n",
              "      <td>0.00000</td>\n",
              "      <td>0.0</td>\n",
              "      <td>0.0</td>\n",
              "      <td>0.0</td>\n",
              "      <td>0.000000</td>\n",
              "      <td>0.0</td>\n",
              "    </tr>\n",
              "    <tr>\n",
              "      <th>yah</th>\n",
              "      <td>0.0</td>\n",
              "      <td>0.0</td>\n",
              "      <td>0.0</td>\n",
              "      <td>0.000000</td>\n",
              "      <td>0.0</td>\n",
              "      <td>0.000000</td>\n",
              "      <td>0.0</td>\n",
              "      <td>0.346041</td>\n",
              "      <td>0.0</td>\n",
              "      <td>0.0</td>\n",
              "      <td>0.000000</td>\n",
              "      <td>0.0</td>\n",
              "      <td>0.0</td>\n",
              "      <td>0.000000</td>\n",
              "      <td>0.00000</td>\n",
              "      <td>0.0</td>\n",
              "      <td>0.0</td>\n",
              "      <td>0.0</td>\n",
              "      <td>0.000000</td>\n",
              "      <td>0.0</td>\n",
              "    </tr>\n",
              "  </tbody>\n",
              "</table>\n",
              "<p>75 rows × 20 columns</p>\n",
              "</div>"
            ],
            "text/plain": [
              "                D1   D2   D3        D4   D5  ...  D16  D17  D18       D19  D20\n",
              "ada            0.0  0.0  0.0  0.000000  0.0  ...  0.0  0.0  0.0  0.000000  0.0\n",
              "aku            0.0  0.0  0.0  0.000000  0.0  ...  0.0  0.0  0.0  0.000000  0.0\n",
              "amansampainya  0.0  0.0  0.0  0.000000  0.0  ...  0.0  0.0  0.0  0.000000  0.0\n",
              "bad            0.0  0.0  0.0  0.000000  0.0  ...  0.0  0.0  0.0  0.000000  0.0\n",
              "bagus          0.0  0.0  0.0  0.349389  0.0  ...  0.0  0.0  0.0  0.000000  0.0\n",
              "...            ...  ...  ...       ...  ...  ...  ...  ...  ...       ...  ...\n",
              "toko           0.0  0.0  0.0  0.000000  0.0  ...  0.0  0.0  0.0  0.428052  0.0\n",
              "untuk          0.0  0.0  0.0  0.397478  0.0  ...  0.0  0.0  0.0  0.000000  0.0\n",
              "wajar          0.0  0.0  0.0  0.000000  0.0  ...  0.0  0.0  0.0  0.000000  0.0\n",
              "yaaa           0.0  0.0  0.0  0.000000  0.0  ...  0.0  0.0  0.0  0.000000  0.0\n",
              "yah            0.0  0.0  0.0  0.000000  0.0  ...  0.0  0.0  0.0  0.000000  0.0\n",
              "\n",
              "[75 rows x 20 columns]"
            ]
          },
          "metadata": {},
          "execution_count": 21
        }
      ]
    },
    {
      "cell_type": "markdown",
      "metadata": {
        "id": "1ODlrrrp9H3b"
      },
      "source": [
        "Kata **tidak** memiliki bobot lebih tinggi pada dokumen ke-5 daripada bobot pada dokumen ke-2"
      ]
    }
  ]
}