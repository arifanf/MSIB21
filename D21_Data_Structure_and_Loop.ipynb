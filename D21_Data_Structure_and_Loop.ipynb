{
  "nbformat": 4,
  "nbformat_minor": 0,
  "metadata": {
    "kernelspec": {
      "display_name": "Python 3",
      "language": "python",
      "name": "python3"
    },
    "language_info": {
      "codemirror_mode": {
        "name": "ipython",
        "version": 3
      },
      "file_extension": ".py",
      "mimetype": "text/x-python",
      "name": "python",
      "nbconvert_exporter": "python",
      "pygments_lexer": "ipython3",
      "version": "3.7.4"
    },
    "colab": {
      "name": "D21_Data Structure and Loop.ipynb",
      "provenance": [],
      "collapsed_sections": [
        "8jKdBElXEW2x",
        "pb8yjbXeEdzg",
        "rJBym-RsEnD8",
        "1NK8gL0JEw8A",
        "nDVySl02E-Gw",
        "0S72zf0-FG1-",
        "17O_F0saFTDC",
        "0w-I67LVFYSW",
        "o4xhmy1MFhCw",
        "z0Gieq5XFoZz",
        "apzQ0tQPFp4b",
        "g8hpXRUoFwOF",
        "cV2sdDooF3pB",
        "OX_dRXEZF-ks",
        "jEBmY40ZGHEp",
        "7A2zzaXlGLZY",
        "b7ylqiccGScY",
        "NAEcPKGhGW0j"
      ],
      "include_colab_link": true
    }
  },
  "cells": [
    {
      "cell_type": "markdown",
      "metadata": {
        "id": "view-in-github",
        "colab_type": "text"
      },
      "source": [
        "<a href=\"https://colab.research.google.com/github/arifanf/MSIB21/blob/main/D21_Data_Structure_and_Loop.ipynb\" target=\"_parent\"><img src=\"https://colab.research.google.com/assets/colab-badge.svg\" alt=\"Open In Colab\"/></a>"
      ]
    },
    {
      "cell_type": "markdown",
      "metadata": {
        "id": "yMYZvdbxcFQu"
      },
      "source": [
        "Day21 - Selasa, 21 September 2021"
      ]
    },
    {
      "cell_type": "code",
      "metadata": {
        "id": "_KC6jw7EDb4Y",
        "colab": {
          "base_uri": "https://localhost:8080/"
        },
        "outputId": "9545a456-b784-48d3-cab9-ca167c5389be"
      },
      "source": [
        "# 1. Membuat Tuple dan Cek typenya\n",
        "fruits = (\"apple\", \"banana\", \"cherry\", \"orange\", \"kiwi\", \"melon\", \"mango\")\n",
        "type(fruits)"
      ],
      "execution_count": null,
      "outputs": [
        {
          "output_type": "execute_result",
          "data": {
            "text/plain": [
              "tuple"
            ]
          },
          "metadata": {},
          "execution_count": 1
        }
      ]
    },
    {
      "cell_type": "code",
      "metadata": {
        "colab": {
          "base_uri": "https://localhost:8080/"
        },
        "id": "EZ8B8SrscBOD",
        "outputId": "456c1d02-e81b-49ba-c889-a43dd0e4859b"
      },
      "source": [
        "fruits"
      ],
      "execution_count": null,
      "outputs": [
        {
          "output_type": "execute_result",
          "data": {
            "text/plain": [
              "('apple', 'banana', 'cherry', 'orange', 'kiwi', 'melon', 'mango')"
            ]
          },
          "metadata": {},
          "execution_count": 36
        }
      ]
    },
    {
      "cell_type": "code",
      "metadata": {
        "id": "5_GIrWuxDb4f",
        "colab": {
          "base_uri": "https://localhost:8080/"
        },
        "outputId": "85f62f01-2d4f-4c65-c69a-6c16d4ca3984"
      },
      "source": [
        "len(fruits)"
      ],
      "execution_count": null,
      "outputs": [
        {
          "output_type": "execute_result",
          "data": {
            "text/plain": [
              "7"
            ]
          },
          "metadata": {},
          "execution_count": 2
        }
      ]
    },
    {
      "cell_type": "code",
      "metadata": {
        "id": "NUWUY_m8Db4g",
        "colab": {
          "base_uri": "https://localhost:8080/"
        },
        "outputId": "9e0be3ed-7601-4718-c3f3-e0f944aa70ea"
      },
      "source": [
        "# 2. Ambil item apple sebanyak 2, orange 1, mango 3\n",
        "# Simpan dengan nama variable add\n",
        "add = fruits[0],fruits[0],fruits[3],fruits[6],fruits[6],fruits[6]\n",
        "add"
      ],
      "execution_count": null,
      "outputs": [
        {
          "output_type": "execute_result",
          "data": {
            "text/plain": [
              "('apple', 'apple', 'orange', 'mango', 'mango', 'mango')"
            ]
          },
          "metadata": {},
          "execution_count": 3
        }
      ]
    },
    {
      "cell_type": "code",
      "metadata": {
        "id": "Vj5PnI_dDb4h",
        "colab": {
          "base_uri": "https://localhost:8080/"
        },
        "outputId": "06df9efb-5b1c-4c58-9410-802d38998da1"
      },
      "source": [
        "# 3. Buat variable new dengan berisi gabungkan variable add dengan variable fruits\n",
        "# Urutkan isi variable new\n",
        "new = fruits + add\n",
        "sorted(new)"
      ],
      "execution_count": null,
      "outputs": [
        {
          "output_type": "execute_result",
          "data": {
            "text/plain": [
              "['apple',\n",
              " 'apple',\n",
              " 'apple',\n",
              " 'banana',\n",
              " 'cherry',\n",
              " 'kiwi',\n",
              " 'mango',\n",
              " 'mango',\n",
              " 'mango',\n",
              " 'mango',\n",
              " 'melon',\n",
              " 'orange',\n",
              " 'orange']"
            ]
          },
          "metadata": {},
          "execution_count": 4
        }
      ]
    },
    {
      "cell_type": "code",
      "metadata": {
        "id": "mlamlGIfDb4i",
        "colab": {
          "base_uri": "https://localhost:8080/"
        },
        "outputId": "b37ee9a6-e365-4b26-a377-3d5aba21ac4b"
      },
      "source": [
        "# 4. Ubah variable new dari type data tuple menjadi set\n",
        "# Tambahkan item pear\n",
        "# Hitung jumlah itemnya\n",
        "new = set(new)\n",
        "new.add(\"pear\")\n",
        "print(new)\n",
        "len(new)"
      ],
      "execution_count": null,
      "outputs": [
        {
          "output_type": "stream",
          "name": "stdout",
          "text": [
            "{'cherry', 'pear', 'banana', 'mango', 'apple', 'orange', 'melon', 'kiwi'}\n"
          ]
        },
        {
          "output_type": "execute_result",
          "data": {
            "text/plain": [
              "8"
            ]
          },
          "metadata": {},
          "execution_count": 5
        }
      ]
    },
    {
      "cell_type": "code",
      "metadata": {
        "colab": {
          "base_uri": "https://localhost:8080/"
        },
        "id": "GofrK3umcYQB",
        "outputId": "54111ea8-76df-4217-af08-7dd034caae0e"
      },
      "source": [
        "new_fruits = frozenset(new)\n",
        "new_fruits"
      ],
      "execution_count": null,
      "outputs": [
        {
          "output_type": "execute_result",
          "data": {
            "text/plain": [
              "frozenset({'apple',\n",
              "           'banana',\n",
              "           'cherry',\n",
              "           'kiwi',\n",
              "           'mango',\n",
              "           'melon',\n",
              "           'orange',\n",
              "           'pear'})"
            ]
          },
          "metadata": {},
          "execution_count": 37
        }
      ]
    },
    {
      "cell_type": "code",
      "metadata": {
        "id": "EBnddDR3Db4j",
        "colab": {
          "base_uri": "https://localhost:8080/"
        },
        "outputId": "427601fd-5e2c-49c9-c7d6-5622b0bc5405"
      },
      "source": [
        "# 5. Buat variable cars dengan ketentuan\n",
        "cars = {\"Toyota Vios\":270000000,\n",
        "       \"Toyota Yaris\":235000000,\n",
        "       \"Honda Civic\":400000000,\n",
        "       \"Nissan Skyline\":690000000,\n",
        "       \"Honda City\":312000000}\n",
        "print(cars)\n",
        "type(cars)"
      ],
      "execution_count": null,
      "outputs": [
        {
          "output_type": "stream",
          "name": "stdout",
          "text": [
            "{'Toyota Vios': 270000000, 'Toyota Yaris': 235000000, 'Honda Civic': 400000000, 'Nissan Skyline': 690000000, 'Honda City': 312000000}\n"
          ]
        },
        {
          "output_type": "execute_result",
          "data": {
            "text/plain": [
              "dict"
            ]
          },
          "metadata": {},
          "execution_count": 6
        }
      ]
    },
    {
      "cell_type": "code",
      "metadata": {
        "id": "K212n2kYDb4j",
        "colab": {
          "base_uri": "https://localhost:8080/"
        },
        "outputId": "a2190ef8-a099-482b-b5ea-7b0277aad7ee"
      },
      "source": [
        "# 6. Tambahkan key dan value dibawah ini\n",
        "# BMW M3:1900000000\n",
        "# urutkan berdasarkan item\n",
        "cars[\"BMW M3\"]=1900000000\n",
        "sorted(cars.items())"
      ],
      "execution_count": null,
      "outputs": [
        {
          "output_type": "execute_result",
          "data": {
            "text/plain": [
              "[('BMW M3', 1900000000),\n",
              " ('Honda City', 312000000),\n",
              " ('Honda Civic', 400000000),\n",
              " ('Nissan Skyline', 690000000),\n",
              " ('Toyota Vios', 270000000),\n",
              " ('Toyota Yaris', 235000000)]"
            ]
          },
          "metadata": {},
          "execution_count": 7
        }
      ]
    },
    {
      "cell_type": "code",
      "metadata": {
        "id": "4sOqIKrsDb4l",
        "colab": {
          "base_uri": "https://localhost:8080/"
        },
        "outputId": "ed5b9017-91e5-494e-e83d-7255855c6853"
      },
      "source": [
        "# 7. Ubah value Nissan Skyline menjadi 641000000\n",
        "cars[\"Nissan Skyline\"] = 641000000\n",
        "cars"
      ],
      "execution_count": null,
      "outputs": [
        {
          "output_type": "execute_result",
          "data": {
            "text/plain": [
              "{'BMW M3': 1900000000,\n",
              " 'Honda City': 312000000,\n",
              " 'Honda Civic': 400000000,\n",
              " 'Nissan Skyline': 641000000,\n",
              " 'Toyota Vios': 270000000,\n",
              " 'Toyota Yaris': 235000000}"
            ]
          },
          "metadata": {},
          "execution_count": 8
        }
      ]
    },
    {
      "cell_type": "code",
      "metadata": {
        "id": "rXYPc80ODb4m",
        "colab": {
          "base_uri": "https://localhost:8080/"
        },
        "outputId": "7b5bb2e7-170d-496e-cba6-7e71d4ec890d"
      },
      "source": [
        "# 8. Ubah key Nissan Skyline menjadi Honda Accord\n",
        "# Cara 1\n",
        "cars[\"Honda Accord\"] = cars.pop(\"Nissan Skyline\")\n",
        "cars"
      ],
      "execution_count": null,
      "outputs": [
        {
          "output_type": "execute_result",
          "data": {
            "text/plain": [
              "{'BMW M3': 1900000000,\n",
              " 'Honda Accord': 641000000,\n",
              " 'Honda City': 312000000,\n",
              " 'Honda Civic': 400000000,\n",
              " 'Toyota Vios': 270000000,\n",
              " 'Toyota Yaris': 235000000}"
            ]
          },
          "metadata": {},
          "execution_count": 9
        }
      ]
    },
    {
      "cell_type": "code",
      "metadata": {
        "id": "3p-aeLmfDb4n"
      },
      "source": [
        "# 8. Ubah key Nissan Skyline menjadi Honda Accord\n",
        "# Cara 2\n",
        "#cars[\"Honda Accord\"] = cars[\"Nissan Skyline\"]\n",
        "#del cars[\"Nissan Skyline\"]\n",
        "#cars"
      ],
      "execution_count": null,
      "outputs": []
    },
    {
      "cell_type": "code",
      "metadata": {
        "id": "4qE-Rd1kDb4o",
        "colab": {
          "base_uri": "https://localhost:8080/"
        },
        "outputId": "ff0ab24f-3b09-4eda-b085-514df33d78e3"
      },
      "source": [
        "# 9. Buat variable cars_set dengan type data set berisi value dari variable cars\n",
        "# buat variable cars_total dengan berisi total dari seluruh item \n",
        "# cetak hasilnya\n",
        "cars_set = set(cars.values())\n",
        "cars_total = sum(cars_set)\n",
        "cars_total"
      ],
      "execution_count": null,
      "outputs": [
        {
          "output_type": "execute_result",
          "data": {
            "text/plain": [
              "3758000000"
            ]
          },
          "metadata": {},
          "execution_count": 11
        }
      ]
    },
    {
      "cell_type": "code",
      "metadata": {
        "id": "T_4naestDb4o",
        "colab": {
          "base_uri": "https://localhost:8080/"
        },
        "outputId": "d6204fea-1442-4785-ed89-78cac7d56b4e"
      },
      "source": [
        "# 10. Tambahkan key Total pada variable cars dengan value cars_total\n",
        "# cetak hasilnya\n",
        "cars[\"Total\"] = cars_total\n",
        "cars"
      ],
      "execution_count": null,
      "outputs": [
        {
          "output_type": "execute_result",
          "data": {
            "text/plain": [
              "{'BMW M3': 1900000000,\n",
              " 'Honda Accord': 641000000,\n",
              " 'Honda City': 312000000,\n",
              " 'Honda Civic': 400000000,\n",
              " 'Total': 3758000000,\n",
              " 'Toyota Vios': 270000000,\n",
              " 'Toyota Yaris': 235000000}"
            ]
          },
          "metadata": {},
          "execution_count": 12
        }
      ]
    },
    {
      "cell_type": "markdown",
      "metadata": {
        "id": "SKWohIAoDfF5"
      },
      "source": [
        "# Conditional Test\n",
        "\n",
        "A conditional test is an expression that can be evaluated as True or False. Python uses the values True and False to decide whether the code in an if statement should be executed.\n",
        "\n",
        "```\n",
        "# This is formatted as code\n",
        "```\n",
        "\n"
      ]
    },
    {
      "cell_type": "markdown",
      "metadata": {
        "id": "8jKdBElXEW2x"
      },
      "source": [
        "### Checking for equality \n",
        "A single equal sign assigns a value to a variable. A double equal sign (==) checks whether two values are equal.\n"
      ]
    },
    {
      "cell_type": "code",
      "metadata": {
        "colab": {
          "base_uri": "https://localhost:8080/"
        },
        "id": "6DOQ0pGtEb43",
        "outputId": "7dc61d63-dd0e-44e6-da07-25be3e9d5664"
      },
      "source": [
        "car = 'bmw' \n",
        "car == 'bmw' "
      ],
      "execution_count": null,
      "outputs": [
        {
          "output_type": "execute_result",
          "data": {
            "text/plain": [
              "True"
            ]
          },
          "metadata": {},
          "execution_count": 13
        }
      ]
    },
    {
      "cell_type": "markdown",
      "metadata": {
        "id": "pb8yjbXeEdzg"
      },
      "source": [
        "### Ignoring case when making a comparison. "
      ]
    },
    {
      "cell_type": "code",
      "metadata": {
        "colab": {
          "base_uri": "https://localhost:8080/"
        },
        "id": "b10Nhxf8Ejpp",
        "outputId": "65ebc9de-d0e3-42dd-9b3e-6d82b8258cd5"
      },
      "source": [
        "car = 'Audi' \n",
        "car.lower() == 'audi'"
      ],
      "execution_count": null,
      "outputs": [
        {
          "output_type": "execute_result",
          "data": {
            "text/plain": [
              "True"
            ]
          },
          "metadata": {},
          "execution_count": 14
        }
      ]
    },
    {
      "cell_type": "markdown",
      "metadata": {
        "id": "rJBym-RsEnD8"
      },
      "source": [
        "### Checking for inequality"
      ]
    },
    {
      "cell_type": "code",
      "metadata": {
        "id": "hWnaCoTOErR5",
        "colab": {
          "base_uri": "https://localhost:8080/"
        },
        "outputId": "3a08c816-30e6-4420-c894-a9e2379dab4f"
      },
      "source": [
        "topping = 'mushrooms' \n",
        "topping != 'anchovies'"
      ],
      "execution_count": null,
      "outputs": [
        {
          "output_type": "execute_result",
          "data": {
            "text/plain": [
              "True"
            ]
          },
          "metadata": {},
          "execution_count": 15
        }
      ]
    },
    {
      "cell_type": "markdown",
      "metadata": {
        "id": "VKnuMeE-Et2x"
      },
      "source": [
        "# Numerical comparison\n",
        "\n",
        "Testing numerical values is similar to testing string values."
      ]
    },
    {
      "cell_type": "markdown",
      "metadata": {
        "id": "1NK8gL0JEw8A"
      },
      "source": [
        "### Testing equality and inequality"
      ]
    },
    {
      "cell_type": "code",
      "metadata": {
        "id": "jSnNidCYEze3",
        "colab": {
          "base_uri": "https://localhost:8080/"
        },
        "outputId": "6aafdfca-4dcf-44db-bab4-37379091cc89"
      },
      "source": [
        "age = 18 \n",
        "age == 18"
      ],
      "execution_count": null,
      "outputs": [
        {
          "output_type": "execute_result",
          "data": {
            "text/plain": [
              "True"
            ]
          },
          "metadata": {},
          "execution_count": 16
        }
      ]
    },
    {
      "cell_type": "code",
      "metadata": {
        "id": "YJC3VigxE1bb",
        "colab": {
          "base_uri": "https://localhost:8080/"
        },
        "outputId": "cb339165-4fa0-4033-d25d-f467fe020c71"
      },
      "source": [
        "age = 18 \n",
        "age != 18"
      ],
      "execution_count": null,
      "outputs": [
        {
          "output_type": "execute_result",
          "data": {
            "text/plain": [
              "False"
            ]
          },
          "metadata": {},
          "execution_count": 17
        }
      ]
    },
    {
      "cell_type": "code",
      "metadata": {
        "id": "pKcP5KBrE4ls",
        "colab": {
          "base_uri": "https://localhost:8080/"
        },
        "outputId": "8c08db2d-b51e-418d-df62-8cf78fb9b099"
      },
      "source": [
        "age = 19 \n",
        "age < 21"
      ],
      "execution_count": null,
      "outputs": [
        {
          "output_type": "execute_result",
          "data": {
            "text/plain": [
              "True"
            ]
          },
          "metadata": {},
          "execution_count": 18
        }
      ]
    },
    {
      "cell_type": "code",
      "metadata": {
        "id": "UbQRFLtlE6cX",
        "colab": {
          "base_uri": "https://localhost:8080/"
        },
        "outputId": "93eb8138-3dba-4e0a-c7c6-1814bd2dea6f"
      },
      "source": [
        "age = 19 \n",
        "age > 21 "
      ],
      "execution_count": null,
      "outputs": [
        {
          "output_type": "execute_result",
          "data": {
            "text/plain": [
              "False"
            ]
          },
          "metadata": {},
          "execution_count": 19
        }
      ]
    },
    {
      "cell_type": "markdown",
      "metadata": {
        "id": "c5PGMHqIE7rw"
      },
      "source": [
        "# Checking multiple conditions\n",
        "\n",
        "You can check multiple conditions at the same time. The and operator returns True if all conditions listed are True. The or operator returns True if any condition is True\n"
      ]
    },
    {
      "cell_type": "markdown",
      "metadata": {
        "id": "nDVySl02E-Gw"
      },
      "source": [
        "### Using 'and' to check multiple conditions\n"
      ]
    },
    {
      "cell_type": "code",
      "metadata": {
        "id": "Pzm4zyPtFBDc",
        "colab": {
          "base_uri": "https://localhost:8080/"
        },
        "outputId": "7e941f87-8077-4d3a-8255-8add3cacc8d7"
      },
      "source": [
        "age_0 = 22\n",
        "age_1 = 18\n",
        "age_0 >= 21 and age_1 >= 21"
      ],
      "execution_count": null,
      "outputs": [
        {
          "output_type": "execute_result",
          "data": {
            "text/plain": [
              "False"
            ]
          },
          "metadata": {},
          "execution_count": 20
        }
      ]
    },
    {
      "cell_type": "code",
      "metadata": {
        "id": "ExJC68ryFDdF",
        "colab": {
          "base_uri": "https://localhost:8080/"
        },
        "outputId": "a0327477-c404-4f79-abca-f20a86630290"
      },
      "source": [
        "age_0 = 22\n",
        "age_1 = 23\n",
        "age_0 >= 21 and age_1 >= 21"
      ],
      "execution_count": null,
      "outputs": [
        {
          "output_type": "execute_result",
          "data": {
            "text/plain": [
              "True"
            ]
          },
          "metadata": {},
          "execution_count": 21
        }
      ]
    },
    {
      "cell_type": "markdown",
      "metadata": {
        "id": "0S72zf0-FG1-"
      },
      "source": [
        "### Using 'or' to check multiple conditions\n"
      ]
    },
    {
      "cell_type": "code",
      "metadata": {
        "id": "KSY8ABrUFKys",
        "colab": {
          "base_uri": "https://localhost:8080/"
        },
        "outputId": "ca9fe154-b9d7-45f7-dbb3-094a743e3bfe"
      },
      "source": [
        "age_0 = 22\n",
        "age_1 = 18\n",
        "age_0 >= 21 or age_1 >= 21"
      ],
      "execution_count": null,
      "outputs": [
        {
          "output_type": "execute_result",
          "data": {
            "text/plain": [
              "True"
            ]
          },
          "metadata": {},
          "execution_count": 22
        }
      ]
    },
    {
      "cell_type": "code",
      "metadata": {
        "id": "bO4Vfv5-FNbK",
        "colab": {
          "base_uri": "https://localhost:8080/"
        },
        "outputId": "39c5b4a6-b0b0-49fb-e785-19a8996e1981"
      },
      "source": [
        "age_0 = 18\n",
        "age_1 = 18\n",
        "age_0 >= 21 or age_1 >= 21"
      ],
      "execution_count": null,
      "outputs": [
        {
          "output_type": "execute_result",
          "data": {
            "text/plain": [
              "False"
            ]
          },
          "metadata": {},
          "execution_count": 23
        }
      ]
    },
    {
      "cell_type": "markdown",
      "metadata": {
        "id": "L0cSRKJGFQS_"
      },
      "source": [
        "# if statements\n",
        "\n",
        "Several kinds of if statements exist. Your choice of which to use depends on the number of conditions you need to test. You can have as many elif block as you need, and the else block is always optional"
      ]
    },
    {
      "cell_type": "markdown",
      "metadata": {
        "id": "17O_F0saFTDC"
      },
      "source": [
        "### Simple if statement\n"
      ]
    },
    {
      "cell_type": "code",
      "metadata": {
        "id": "pF5s47-NFVfQ",
        "colab": {
          "base_uri": "https://localhost:8080/"
        },
        "outputId": "f8491723-e7a9-4f24-ae16-e8a7d6717219"
      },
      "source": [
        "age = 19\n",
        "\n",
        "if age >= 18:\n",
        "\tprint(\"You're old enough to vote!\")"
      ],
      "execution_count": null,
      "outputs": [
        {
          "output_type": "stream",
          "name": "stdout",
          "text": [
            "You're old enough to vote!\n"
          ]
        }
      ]
    },
    {
      "cell_type": "markdown",
      "metadata": {
        "id": "0w-I67LVFYSW"
      },
      "source": [
        "### if-else-statements"
      ]
    },
    {
      "cell_type": "code",
      "metadata": {
        "id": "UdnviOBrFbOy",
        "colab": {
          "base_uri": "https://localhost:8080/"
        },
        "outputId": "cd46fbd6-da9a-4816-a251-b6d88b3846b5"
      },
      "source": [
        "age = 17\n",
        "\n",
        "if age >= 18:\n",
        "\tprint(\"You're old enough to vote!\")\n",
        "else:\n",
        "\tprint(\"You can’t vote yet.\")"
      ],
      "execution_count": null,
      "outputs": [
        {
          "output_type": "stream",
          "name": "stdout",
          "text": [
            "You can’t vote yet.\n"
          ]
        }
      ]
    },
    {
      "cell_type": "markdown",
      "metadata": {
        "id": "Myj0V11WFd4L"
      },
      "source": [
        "# Conditional test with list\n",
        "\n",
        "You can easily test whether a certain value is in a list. You can also test whether a list is empty before trying to loop through the list."
      ]
    },
    {
      "cell_type": "markdown",
      "metadata": {
        "id": "o4xhmy1MFhCw"
      },
      "source": [
        "### Testing if a value is in a list"
      ]
    },
    {
      "cell_type": "code",
      "metadata": {
        "id": "_1ZxSAA7FjU0",
        "colab": {
          "base_uri": "https://localhost:8080/"
        },
        "outputId": "ffa1e8e5-455f-4ee7-9520-15a3245c70fa"
      },
      "source": [
        "players = ['al', 'bea', 'cyn', 'dale']\n",
        "'al' in players "
      ],
      "execution_count": null,
      "outputs": [
        {
          "output_type": "execute_result",
          "data": {
            "text/plain": [
              "True"
            ]
          },
          "metadata": {},
          "execution_count": 26
        }
      ]
    },
    {
      "cell_type": "code",
      "metadata": {
        "id": "8gwVfzTnFmQH",
        "colab": {
          "base_uri": "https://localhost:8080/"
        },
        "outputId": "f86fb508-632c-4433-b69c-6b7282f2c049"
      },
      "source": [
        "players = ['al', 'bea', 'cyn', 'dale']\n",
        "'eric' in players"
      ],
      "execution_count": null,
      "outputs": [
        {
          "output_type": "execute_result",
          "data": {
            "text/plain": [
              "False"
            ]
          },
          "metadata": {},
          "execution_count": 27
        }
      ]
    },
    {
      "cell_type": "markdown",
      "metadata": {
        "id": "z0Gieq5XFoZz"
      },
      "source": [
        "### Conditional test with lists (cont.)"
      ]
    },
    {
      "cell_type": "markdown",
      "metadata": {
        "id": "apzQ0tQPFp4b"
      },
      "source": [
        "### Testing if a value is not in a list\n"
      ]
    },
    {
      "cell_type": "code",
      "metadata": {
        "id": "WXr1WZXvFtca",
        "colab": {
          "base_uri": "https://localhost:8080/"
        },
        "outputId": "21820def-a56d-465b-e070-af29ce765140"
      },
      "source": [
        "banned_users = ['ann', 'chad', 'dee'] \n",
        "user = 'erin' \n",
        "\n",
        "if user not in banned_users:     \n",
        "    print(\"You can play!\")"
      ],
      "execution_count": null,
      "outputs": [
        {
          "output_type": "stream",
          "name": "stdout",
          "text": [
            "You can play!\n"
          ]
        }
      ]
    },
    {
      "cell_type": "markdown",
      "metadata": {
        "id": "g8hpXRUoFwOF"
      },
      "source": [
        "### Checking if a list is empty\n"
      ]
    },
    {
      "cell_type": "code",
      "metadata": {
        "id": "JMfZVTyvF0I0",
        "colab": {
          "base_uri": "https://localhost:8080/"
        },
        "outputId": "0d0ed829-861d-44c0-f21b-552cf47956e0"
      },
      "source": [
        "players = [] \n",
        "\n",
        "if players:     \n",
        "    for player in players:         \n",
        "        print(\"Player: \" + player.title()) \n",
        "else:     \n",
        "        print(\"We have no players yet!\") "
      ],
      "execution_count": null,
      "outputs": [
        {
          "output_type": "stream",
          "name": "stdout",
          "text": [
            "We have no players yet!\n"
          ]
        }
      ]
    },
    {
      "cell_type": "markdown",
      "metadata": {
        "id": "ckBZ-QeXF2qd"
      },
      "source": [
        "# Accepting input\n",
        "\n",
        "You can allow your users to enter input using the input() statement. In Python 3 all input is stored as a string"
      ]
    },
    {
      "cell_type": "markdown",
      "metadata": {
        "id": "cV2sdDooF3pB"
      },
      "source": [
        "### Simple input"
      ]
    },
    {
      "cell_type": "code",
      "metadata": {
        "id": "lEG052-uF6zE",
        "colab": {
          "base_uri": "https://localhost:8080/"
        },
        "outputId": "a4eacd58-ecbf-4def-c702-0d0e96bf99b8"
      },
      "source": [
        "name = input(\"What’s your name? \")\n",
        "print(\"Hello, \"+ name + \".\")"
      ],
      "execution_count": null,
      "outputs": [
        {
          "output_type": "stream",
          "name": "stdout",
          "text": [
            "What’s your name? ifa\n",
            "Hello, ifa.\n"
          ]
        }
      ]
    },
    {
      "cell_type": "markdown",
      "metadata": {
        "id": "OX_dRXEZF-ks"
      },
      "source": [
        "### Accepting numerical input"
      ]
    },
    {
      "cell_type": "code",
      "metadata": {
        "id": "kAyYJhiHGBFd",
        "colab": {
          "base_uri": "https://localhost:8080/"
        },
        "outputId": "6f7b384b-fdbb-4437-b5cc-11a539b770f3"
      },
      "source": [
        "age = input(\"How old are you? \")\n",
        "age = int(age)\n",
        "\n",
        "if age >= 18:\n",
        "\t\tprint(\"\\nYou can vote!\")\n",
        "else:\n",
        "\t\tprint(\"\\nYou can;t vote yet.\")"
      ],
      "execution_count": null,
      "outputs": [
        {
          "output_type": "stream",
          "name": "stdout",
          "text": [
            "How old are you? 20\n",
            "\n",
            "You can vote!\n"
          ]
        }
      ]
    },
    {
      "cell_type": "markdown",
      "metadata": {
        "id": "E4W8w9nKGDwz"
      },
      "source": [
        "# While loops\n",
        "\n",
        "A while loop repeats a block of code as long as a condition is True "
      ]
    },
    {
      "cell_type": "markdown",
      "metadata": {
        "id": "jEBmY40ZGHEp"
      },
      "source": [
        "### Counting to 5"
      ]
    },
    {
      "cell_type": "markdown",
      "metadata": {
        "id": "qK9z_6cUGKVy"
      },
      "source": [
        "current_number = 1 \n",
        "\n",
        "while current_number <= 5:\n",
        "    print(current_number)     \n",
        "current_number += 1"
      ]
    },
    {
      "cell_type": "markdown",
      "metadata": {
        "id": "7A2zzaXlGLZY"
      },
      "source": [
        "### Letting the user choose when to quit"
      ]
    },
    {
      "cell_type": "code",
      "metadata": {
        "id": "iPkKmC_RGPRC",
        "colab": {
          "base_uri": "https://localhost:8080/"
        },
        "outputId": "f42ed87c-929a-465f-f6be-ca2a4f3318fe"
      },
      "source": [
        "prompt = \"\\nTell me something, and I’ll \"\n",
        "prompt += \"\\repeat it back to you. \"\n",
        "prompt += \"\\nEnter ‘quit’ to end the program.\"\n",
        "\n",
        "message = \"\"\n",
        "while message != 'quit':\n",
        "    message = input(prompt)\n",
        "\n",
        "if message != 'quit':\n",
        "    print(message)"
      ],
      "execution_count": null,
      "outputs": [
        {
          "name": "stdout",
          "output_type": "stream",
          "text": [
            "\n",
            "Tell me something, and I’ll \repeat it back to you. \n",
            "Enter ‘quit’ to end the program.quit\n"
          ]
        }
      ]
    },
    {
      "cell_type": "markdown",
      "metadata": {
        "id": "b7ylqiccGScY"
      },
      "source": [
        "### Using a flag"
      ]
    },
    {
      "cell_type": "code",
      "metadata": {
        "id": "W4pZmH7ZGUV7",
        "colab": {
          "base_uri": "https://localhost:8080/"
        },
        "outputId": "2c904110-e167-4859-a9b3-576444d4d792"
      },
      "source": [
        "prompt = \"\\nTell me something, and I’ll \"\n",
        "prompt += \"\\repeat it back to you. \"\n",
        "prompt += \"\\nEnter ‘quit’ to end the program.\"\n",
        "\n",
        "active = True\n",
        "while active:\n",
        "    message = input(prompt)\n",
        "    \n",
        "    if message == 'quit':\n",
        "        active = False\n",
        "    else:\n",
        "        print(message)"
      ],
      "execution_count": null,
      "outputs": [
        {
          "name": "stdout",
          "output_type": "stream",
          "text": [
            "\n",
            "Tell me something, and I’ll \repeat it back to you. \n",
            "Enter ‘quit’ to end the program.yeh\n",
            "yeh\n",
            "\n",
            "epeat it back to you. \n",
            "Enter ‘quit’ to end the program.quit\n"
          ]
        }
      ]
    },
    {
      "cell_type": "markdown",
      "metadata": {
        "id": "NAEcPKGhGW0j"
      },
      "source": [
        "### Using break to exit a loop"
      ]
    },
    {
      "cell_type": "code",
      "metadata": {
        "id": "_KIwnjXhGYxh",
        "colab": {
          "base_uri": "https://localhost:8080/"
        },
        "outputId": "9f5e3ff0-d3b5-453e-fe79-b07e9145c28a"
      },
      "source": [
        "prompt = \"\\nWhat cities have you visited\"\n",
        "prompt += \"\\nEnter ‘quit’ when you’re done. \"\n",
        "\n",
        "while True:\n",
        "    city = input(prompt)\n",
        "\n",
        "    if city == 'quit':\n",
        "        break \n",
        "    else:\n",
        "        print(\"I’ve been to \" + city + \"!\")"
      ],
      "execution_count": null,
      "outputs": [
        {
          "name": "stdout",
          "output_type": "stream",
          "text": [
            "\n",
            "What cities have you visited\n",
            "Enter ‘quit’ when you’re done. semarang\n",
            "I’ve been to semarang!\n",
            "\n",
            "What cities have you visited\n",
            "Enter ‘quit’ when you’re done. exit\n",
            "I’ve been to exit!\n",
            "\n",
            "What cities have you visited\n",
            "Enter ‘quit’ when you’re done. quit\n"
          ]
        }
      ]
    },
    {
      "cell_type": "markdown",
      "metadata": {
        "id": "BqS0eOerGbic"
      },
      "source": [
        "# Thank You"
      ]
    }
  ]
}