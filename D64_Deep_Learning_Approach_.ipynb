{
  "nbformat": 4,
  "nbformat_minor": 0,
  "metadata": {
    "colab": {
      "name": "D64_Deep Learning Approach .ipynb",
      "provenance": [],
      "collapsed_sections": [],
      "include_colab_link": true
    },
    "kernelspec": {
      "display_name": "Python 3",
      "name": "python3"
    },
    "language_info": {
      "name": "python"
    },
    "accelerator": "GPU"
  },
  "cells": [
    {
      "cell_type": "markdown",
      "metadata": {
        "id": "view-in-github",
        "colab_type": "text"
      },
      "source": [
        "<a href=\"https://colab.research.google.com/github/arifanf/MSIB21/blob/main/D64_Deep_Learning_Approach_.ipynb\" target=\"_parent\"><img src=\"https://colab.research.google.com/assets/colab-badge.svg\" alt=\"Open In Colab\"/></a>"
      ]
    },
    {
      "cell_type": "markdown",
      "metadata": {
        "id": "A3vXB3ms5_bz"
      },
      "source": [
        "Day 64 - Kamis, 18 November 2021"
      ]
    },
    {
      "cell_type": "markdown",
      "metadata": {
        "id": "_XzVYQNdF3Jz"
      },
      "source": [
        "credit : tau-data.id"
      ]
    },
    {
      "cell_type": "markdown",
      "metadata": {
        "id": "4jFoXjVJBDYL"
      },
      "source": [
        "### Import Modul Standar"
      ]
    },
    {
      "cell_type": "code",
      "metadata": {
        "id": "H9-gyeQ5BMwk"
      },
      "source": [
        "import numpy as np\n",
        "import pandas as pd\n",
        "import matplotlib.pyplot as plt\n",
        "%matplotlib inline\n",
        "import seaborn as sns\n",
        "sns.set_theme(style=\"whitegrid\")\n",
        "import warnings\n",
        "warnings.filterwarnings(\"ignore\")\n"
      ],
      "execution_count": null,
      "outputs": []
    },
    {
      "cell_type": "markdown",
      "metadata": {
        "id": "daNevremBNjq"
      },
      "source": [
        "Import Data Konsumsi Energi dari American Electric Power (AEP) https://raw.githubusercontent.com/khsieh18/Time-Series/master/AEP_hourly.csv \n",
        "\n",
        "\n",
        "Data konsumsi energi dari American Electric Power (AEP) diimport menggunakan pandas\n",
        "Karena format datanya csv maka untuk mengimportnya menggunakan pd.read_csv()\n",
        "Setelah diimport dan simpan dalam variabel df, kita coba lihat 10 data teratas menggunakan df.head()"
      ]
    },
    {
      "cell_type": "code",
      "metadata": {
        "colab": {
          "base_uri": "https://localhost:8080/",
          "height": 358
        },
        "id": "WQDpVW--BSXs",
        "outputId": "250ae2b4-7d60-457b-d937-3d001a31f48d"
      },
      "source": [
        "df = pd.read_csv('https://raw.githubusercontent.com/khsieh18/Time-Series/master/AEP_hourly.csv')\n",
        "df.head(10)"
      ],
      "execution_count": null,
      "outputs": [
        {
          "output_type": "execute_result",
          "data": {
            "text/html": [
              "<div>\n",
              "<style scoped>\n",
              "    .dataframe tbody tr th:only-of-type {\n",
              "        vertical-align: middle;\n",
              "    }\n",
              "\n",
              "    .dataframe tbody tr th {\n",
              "        vertical-align: top;\n",
              "    }\n",
              "\n",
              "    .dataframe thead th {\n",
              "        text-align: right;\n",
              "    }\n",
              "</style>\n",
              "<table border=\"1\" class=\"dataframe\">\n",
              "  <thead>\n",
              "    <tr style=\"text-align: right;\">\n",
              "      <th></th>\n",
              "      <th>Datetime</th>\n",
              "      <th>AEP_MW</th>\n",
              "    </tr>\n",
              "  </thead>\n",
              "  <tbody>\n",
              "    <tr>\n",
              "      <th>0</th>\n",
              "      <td>2004-12-31 01:00:00</td>\n",
              "      <td>13478.0</td>\n",
              "    </tr>\n",
              "    <tr>\n",
              "      <th>1</th>\n",
              "      <td>2004-12-31 02:00:00</td>\n",
              "      <td>12865.0</td>\n",
              "    </tr>\n",
              "    <tr>\n",
              "      <th>2</th>\n",
              "      <td>2004-12-31 03:00:00</td>\n",
              "      <td>12577.0</td>\n",
              "    </tr>\n",
              "    <tr>\n",
              "      <th>3</th>\n",
              "      <td>2004-12-31 04:00:00</td>\n",
              "      <td>12517.0</td>\n",
              "    </tr>\n",
              "    <tr>\n",
              "      <th>4</th>\n",
              "      <td>2004-12-31 05:00:00</td>\n",
              "      <td>12670.0</td>\n",
              "    </tr>\n",
              "    <tr>\n",
              "      <th>5</th>\n",
              "      <td>2004-12-31 06:00:00</td>\n",
              "      <td>13038.0</td>\n",
              "    </tr>\n",
              "    <tr>\n",
              "      <th>6</th>\n",
              "      <td>2004-12-31 07:00:00</td>\n",
              "      <td>13692.0</td>\n",
              "    </tr>\n",
              "    <tr>\n",
              "      <th>7</th>\n",
              "      <td>2004-12-31 08:00:00</td>\n",
              "      <td>14297.0</td>\n",
              "    </tr>\n",
              "    <tr>\n",
              "      <th>8</th>\n",
              "      <td>2004-12-31 09:00:00</td>\n",
              "      <td>14719.0</td>\n",
              "    </tr>\n",
              "    <tr>\n",
              "      <th>9</th>\n",
              "      <td>2004-12-31 10:00:00</td>\n",
              "      <td>14941.0</td>\n",
              "    </tr>\n",
              "  </tbody>\n",
              "</table>\n",
              "</div>"
            ],
            "text/plain": [
              "              Datetime   AEP_MW\n",
              "0  2004-12-31 01:00:00  13478.0\n",
              "1  2004-12-31 02:00:00  12865.0\n",
              "2  2004-12-31 03:00:00  12577.0\n",
              "3  2004-12-31 04:00:00  12517.0\n",
              "4  2004-12-31 05:00:00  12670.0\n",
              "5  2004-12-31 06:00:00  13038.0\n",
              "6  2004-12-31 07:00:00  13692.0\n",
              "7  2004-12-31 08:00:00  14297.0\n",
              "8  2004-12-31 09:00:00  14719.0\n",
              "9  2004-12-31 10:00:00  14941.0"
            ]
          },
          "metadata": {},
          "execution_count": 2
        }
      ]
    },
    {
      "cell_type": "markdown",
      "metadata": {
        "id": "ACPBKVEnBUIC"
      },
      "source": [
        "Melihat informasi singkat dari dataframe"
      ]
    },
    {
      "cell_type": "code",
      "metadata": {
        "colab": {
          "base_uri": "https://localhost:8080/"
        },
        "id": "Hv1rayHFBWWT",
        "outputId": "bc739bba-f8a8-449a-8ef6-4c39247f1676"
      },
      "source": [
        "df.info()"
      ],
      "execution_count": null,
      "outputs": [
        {
          "output_type": "stream",
          "name": "stdout",
          "text": [
            "<class 'pandas.core.frame.DataFrame'>\n",
            "RangeIndex: 121273 entries, 0 to 121272\n",
            "Data columns (total 2 columns):\n",
            " #   Column    Non-Null Count   Dtype  \n",
            "---  ------    --------------   -----  \n",
            " 0   Datetime  121273 non-null  object \n",
            " 1   AEP_MW    121273 non-null  float64\n",
            "dtypes: float64(1), object(1)\n",
            "memory usage: 1.9+ MB\n"
          ]
        }
      ]
    },
    {
      "cell_type": "markdown",
      "metadata": {
        "id": "2t8jYeyYBdP6"
      },
      "source": [
        "Dari informasi singkat di atas, kita dapat mengetahui bahwa df terdiri dari 121273 baris.\n",
        "Selain itu, pada kolom Datetime, tipe datanya masih berupa object (string) sehingga perlu diubah menjadi tipe data datetime dengan cara berikut."
      ]
    },
    {
      "cell_type": "code",
      "metadata": {
        "colab": {
          "base_uri": "https://localhost:8080/"
        },
        "id": "KwFYtAkvBazB",
        "outputId": "85a9fd7d-093d-45e6-94e8-e593ddaea028"
      },
      "source": [
        "# merubah tipe data object to datetime\n",
        "df['Datetime'] = df['Datetime'].astype('datetime64')\n",
        "\n",
        "# melihat tipe data dataframe\n",
        "print(df.dtypes)\n"
      ],
      "execution_count": null,
      "outputs": [
        {
          "output_type": "stream",
          "name": "stdout",
          "text": [
            "Datetime    datetime64[ns]\n",
            "AEP_MW             float64\n",
            "dtype: object\n"
          ]
        }
      ]
    },
    {
      "cell_type": "markdown",
      "metadata": {
        "id": "tZRoh6haBpET"
      },
      "source": [
        "Perhatikan waktu terawal dari kolom Datetime dan 5 data teratas dari df\n"
      ]
    },
    {
      "cell_type": "code",
      "metadata": {
        "colab": {
          "base_uri": "https://localhost:8080/",
          "height": 221
        },
        "id": "GqgT4sF1BsVj",
        "outputId": "297fe807-f19d-43bb-97e3-85db7f29d7c1"
      },
      "source": [
        "print('waktu terawal dari kolom Datetime adalah:', df['Datetime'].min())\n",
        "df.head()\n"
      ],
      "execution_count": null,
      "outputs": [
        {
          "output_type": "stream",
          "name": "stdout",
          "text": [
            "waktu terawal dari kolom Datetime adalah: 2004-10-01 01:00:00\n"
          ]
        },
        {
          "output_type": "execute_result",
          "data": {
            "text/html": [
              "<div>\n",
              "<style scoped>\n",
              "    .dataframe tbody tr th:only-of-type {\n",
              "        vertical-align: middle;\n",
              "    }\n",
              "\n",
              "    .dataframe tbody tr th {\n",
              "        vertical-align: top;\n",
              "    }\n",
              "\n",
              "    .dataframe thead th {\n",
              "        text-align: right;\n",
              "    }\n",
              "</style>\n",
              "<table border=\"1\" class=\"dataframe\">\n",
              "  <thead>\n",
              "    <tr style=\"text-align: right;\">\n",
              "      <th></th>\n",
              "      <th>Datetime</th>\n",
              "      <th>AEP_MW</th>\n",
              "    </tr>\n",
              "  </thead>\n",
              "  <tbody>\n",
              "    <tr>\n",
              "      <th>0</th>\n",
              "      <td>2004-12-31 01:00:00</td>\n",
              "      <td>13478.0</td>\n",
              "    </tr>\n",
              "    <tr>\n",
              "      <th>1</th>\n",
              "      <td>2004-12-31 02:00:00</td>\n",
              "      <td>12865.0</td>\n",
              "    </tr>\n",
              "    <tr>\n",
              "      <th>2</th>\n",
              "      <td>2004-12-31 03:00:00</td>\n",
              "      <td>12577.0</td>\n",
              "    </tr>\n",
              "    <tr>\n",
              "      <th>3</th>\n",
              "      <td>2004-12-31 04:00:00</td>\n",
              "      <td>12517.0</td>\n",
              "    </tr>\n",
              "    <tr>\n",
              "      <th>4</th>\n",
              "      <td>2004-12-31 05:00:00</td>\n",
              "      <td>12670.0</td>\n",
              "    </tr>\n",
              "  </tbody>\n",
              "</table>\n",
              "</div>"
            ],
            "text/plain": [
              "             Datetime   AEP_MW\n",
              "0 2004-12-31 01:00:00  13478.0\n",
              "1 2004-12-31 02:00:00  12865.0\n",
              "2 2004-12-31 03:00:00  12577.0\n",
              "3 2004-12-31 04:00:00  12517.0\n",
              "4 2004-12-31 05:00:00  12670.0"
            ]
          },
          "metadata": {},
          "execution_count": 5
        }
      ]
    },
    {
      "cell_type": "markdown",
      "metadata": {
        "id": "UuY0G-KmBuBr"
      },
      "source": [
        "Dapat kita lihat bahwa waktu pada baris pertama dari kolom tidak sama dengan waktu terawalnya.\n",
        "Maka dari itu perlu kita urutkan df berdasarkan Datetime menggunakan df.sort_values().\n"
      ]
    },
    {
      "cell_type": "code",
      "metadata": {
        "colab": {
          "base_uri": "https://localhost:8080/",
          "height": 204
        },
        "id": "kVbFaI3XBy0j",
        "outputId": "2c02777c-aac0-42a2-e3bb-a00f1735d013"
      },
      "source": [
        "# mengurutkan data berdasarkan waktu\n",
        "df.sort_values('Datetime', inplace=True, ignore_index=True)\n",
        "df.head()"
      ],
      "execution_count": null,
      "outputs": [
        {
          "output_type": "execute_result",
          "data": {
            "text/html": [
              "<div>\n",
              "<style scoped>\n",
              "    .dataframe tbody tr th:only-of-type {\n",
              "        vertical-align: middle;\n",
              "    }\n",
              "\n",
              "    .dataframe tbody tr th {\n",
              "        vertical-align: top;\n",
              "    }\n",
              "\n",
              "    .dataframe thead th {\n",
              "        text-align: right;\n",
              "    }\n",
              "</style>\n",
              "<table border=\"1\" class=\"dataframe\">\n",
              "  <thead>\n",
              "    <tr style=\"text-align: right;\">\n",
              "      <th></th>\n",
              "      <th>Datetime</th>\n",
              "      <th>AEP_MW</th>\n",
              "    </tr>\n",
              "  </thead>\n",
              "  <tbody>\n",
              "    <tr>\n",
              "      <th>0</th>\n",
              "      <td>2004-10-01 01:00:00</td>\n",
              "      <td>12379.0</td>\n",
              "    </tr>\n",
              "    <tr>\n",
              "      <th>1</th>\n",
              "      <td>2004-10-01 02:00:00</td>\n",
              "      <td>11935.0</td>\n",
              "    </tr>\n",
              "    <tr>\n",
              "      <th>2</th>\n",
              "      <td>2004-10-01 03:00:00</td>\n",
              "      <td>11692.0</td>\n",
              "    </tr>\n",
              "    <tr>\n",
              "      <th>3</th>\n",
              "      <td>2004-10-01 04:00:00</td>\n",
              "      <td>11597.0</td>\n",
              "    </tr>\n",
              "    <tr>\n",
              "      <th>4</th>\n",
              "      <td>2004-10-01 05:00:00</td>\n",
              "      <td>11681.0</td>\n",
              "    </tr>\n",
              "  </tbody>\n",
              "</table>\n",
              "</div>"
            ],
            "text/plain": [
              "             Datetime   AEP_MW\n",
              "0 2004-10-01 01:00:00  12379.0\n",
              "1 2004-10-01 02:00:00  11935.0\n",
              "2 2004-10-01 03:00:00  11692.0\n",
              "3 2004-10-01 04:00:00  11597.0\n",
              "4 2004-10-01 05:00:00  11681.0"
            ]
          },
          "metadata": {},
          "execution_count": 6
        }
      ]
    },
    {
      "cell_type": "markdown",
      "metadata": {
        "id": "lz8aM52FB0FL"
      },
      "source": [
        "Plot Data df"
      ]
    },
    {
      "cell_type": "code",
      "metadata": {
        "colab": {
          "base_uri": "https://localhost:8080/",
          "height": 520
        },
        "id": "HFvVrozJB2d7",
        "outputId": "04af3596-7d32-4d54-bd69-f8df7790e12c"
      },
      "source": [
        "plt.figure(figsize=(15,8))\n",
        "sns.lineplot(data=df, x='Datetime', y='AEP_MW')\n"
      ],
      "execution_count": null,
      "outputs": [
        {
          "output_type": "execute_result",
          "data": {
            "text/plain": [
              "<matplotlib.axes._subplots.AxesSubplot at 0x7f91ff4e6b50>"
            ]
          },
          "metadata": {},
          "execution_count": 7
        },
        {
          "output_type": "display_data",
          "data": {
            "image/png": "[encoded data removed]",
            "text/plain": [
              "<Figure size 1080x576 with 1 Axes>"
            ]
          },
          "metadata": {
            "needs_background": "light"
          }
        }
      ]
    },
    {
      "cell_type": "markdown",
      "metadata": {
        "id": "IDXtyO8oB5OL"
      },
      "source": [
        "Memilih Data Setahun Terakhir\n",
        "Pada contoh ini kita hanya akan gunakan data setahun terakhir dari data AEP_hourly\n",
        "Karena data yang diobservasi per jam, maka kita akan mengambil 24*365=8760 baris terakhir dari df dan dimasukan kedalam variabel df1\n"
      ]
    },
    {
      "cell_type": "code",
      "metadata": {
        "colab": {
          "base_uri": "https://localhost:8080/",
          "height": 204
        },
        "id": "Nd5TiVowCCTc",
        "outputId": "207551b6-5a93-4e66-8988-1fb96c23b3f4"
      },
      "source": [
        "df1 = df[-24*365:].reset_index(drop=True)\n",
        "df1.head()\n"
      ],
      "execution_count": null,
      "outputs": [
        {
          "output_type": "execute_result",
          "data": {
            "text/html": [
              "<div>\n",
              "<style scoped>\n",
              "    .dataframe tbody tr th:only-of-type {\n",
              "        vertical-align: middle;\n",
              "    }\n",
              "\n",
              "    .dataframe tbody tr th {\n",
              "        vertical-align: top;\n",
              "    }\n",
              "\n",
              "    .dataframe thead th {\n",
              "        text-align: right;\n",
              "    }\n",
              "</style>\n",
              "<table border=\"1\" class=\"dataframe\">\n",
              "  <thead>\n",
              "    <tr style=\"text-align: right;\">\n",
              "      <th></th>\n",
              "      <th>Datetime</th>\n",
              "      <th>AEP_MW</th>\n",
              "    </tr>\n",
              "  </thead>\n",
              "  <tbody>\n",
              "    <tr>\n",
              "      <th>0</th>\n",
              "      <td>2017-08-03 01:00:00</td>\n",
              "      <td>13682.0</td>\n",
              "    </tr>\n",
              "    <tr>\n",
              "      <th>1</th>\n",
              "      <td>2017-08-03 02:00:00</td>\n",
              "      <td>12841.0</td>\n",
              "    </tr>\n",
              "    <tr>\n",
              "      <th>2</th>\n",
              "      <td>2017-08-03 03:00:00</td>\n",
              "      <td>12443.0</td>\n",
              "    </tr>\n",
              "    <tr>\n",
              "      <th>3</th>\n",
              "      <td>2017-08-03 04:00:00</td>\n",
              "      <td>12213.0</td>\n",
              "    </tr>\n",
              "    <tr>\n",
              "      <th>4</th>\n",
              "      <td>2017-08-03 05:00:00</td>\n",
              "      <td>12286.0</td>\n",
              "    </tr>\n",
              "  </tbody>\n",
              "</table>\n",
              "</div>"
            ],
            "text/plain": [
              "             Datetime   AEP_MW\n",
              "0 2017-08-03 01:00:00  13682.0\n",
              "1 2017-08-03 02:00:00  12841.0\n",
              "2 2017-08-03 03:00:00  12443.0\n",
              "3 2017-08-03 04:00:00  12213.0\n",
              "4 2017-08-03 05:00:00  12286.0"
            ]
          },
          "metadata": {},
          "execution_count": 8
        }
      ]
    },
    {
      "cell_type": "markdown",
      "metadata": {
        "id": "YGQVNdckCD3b"
      },
      "source": [
        "Plot Data df1\n"
      ]
    },
    {
      "cell_type": "code",
      "metadata": {
        "colab": {
          "base_uri": "https://localhost:8080/"
        },
        "id": "W03AwUQyCFnc",
        "outputId": "5374eebe-9d5f-49e0-bd99-868600543339"
      },
      "source": [
        "plt.figure(figsize=(15,8))\n",
        "sns.lineplot(data=df1, x='Datetime', y='AEP_MW')\n"
      ],
      "execution_count": null,
      "outputs": [
        {
          "output_type": "execute_result",
          "data": {
            "text/plain": [
              "<matplotlib.axes._subplots.AxesSubplot at 0x7f91e9266b50>"
            ]
          },
          "metadata": {},
          "execution_count": 9
        },
        {
          "output_type": "display_data",
          "data": {
            "image/png": "[encoded data removed]",
            "text/plain": [
              "<Figure size 1080x576 with 1 Axes>"
            ]
          },
          "metadata": {
            "needs_background": "light"
          }
        }
      ]
    },
    {
      "cell_type": "markdown",
      "metadata": {
        "id": "UO9zVC7cCHeD"
      },
      "source": [
        "Melihat Statistika Deskriptif dari Data\n",
        "Sebelum melakukan pembuatan model, sebaiknya dilakukan analisa terhadap statistika deskriptif dari data\n",
        "Dari statistika deskriptif tersebut, kita dapat meilhat range dari data dan ukuran pusat data\n"
      ]
    },
    {
      "cell_type": "code",
      "metadata": {
        "colab": {
          "base_uri": "https://localhost:8080/"
        },
        "id": "6xi1xBJGCJxL",
        "outputId": "0ca2d7fb-16d0-472f-9158-63781ab6013c"
      },
      "source": [
        "df1.describe()\n"
      ],
      "execution_count": null,
      "outputs": [
        {
          "output_type": "execute_result",
          "data": {
            "text/html": [
              "<div>\n",
              "<style scoped>\n",
              "    .dataframe tbody tr th:only-of-type {\n",
              "        vertical-align: middle;\n",
              "    }\n",
              "\n",
              "    .dataframe tbody tr th {\n",
              "        vertical-align: top;\n",
              "    }\n",
              "\n",
              "    .dataframe thead th {\n",
              "        text-align: right;\n",
              "    }\n",
              "</style>\n",
              "<table border=\"1\" class=\"dataframe\">\n",
              "  <thead>\n",
              "    <tr style=\"text-align: right;\">\n",
              "      <th></th>\n",
              "      <th>AEP_MW</th>\n",
              "    </tr>\n",
              "  </thead>\n",
              "  <tbody>\n",
              "    <tr>\n",
              "      <th>count</th>\n",
              "      <td>8760.000000</td>\n",
              "    </tr>\n",
              "    <tr>\n",
              "      <th>mean</th>\n",
              "      <td>14963.130708</td>\n",
              "    </tr>\n",
              "    <tr>\n",
              "      <th>std</th>\n",
              "      <td>2438.848843</td>\n",
              "    </tr>\n",
              "    <tr>\n",
              "      <th>min</th>\n",
              "      <td>9801.000000</td>\n",
              "    </tr>\n",
              "    <tr>\n",
              "      <th>25%</th>\n",
              "      <td>13260.750000</td>\n",
              "    </tr>\n",
              "    <tr>\n",
              "      <th>50%</th>\n",
              "      <td>14721.500000</td>\n",
              "    </tr>\n",
              "    <tr>\n",
              "      <th>75%</th>\n",
              "      <td>16421.750000</td>\n",
              "    </tr>\n",
              "    <tr>\n",
              "      <th>max</th>\n",
              "      <td>22759.000000</td>\n",
              "    </tr>\n",
              "  </tbody>\n",
              "</table>\n",
              "</div>"
            ],
            "text/plain": [
              "             AEP_MW\n",
              "count   8760.000000\n",
              "mean   14963.130708\n",
              "std     2438.848843\n",
              "min     9801.000000\n",
              "25%    13260.750000\n",
              "50%    14721.500000\n",
              "75%    16421.750000\n",
              "max    22759.000000"
            ]
          },
          "metadata": {},
          "execution_count": 10
        }
      ]
    },
    {
      "cell_type": "markdown",
      "metadata": {
        "id": "rWwGGxkHCP57"
      },
      "source": [
        "Dari statistika deskriptif di atas terlihat bahwa data AEP_MW cukup besar dan berada pada range 9801 dan 22759 sehingga nanti kita akan lakukan feature scalling menggunakan MinMaxScaler agar range dari seluruh data tersebut berada di antara 0 dan 1\n",
        "\n",
        "List normalisasi yang tersedia oleh sklearn : https://scikit-learn.org/stable/auto_examples/preprocessing/plot_all_scaling.html\n",
        "\n",
        "\n"
      ]
    },
    {
      "cell_type": "markdown",
      "metadata": {
        "id": "NDUbyPzmSrhc"
      },
      "source": [
        "### Split Data\n",
        "\n",
        "\n",
        "Split data dilakukan agar model yang telah dilatih dapat dievaluasi kemampuannya.\n",
        "Karena data yang digunakan adalah data time series, maka split data tidak dilakukan secara acak\n",
        "Kita juga akan melakukan cross validation menggunakan data train sehingga pastikan data train yang digunakan cukup besar.\n",
        "Pada contoh ini kita gunakan 70% baris pertama sebagai data train dan 30% sisanya sebagai data test."
      ]
    },
    {
      "cell_type": "code",
      "metadata": {
        "id": "KHfYMjrsCS5U"
      },
      "source": [
        "# split data\n",
        "train_size = int(len(df1) * 0.7) # Menentukan banyaknya data train yaitu sebesar 70% data\n",
        "train = df1[:train_size]\n",
        "test =df1[train_size:].reset_index(drop=True)"
      ],
      "execution_count": null,
      "outputs": []
    },
    {
      "cell_type": "markdown",
      "metadata": {
        "id": "rnSzt1gLE-pY"
      },
      "source": [
        "Feature Scalling Menggunakan MinMaxScaler\n",
        "MinMaxScaler difit pada data train agar dapat digunakan kembali pada data test maupun data observasi baru.\n",
        "Hasil scalling disimpan pada kolom baru yaitu 'scaled'\n"
      ]
    },
    {
      "cell_type": "code",
      "metadata": {
        "id": "UEDXgOd4FAD4"
      },
      "source": [
        "from sklearn.preprocessing import MinMaxScaler\n",
        "scaler = MinMaxScaler()\n",
        "scaler.fit(train[['AEP_MW']])\n",
        "\n",
        "train['scaled'] = scaler.transform(train[['AEP_MW']])\n",
        "test['scaled'] = scaler.transform(test[['AEP_MW']])"
      ],
      "execution_count": null,
      "outputs": []
    },
    {
      "cell_type": "markdown",
      "metadata": {
        "id": "kKSmZZ-dCUYt"
      },
      "source": [
        "Mari kita lihat 5 data pertama pada data train untuk melihat data yang sudah discalling"
      ]
    },
    {
      "cell_type": "code",
      "metadata": {
        "colab": {
          "base_uri": "https://localhost:8080/"
        },
        "id": "tp0TRDx_CVtd",
        "outputId": "74059207-ef2d-4c7d-f7d7-8b2540e1184f"
      },
      "source": [
        "train.head()\n"
      ],
      "execution_count": null,
      "outputs": [
        {
          "output_type": "execute_result",
          "data": {
            "text/html": [
              "<div>\n",
              "<style scoped>\n",
              "    .dataframe tbody tr th:only-of-type {\n",
              "        vertical-align: middle;\n",
              "    }\n",
              "\n",
              "    .dataframe tbody tr th {\n",
              "        vertical-align: top;\n",
              "    }\n",
              "\n",
              "    .dataframe thead th {\n",
              "        text-align: right;\n",
              "    }\n",
              "</style>\n",
              "<table border=\"1\" class=\"dataframe\">\n",
              "  <thead>\n",
              "    <tr style=\"text-align: right;\">\n",
              "      <th></th>\n",
              "      <th>Datetime</th>\n",
              "      <th>AEP_MW</th>\n",
              "      <th>scaled</th>\n",
              "    </tr>\n",
              "  </thead>\n",
              "  <tbody>\n",
              "    <tr>\n",
              "      <th>0</th>\n",
              "      <td>2017-08-03 01:00:00</td>\n",
              "      <td>13682.0</td>\n",
              "      <td>0.299506</td>\n",
              "    </tr>\n",
              "    <tr>\n",
              "      <th>1</th>\n",
              "      <td>2017-08-03 02:00:00</td>\n",
              "      <td>12841.0</td>\n",
              "      <td>0.234604</td>\n",
              "    </tr>\n",
              "    <tr>\n",
              "      <th>2</th>\n",
              "      <td>2017-08-03 03:00:00</td>\n",
              "      <td>12443.0</td>\n",
              "      <td>0.203889</td>\n",
              "    </tr>\n",
              "    <tr>\n",
              "      <th>3</th>\n",
              "      <td>2017-08-03 04:00:00</td>\n",
              "      <td>12213.0</td>\n",
              "      <td>0.186140</td>\n",
              "    </tr>\n",
              "    <tr>\n",
              "      <th>4</th>\n",
              "      <td>2017-08-03 05:00:00</td>\n",
              "      <td>12286.0</td>\n",
              "      <td>0.191773</td>\n",
              "    </tr>\n",
              "  </tbody>\n",
              "</table>\n",
              "</div>"
            ],
            "text/plain": [
              "             Datetime   AEP_MW    scaled\n",
              "0 2017-08-03 01:00:00  13682.0  0.299506\n",
              "1 2017-08-03 02:00:00  12841.0  0.234604\n",
              "2 2017-08-03 03:00:00  12443.0  0.203889\n",
              "3 2017-08-03 04:00:00  12213.0  0.186140\n",
              "4 2017-08-03 05:00:00  12286.0  0.191773"
            ]
          },
          "metadata": {},
          "execution_count": 13
        }
      ]
    },
    {
      "cell_type": "markdown",
      "metadata": {
        "id": "uhiTeCCVFC25"
      },
      "source": [
        "Membuat fungsi sliding window\n",
        "Selanjutnya kita akan membuat fungsi sliding window dengan input data (bertipe data numpy array) dan window size\n",
        "Fungsi ini akan menghasilkan variabel input (X) dan variabel target (y)"
      ]
    },
    {
      "cell_type": "code",
      "metadata": {
        "id": "k5m0ck1GCZod"
      },
      "source": [
        "def sliding_window(data, window_size):\n",
        "    sub_seq, next_values = [], []\n",
        "    for i in range(len(data)-window_size):\n",
        "        sub_seq.append(data[i:i+window_size])\n",
        "        next_values.append(data[i+window_size])\n",
        "    X = np.stack(sub_seq)\n",
        "    y = np.array(next_values)\n",
        "    return X,y\n"
      ],
      "execution_count": null,
      "outputs": []
    },
    {
      "cell_type": "markdown",
      "metadata": {
        "id": "GXf3gIgFChv9"
      },
      "source": [
        "Berapa window size yang tepat untuk digunakan?\n",
        "Pada penerapannya kita dapat menentukan window size berapa saja.\n",
        "Untuk mencapai hasil yang maksimal dapat dilakukan percobaan dengan menggunakan beberapa window size.\n",
        "Perlu diperhatikan juga bahwa semakin** besar window size **yang digunakan akan memerlukan waktu yang cukup lama dalam proses training data\n",
        "Pada contoh ini kita hanya menggunakan window size = 24 atau sama dengan 1 hari dan kita terapkan pada data train dan test yang telah discalling"
      ]
    },
    {
      "cell_type": "code",
      "metadata": {
        "id": "uMa4j0WoCg7d"
      },
      "source": [
        "window_size = 24\n",
        "\n",
        "X_train, y_train = sliding_window(train[['scaled']].values, window_size)\n",
        "X_test, y_test = sliding_window(test[['scaled']].values, window_size)\n"
      ],
      "execution_count": null,
      "outputs": []
    },
    {
      "cell_type": "markdown",
      "metadata": {
        "id": "2o-rXRQRCkAE"
      },
      "source": [
        "Penting!!!\n",
        "Data input LSTM harus 3D : [samples, timesteps, feature]\n",
        "Maka dari itu kita perlu cek dimensi data kita menggunakan np.shape"
      ]
    },
    {
      "cell_type": "code",
      "metadata": {
        "colab": {
          "base_uri": "https://localhost:8080/"
        },
        "id": "nuyj2LrxClgL",
        "outputId": "c9e50ca5-2fef-4999-a5b4-0c5ef912bada"
      },
      "source": [
        "print(X_train.shape, y_train.shape)\n",
        "print(X_test.shape, y_test.shape)"
      ],
      "execution_count": null,
      "outputs": [
        {
          "output_type": "stream",
          "name": "stdout",
          "text": [
            "(6108, 24, 1) (6108, 1)\n",
            "(2604, 24, 1) (2604, 1)\n"
          ]
        }
      ]
    },
    {
      "cell_type": "markdown",
      "metadata": {
        "id": "gmcveVLECn6s"
      },
      "source": [
        "## LSTM menggunakan Tensorflow dan Keras\n",
        "tensorflow: https://www.tensorflow.org/overview\n",
        "keras: https://keras.io/about/\n",
        "\n",
        "Untuk membuat LSTM() layer menggunakan Keras, perhatikan parameter-parameter berikut untuk membuat LSTM layer sederhana, ada beberapa parameter yaitu \n",
        "\n",
        "\n",
        "*   units: menentukan banyaknya LSTM unit\n",
        "*   input_shape: menentukan ukuran timesteps dan feature, diperlukan pada layer pertama\n",
        "*   return_sequences: jika layer berikutnya berupa LSTM layer maka return_sequences=True (default = False)\n",
        "\n",
        "\n",
        "Paramaeter-parameter lainnya dapat dilihat pada link berikut: https://keras.io/api/layers/recurrent_layers/lstm/\n",
        "\n"
      ]
    },
    {
      "cell_type": "markdown",
      "metadata": {
        "id": "HajIoWxtTW1-"
      },
      "source": [
        "# Membuat Model Forecasting Menggunakan LSTM\n",
        "\n",
        "Untuk menggunakan arsitektur GRU, ganti model LSTM dengan RNN atau GRU"
      ]
    },
    {
      "cell_type": "markdown",
      "metadata": {
        "id": "YKmheJASCsc8"
      },
      "source": [
        "# 1. Import Modul"
      ]
    },
    {
      "cell_type": "code",
      "metadata": {
        "id": "I0w-ohE0Crp8"
      },
      "source": [
        "from tensorflow.keras.models import Sequential\n",
        "from tensorflow.keras.layers import Dense, Dropout, LSTM #, RNN, GRU "
      ],
      "execution_count": null,
      "outputs": []
    },
    {
      "cell_type": "markdown",
      "metadata": {
        "id": "pvSu2AF-Cx49"
      },
      "source": [
        "# 2. Membuat Fungsi Model Forecasting Menggunakan LSTM\n",
        "Fungsi model yang akan dibuat terdiri:\n",
        "\n",
        "LSTM layer dengan \n",
        "* input_shape = (window_size, 1)\n",
        "* Dense layer dengan 32 neuron dengan fungsi aktivasi ReLu\n",
        "* Dropout antara Dense layer dan Dense output layer\n",
        "* Dense output layer dengan 1 neuron\n",
        "* loss function yang digunakan adalah Mean Squared Error (MSE)\n",
        "* optimizer yang digunakan adalah adam\n",
        "* metric yang digunakan adalah Mean Absolute Error (MAE)\n",
        "\n",
        "* Parameter-parameter yang dijadikan sebagai input dari fungsi tersebut adalah:\n",
        "  - LSTM_unit: banyaknya LSTM unit (default = 64)\n",
        "  - dropout: persentase dropout (default = 0.2)"
      ]
    },
    {
      "cell_type": "code",
      "metadata": {
        "id": "J6G4lwxiC1-U"
      },
      "source": [
        "def create_model(LSTM_unit=64, dropout=0.2): #jika ingin menggunakan RNN atau GRU ganti LSTM dengan GRU/RNN\n",
        "    # create model\n",
        "    model = Sequential()\n",
        "    model.add(LSTM(units=LSTM_unit, input_shape=(window_size, 1)))\n",
        "    model.add(Dense(32, activation='relu'))\n",
        "    model.add(Dropout(dropout))\n",
        "    model.add(Dense(1))\n",
        "    # Compile model\n",
        "    model.compile(loss='mse', optimizer='adam', metrics=['mae'])\n",
        "    return model"
      ],
      "execution_count": null,
      "outputs": []
    },
    {
      "cell_type": "markdown",
      "metadata": {
        "id": "rfRlKR-AC4at"
      },
      "source": [
        "#3. Membuat Model\n",
        "Kita coba lakukan hypertuning pada parameter, dengan mencoba kombinasi nilai LSTM unitnya 16,32,64,28 dan peluang dropout 0,1 dan 0,2\n",
        "\n"
      ]
    },
    {
      "cell_type": "code",
      "metadata": {
        "id": "hbyF4o95C9-d"
      },
      "source": [
        "LSTM_unit = [16,32,64,128]\n",
        "dropout = [0.1,0.2]\n"
      ],
      "execution_count": null,
      "outputs": []
    },
    {
      "cell_type": "markdown",
      "metadata": {
        "id": "jc3U92eQDAXl"
      },
      "source": [
        "Selain itu, kita juga gunakan early stopping pada saat proses training\n",
        "\n"
      ]
    },
    {
      "cell_type": "code",
      "metadata": {
        "id": "Z_hTx7uKDBfl"
      },
      "source": [
        "from sklearn.model_selection import GridSearchCV\n",
        "from keras.wrappers.scikit_learn import KerasRegressor\n",
        "from keras.callbacks import EarlyStopping\n",
        "# Early Stopping\n",
        "es = EarlyStopping(monitor = 'val_loss', mode = \"min\", patience = 5, verbose = 0)\n",
        "\n",
        "# create model\n",
        "model = KerasRegressor(build_fn=create_model, epochs=50, validation_split=0.1, batch_size=32, callbacks=[es], verbose=1)\n",
        "\n",
        "# define the grid search parameters\n",
        "LSTM_unit = [16,32,64,128]\n",
        "dropout=[0.1,0.2]\n",
        "param_grid = dict(LSTM_unit=LSTM_unit, dropout=dropout)"
      ],
      "execution_count": null,
      "outputs": []
    },
    {
      "cell_type": "markdown",
      "metadata": {
        "id": "JSVBWsKJDEJf"
      },
      "source": [
        "# 4. Membuat Variabel GridSearchCV\n",
        "Variabel GridSearchCV dibuat dengan memasukan beberapa parameter yaitu:\n",
        "- estimator: model yang ingin dilakukan gridsearch\n",
        "- param_grid: parameter yang ingin diuji\n",
        "- n_jobs: Jumlah pekerjaan untuk dijalankan secara paralel. (-1 artinya menggunakan seluruh core processor)\n",
        "- cv: banyaknya k-fold cross validation"
      ]
    },
    {
      "cell_type": "code",
      "metadata": {
        "id": "49v9a1fjDJUO"
      },
      "source": [
        "grid = GridSearchCV(estimator=model, param_grid=param_grid, n_jobs=-1, cv=5)"
      ],
      "execution_count": null,
      "outputs": []
    },
    {
      "cell_type": "markdown",
      "metadata": {
        "id": "5UB16R0CDL3X"
      },
      "source": [
        "# 5. Training Model dengan GridSearchCV\n",
        "\n"
      ]
    },
    {
      "cell_type": "code",
      "metadata": {
        "id": "tqBqpvi6DNVO"
      },
      "source": [
        "grid_result = grid.fit(X_train, y_train)"
      ],
      "execution_count": null,
      "outputs": []
    },
    {
      "cell_type": "markdown",
      "metadata": {
        "id": "MZgvq_smDQg2"
      },
      "source": [
        "# 6. Melihat Hasil Parameter Terbaik\n"
      ]
    },
    {
      "cell_type": "code",
      "metadata": {
        "id": "OyX20HG3DTid"
      },
      "source": [
        "# summarize results\n",
        "print(\"Best: %f using %s\" % (grid_result.best_score_, grid_result.best_params_))\n",
        "means = grid_result.cv_results_['mean_test_score']\n",
        "stds = grid_result.cv_results_['std_test_score']\n",
        "params = grid_result.cv_results_['params']\n",
        "for mean, stdev, param in zip(means, stds, params):\n",
        "    print(\"%f (%f) with: %r\" % (mean, stdev, param))\n",
        "    \n",
        "# Mengambil model terbaik\n",
        "best_model = grid_result.best_estimator_.model"
      ],
      "execution_count": null,
      "outputs": []
    },
    {
      "cell_type": "markdown",
      "metadata": {
        "id": "wm8_74G2DWsu"
      },
      "source": [
        "Dari Hasil Training menggunakan GridSearchCV, kita peroleh:\n",
        "\n",
        "parameter terbaiknya adalah: {'LSTM_unit': 128, 'dropout': 0.2}\n",
        "Rata-rata Loss Function dari hasil Cross Validation adalah 0.000353\n",
        "Kemudian coba kita lihat grafik loss function MSE dan metric MAE terhadap epoch untuk melihat performa model terbaik kita dengan cara sebagai berikut\n",
        "\n",
        "Kita dapat melihat grafik loss function MSE dan metric MAE terhadap epoch untuk melihat performa model kita dengan cara sebagai berikut\n"
      ]
    },
    {
      "cell_type": "code",
      "metadata": {
        "id": "xhfQZmRHDZ1l"
      },
      "source": [
        "history = best_model.history\n",
        "# grafik loss function MSE\n",
        "\n",
        "plt.plot(history.history['loss'], label='Training loss')\n",
        "plt.plot(history.history['val_loss'], label='Validation loss')\n",
        "plt.title('loss function MSE')\n",
        "plt.ylabel('MSE')\n",
        "plt.xlabel('Epoch')\n",
        "plt.legend()"
      ],
      "execution_count": null,
      "outputs": []
    },
    {
      "cell_type": "code",
      "metadata": {
        "id": "qOAiWFksDb1V"
      },
      "source": [
        "# grafik metric MAE\n",
        "\n",
        "plt.plot(history.history['mae'], label='Training MAE')\n",
        "plt.plot(history.history['val_mae'], label='Validation MAE')\n",
        "plt.title('metric MAE')\n",
        "plt.ylabel('MAE')\n",
        "plt.xlabel('Epoch')\n",
        "plt.legend()"
      ],
      "execution_count": null,
      "outputs": []
    },
    {
      "cell_type": "markdown",
      "metadata": {
        "id": "6dcA1jTQDdoe"
      },
      "source": [
        "# 7. Evaluasi Model\n",
        "Melakukan prediksi pada data train dan data test"
      ]
    },
    {
      "cell_type": "code",
      "metadata": {
        "id": "Wfuiff7lDike"
      },
      "source": [
        "# Prediksi data train\n",
        "predict_train = scaler.inverse_transform(best_model.predict(X_train))\n",
        "true_train = scaler.inverse_transform(y_train)\n",
        "\n",
        "# Prediksi data test\n",
        "predict_test = scaler.inverse_transform(best_model.predict(X_test))\n",
        "true_test = scaler.inverse_transform(y_test)"
      ],
      "execution_count": null,
      "outputs": []
    },
    {
      "cell_type": "markdown",
      "metadata": {
        "id": "FWtMCCKg-P5Y"
      },
      "source": [
        "Plot prediksi data train\n"
      ]
    },
    {
      "cell_type": "code",
      "metadata": {
        "id": "2YwXQC7r-RyC"
      },
      "source": [
        "train['predict'] = np.nan\n",
        "train['predict'][-len(predict_train):] = predict_train[:,0]\n",
        "\n",
        "plt.figure(figsize=(15,8))\n",
        "sns.lineplot(data=train, x='Datetime', y='AEP_MW', label = 'train')\n",
        "sns.lineplot(data=train, x='Datetime', y='predict', label = 'predict')"
      ],
      "execution_count": null,
      "outputs": []
    },
    {
      "cell_type": "markdown",
      "metadata": {
        "id": "D10gcP9aDzTw"
      },
      "source": [
        "Plot prediksi data test"
      ]
    },
    {
      "cell_type": "code",
      "metadata": {
        "id": "PTl9DnKJD0km"
      },
      "source": [
        "test['predict'] = np.nan\n",
        "test['predict'][-len(predict_test):] = predict_test[:,0]\n",
        "\n",
        "plt.figure(figsize=(15,8))\n",
        "sns.lineplot(data=test, x='Datetime', y='AEP_MW', label = 'test')\n",
        "sns.lineplot(data=test, x='Datetime', y='predict', label = 'predict')"
      ],
      "execution_count": null,
      "outputs": []
    },
    {
      "cell_type": "markdown",
      "metadata": {
        "id": "PHYtKu0xD2nW"
      },
      "source": [
        "Plot prediksi data test sebulan terakhir"
      ]
    },
    {
      "cell_type": "code",
      "metadata": {
        "id": "MMaP7bCGD4wA"
      },
      "source": [
        "plt.figure(figsize=(15,8))\n",
        "sns.lineplot(data=test[-24*30:], x='Datetime', y='AEP_MW', label = 'test')\n",
        "sns.lineplot(data=test[-24*30:], x='Datetime', y='predict', label = 'predict')"
      ],
      "execution_count": null,
      "outputs": []
    },
    {
      "cell_type": "markdown",
      "metadata": {
        "id": "m1O6syVnD6Fe"
      },
      "source": [
        "Melakukan forecasting"
      ]
    },
    {
      "cell_type": "code",
      "metadata": {
        "id": "6YDwYjwnA_k6"
      },
      "source": [
        "# forecasting data selanjutnya\n",
        "y_test = scaler.transform(test[['AEP_MW']])\n",
        "n_future = 24*7\n",
        "future = [[y_test[-1,0]]]\n",
        "X_new = y_test[-window_size:,0].tolist()\n",
        "\n",
        "for i in range(n_future):\n",
        "    y_future = best_model.predict(np.array([X_new]).reshape(1,window_size,1))\n",
        "    future.append([y_future[0,0]])\n",
        "    X_new = X_new[1:]\n",
        "    X_new.append(y_future[0,0])\n",
        "\n",
        "future = scaler.inverse_transform(np.array(future))\n",
        "date_future = pd.date_range(start=test['Datetime'].values[-1], periods=n_future+1, freq='H')\n",
        "# Plot Data sebulan terakhir dan seminggu ke depan\n",
        "plt.figure(figsize=(15,8))\n",
        "sns.lineplot(data=test[-24*30:], x='Datetime', y='AEP_MW', label = 'test')\n",
        "sns.lineplot(data=test[-24*30:], x='Datetime', y='predict', label = 'predict')\n",
        "sns.lineplot(x=date_future, y=future[:,0], label = 'future')\n",
        "plt.ylabel('AEP_MW');\n"
      ],
      "execution_count": null,
      "outputs": []
    }
  ]
}