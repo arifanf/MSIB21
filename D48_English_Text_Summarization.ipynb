{
  "nbformat": 4,
  "nbformat_minor": 5,
  "metadata": {
    "kernelspec": {
      "display_name": "Python 3",
      "language": "python",
      "name": "python3"
    },
    "language_info": {
      "codemirror_mode": {
        "name": "ipython",
        "version": 3
      },
      "file_extension": ".py",
      "mimetype": "text/x-python",
      "name": "python",
      "nbconvert_exporter": "python",
      "pygments_lexer": "ipython3",
      "version": "3.8.8"
    },
    "colab": {
      "name": "D48_English Text Summarization.ipynb",
      "provenance": [],
      "collapsed_sections": [],
      "include_colab_link": true
    }
  },
  "cells": [
    {
      "cell_type": "markdown",
      "metadata": {
        "id": "view-in-github",
        "colab_type": "text"
      },
      "source": [
        "<a href=\"https://colab.research.google.com/github/arifanf/MSIB21/blob/main/D48_English_Text_Summarization.ipynb\" target=\"_parent\"><img src=\"https://colab.research.google.com/assets/colab-badge.svg\" alt=\"Open In Colab\"/></a>"
      ]
    },
    {
      "cell_type": "markdown",
      "metadata": {
        "id": "gVG3dPqcHnz9"
      },
      "source": [
        "Day 48 - Rabu, 27 Oktober 2021"
      ],
      "id": "gVG3dPqcHnz9"
    },
    {
      "cell_type": "markdown",
      "metadata": {
        "id": "1ab456e7"
      },
      "source": [
        "# Extractive Text Summarization"
      ],
      "id": "1ab456e7"
    },
    {
      "cell_type": "markdown",
      "metadata": {
        "id": "94mcNor6Jy2-"
      },
      "source": [
        "Source : [Youtube](https://youtu.be/9PoKellNrBc)"
      ],
      "id": "94mcNor6Jy2-"
    },
    {
      "cell_type": "markdown",
      "metadata": {
        "id": "mPDQJYILLYpC"
      },
      "source": [
        "*Pada local computer*"
      ],
      "id": "mPDQJYILLYpC"
    },
    {
      "cell_type": "code",
      "metadata": {
        "id": "dc31f0f6"
      },
      "source": [
        "#Lakukan install modul spacy pada cmd:\n",
        "#Buka command prompt dengan klik kanan administrator previlege (Run as administrator).\n",
        "#Gunakan direktori C:\\\n",
        "#ketik : conda install -c conda-forge spacy\n",
        "#ketik : python -m spacy download en"
      ],
      "id": "dc31f0f6",
      "execution_count": 1,
      "outputs": []
    },
    {
      "cell_type": "code",
      "metadata": {
        "id": "DuonRICV5nxm"
      },
      "source": [
        "# Import library Spacy, library untuk melakukan proses yang ada di dalam domain nlp\n",
        "\n",
        "import spacy \n",
        "from spacy.lang.en.stop_words import STOP_WORDS\n",
        "from string import punctuation"
      ],
      "id": "DuonRICV5nxm",
      "execution_count": 2,
      "outputs": []
    },
    {
      "cell_type": "code",
      "metadata": {
        "id": "8aae4d8f",
        "colab": {
          "base_uri": "https://localhost:8080/"
        },
        "outputId": "7305b149-1277-44cb-873e-84cefdf33f5e"
      },
      "source": [
        "# Memasukkan daftar stopword ke dalam variabel stopwords\n",
        "\n",
        "stopwords = list(STOP_WORDS)\n",
        "stopwords"
      ],
      "id": "8aae4d8f",
      "execution_count": 3,
      "outputs": [
        {
          "output_type": "execute_result",
          "data": {
            "text/plain": [
              "['become',\n",
              " 'twenty',\n",
              " 'whoever',\n",
              " 'thus',\n",
              " 'you',\n",
              " 'my',\n",
              " \"'ve\",\n",
              " 'very',\n",
              " '‘ll',\n",
              " 'name',\n",
              " 'through',\n",
              " 'someone',\n",
              " 'above',\n",
              " 'next',\n",
              " 'these',\n",
              " 'your',\n",
              " 'sixty',\n",
              " 'so',\n",
              " 'own',\n",
              " 'against',\n",
              " 'he',\n",
              " 'used',\n",
              " 'has',\n",
              " 'then',\n",
              " 'whence',\n",
              " 'regarding',\n",
              " 'without',\n",
              " 'ca',\n",
              " 'yet',\n",
              " 'nobody',\n",
              " 'not',\n",
              " 'another',\n",
              " 'least',\n",
              " 'much',\n",
              " 'third',\n",
              " 'does',\n",
              " 'across',\n",
              " 'may',\n",
              " 'now',\n",
              " 'seeming',\n",
              " 'although',\n",
              " 'that',\n",
              " 'latterly',\n",
              " 'same',\n",
              " 'this',\n",
              " 're',\n",
              " \"'m\",\n",
              " 'over',\n",
              " 'former',\n",
              " 'else',\n",
              " 'a',\n",
              " 'her',\n",
              " 'with',\n",
              " 'move',\n",
              " 'might',\n",
              " 'hundred',\n",
              " 'beside',\n",
              " 'anyway',\n",
              " 'from',\n",
              " 'out',\n",
              " 'further',\n",
              " 'eleven',\n",
              " 'for',\n",
              " 'serious',\n",
              " 'was',\n",
              " 'them',\n",
              " 'bottom',\n",
              " 'whither',\n",
              " 'behind',\n",
              " 'give',\n",
              " 'together',\n",
              " 'whole',\n",
              " 'due',\n",
              " 'thereby',\n",
              " 'who',\n",
              " \"'d\",\n",
              " 'but',\n",
              " 'few',\n",
              " 'all',\n",
              " \"'ll\",\n",
              " 'such',\n",
              " 'herein',\n",
              " 'i',\n",
              " 'him',\n",
              " 'to',\n",
              " 'latter',\n",
              " 'fifty',\n",
              " 'would',\n",
              " 'himself',\n",
              " 'within',\n",
              " 'either',\n",
              " 'an',\n",
              " 'hence',\n",
              " 'where',\n",
              " \"n't\",\n",
              " 'how',\n",
              " 'hereafter',\n",
              " 'mine',\n",
              " 'nothing',\n",
              " 'during',\n",
              " 'top',\n",
              " 'became',\n",
              " 'mostly',\n",
              " 'his',\n",
              " 'made',\n",
              " 'really',\n",
              " 'using',\n",
              " 'any',\n",
              " '‘m',\n",
              " 'go',\n",
              " '’s',\n",
              " 'front',\n",
              " 'there',\n",
              " 'eight',\n",
              " 'onto',\n",
              " 'therein',\n",
              " 'have',\n",
              " 'many',\n",
              " 'their',\n",
              " 'each',\n",
              " 'per',\n",
              " 'rather',\n",
              " 'were',\n",
              " 'most',\n",
              " 'somehow',\n",
              " 'our',\n",
              " 'make',\n",
              " 'other',\n",
              " 'neither',\n",
              " 'say',\n",
              " 'thence',\n",
              " 'under',\n",
              " 'three',\n",
              " '’ll',\n",
              " 'side',\n",
              " 'moreover',\n",
              " '‘ve',\n",
              " 'hereupon',\n",
              " 'just',\n",
              " 'did',\n",
              " 'itself',\n",
              " 'back',\n",
              " 'wherever',\n",
              " 'along',\n",
              " 'first',\n",
              " 'ever',\n",
              " 'both',\n",
              " 'on',\n",
              " 'whereby',\n",
              " 'ours',\n",
              " 'whereas',\n",
              " 'hers',\n",
              " 'unless',\n",
              " 'take',\n",
              " 'because',\n",
              " 'throughout',\n",
              " 'none',\n",
              " 'last',\n",
              " 'namely',\n",
              " 'two',\n",
              " 'also',\n",
              " 'too',\n",
              " 'full',\n",
              " 'seems',\n",
              " 'get',\n",
              " 'four',\n",
              " 'up',\n",
              " 'about',\n",
              " 'we',\n",
              " 'again',\n",
              " 'noone',\n",
              " 'whether',\n",
              " 'yourself',\n",
              " 'n’t',\n",
              " 'after',\n",
              " 'whose',\n",
              " 'when',\n",
              " 'everyone',\n",
              " 'the',\n",
              " 'alone',\n",
              " \"'re\",\n",
              " 'though',\n",
              " 'whereupon',\n",
              " 'part',\n",
              " 'into',\n",
              " 'amount',\n",
              " 'me',\n",
              " 'yours',\n",
              " 'beyond',\n",
              " '‘re',\n",
              " '‘d',\n",
              " 'less',\n",
              " 'since',\n",
              " 'as',\n",
              " 'thru',\n",
              " 'by',\n",
              " 'themselves',\n",
              " 'several',\n",
              " 'nevertheless',\n",
              " 'whenever',\n",
              " 'while',\n",
              " 'thereafter',\n",
              " 'down',\n",
              " 'nowhere',\n",
              " 'please',\n",
              " 'upon',\n",
              " 'becoming',\n",
              " 'keep',\n",
              " 'been',\n",
              " 'therefore',\n",
              " \"'s\",\n",
              " 'or',\n",
              " 'done',\n",
              " 'had',\n",
              " 'never',\n",
              " 'off',\n",
              " 'everywhere',\n",
              " 'between',\n",
              " 'even',\n",
              " 'once',\n",
              " 'only',\n",
              " 'and',\n",
              " 'beforehand',\n",
              " 'wherein',\n",
              " 'twelve',\n",
              " 'put',\n",
              " 'herself',\n",
              " 'forty',\n",
              " 'than',\n",
              " 'its',\n",
              " 'what',\n",
              " 'at',\n",
              " 'if',\n",
              " 'below',\n",
              " 'being',\n",
              " 'be',\n",
              " '’m',\n",
              " 'indeed',\n",
              " 'nor',\n",
              " 'besides',\n",
              " 'formerly',\n",
              " 'always',\n",
              " 'others',\n",
              " 'elsewhere',\n",
              " 'already',\n",
              " 'call',\n",
              " 'fifteen',\n",
              " 'meanwhile',\n",
              " 'perhaps',\n",
              " 'here',\n",
              " 'of',\n",
              " 'until',\n",
              " 'nine',\n",
              " 'around',\n",
              " 'ten',\n",
              " 'six',\n",
              " 'seem',\n",
              " 'n‘t',\n",
              " 'often',\n",
              " 'towards',\n",
              " 'anywhere',\n",
              " 'among',\n",
              " 'some',\n",
              " 'sometime',\n",
              " 'thereupon',\n",
              " 'must',\n",
              " 'is',\n",
              " 'no',\n",
              " 'which',\n",
              " 'can',\n",
              " 'one',\n",
              " 'otherwise',\n",
              " 'cannot',\n",
              " 'will',\n",
              " '’d',\n",
              " 'seemed',\n",
              " 'in',\n",
              " 'except',\n",
              " 'toward',\n",
              " 'hereby',\n",
              " 'ourselves',\n",
              " 'however',\n",
              " 'do',\n",
              " 'see',\n",
              " 'somewhere',\n",
              " 'should',\n",
              " 'myself',\n",
              " 'everything',\n",
              " '’ve',\n",
              " '’re',\n",
              " 'becomes',\n",
              " 'every',\n",
              " 'why',\n",
              " 'almost',\n",
              " 'sometimes',\n",
              " 'before',\n",
              " 'quite',\n",
              " 'us',\n",
              " 'doing',\n",
              " 'something',\n",
              " 'anyone',\n",
              " 'yourselves',\n",
              " 'whatever',\n",
              " '‘s',\n",
              " 'anyhow',\n",
              " 'it',\n",
              " 'various',\n",
              " 'am',\n",
              " 'more',\n",
              " 'well',\n",
              " 'five',\n",
              " 'could',\n",
              " 'they',\n",
              " 'are',\n",
              " 'enough',\n",
              " 'whom',\n",
              " 'amongst',\n",
              " 'empty',\n",
              " 'still',\n",
              " 'anything',\n",
              " 'via',\n",
              " 'those',\n",
              " 'show',\n",
              " 'afterwards',\n",
              " 'whereafter',\n",
              " 'she']"
            ]
          },
          "metadata": {},
          "execution_count": 3
        }
      ]
    },
    {
      "cell_type": "code",
      "metadata": {
        "id": "8b0a6d49",
        "colab": {
          "base_uri": "https://localhost:8080/"
        },
        "outputId": "d2bcd555-e4d2-4dda-b887-fe8869b61696"
      },
      "source": [
        "# Mengambil komponen - komponen pada Spacy seperti:\n",
        "# tok2vec, tagger, parser, senter, ner, attribute_ruler, lemmatizer\n",
        "\n",
        "nlp = spacy.load('en_core_web_sm')\n",
        "nlp"
      ],
      "id": "8b0a6d49",
      "execution_count": 4,
      "outputs": [
        {
          "output_type": "execute_result",
          "data": {
            "text/plain": [
              "<spacy.lang.en.English at 0x7faa90ee5050>"
            ]
          },
          "metadata": {},
          "execution_count": 4
        }
      ]
    },
    {
      "cell_type": "markdown",
      "metadata": {
        "id": "LTpdZfqejvpT"
      },
      "source": [
        "There are broadly two types of extractive summarization tasks depending on what the summarization program focuses on. The first is generic summarization, which focuses on obtaining a generic summary or abstract of the collection (whether documents, or sets of images, or videos, news stories etc.). The second is query relevant summarization, sometimes called query-based summarization, which summarizes objects specific to a query. Summarization systems are able to create both query relevant text summaries and generic machine-generated summaries depending on what the user needs.\n",
        "An example of a summarization problem is document summarization, which attempts to automatically produce an abstract from a given document. Sometimes one might be interested in generating a summary from a single source document, while others can use multiple source documents (for example, a cluster of articles on the same topic). This problem is called multi-document summarization. A related application is summarizing news articles. Imagine a system, which automatically pulls together news articles on a given topic (from the web), and concisely represents the latest news as a summary.\n",
        "Image collection summarization is another application example of automatic summarization. It consists in selecting a representative set of images from a larger set of images.[3] A summary in this context is useful to show the most representative images of results in an image collection exploration system. Video summarization is a related domain, where the system automatically creates a trailer of a long video. This also has applications in consumer or personal videos, where one might want to skip the boring or repetitive actions. Similarly, in surveillance videos, one would want to extract important and suspicious activity, while ignoring all the boring and redundant frames captured."
      ],
      "id": "LTpdZfqejvpT"
    },
    {
      "cell_type": "code",
      "metadata": {
        "id": "21329d15"
      },
      "source": [
        "# Imput teks di atas disini\n",
        "\n",
        "text = \"\"\" There are broadly two types of extractive summarization tasks depending on what the summarization program focuses on. The first is generic summarization, which focuses on obtaining a generic summary or abstract of the collection (whether documents, or sets of images, or videos, news stories etc.). The second is query relevant summarization, sometimes called query-based summarization, which summarizes objects specific to a query. Summarization systems are able to create both query relevant text summaries and generic machine-generated summaries depending on what the user needs. \n",
        "An example of a summarization problem is document summarization, which attempts to automatically produce an abstract from a given document. Sometimes one might be interested in generating a summary from a single source document, while others can use multiple source documents (for example, a cluster of articles on the same topic). This problem is called multi-document summarization. A related application is summarizing news articles. Imagine a system, which automatically pulls together news articles on a given topic (from the web), and concisely represents the latest news as a summary. \n",
        "Image collection summarization is another application example of automatic summarization. It consists in selecting a representative set of images from a larger set of images.[3] A summary in this context is useful to show the most representative images of results in an image collection exploration system. Video summarization is a related domain, where the system automatically creates a trailer of a long video. This also has applications in consumer or personal videos, where one might want to skip the boring or repetitive actions. Similarly, in surveillance videos, one would want to extract important and suspicious activity, while ignoring all the boring and redundant frames captured.\n",
        "\"\"\""
      ],
      "id": "21329d15",
      "execution_count": 5,
      "outputs": []
    },
    {
      "cell_type": "code",
      "metadata": {
        "colab": {
          "base_uri": "https://localhost:8080/",
          "height": 127
        },
        "id": "Dah5BOqg7KfC",
        "outputId": "2444d0db-5779-41ca-b850-956f3ad66b75"
      },
      "source": [
        "text"
      ],
      "id": "Dah5BOqg7KfC",
      "execution_count": 6,
      "outputs": [
        {
          "output_type": "execute_result",
          "data": {
            "application/vnd.google.colaboratory.intrinsic+json": {
              "type": "string"
            },
            "text/plain": [
              "' There are broadly two types of extractive summarization tasks depending on what the summarization program focuses on. The first is generic summarization, which focuses on obtaining a generic summary or abstract of the collection (whether documents, or sets of images, or videos, news stories etc.). The second is query relevant summarization, sometimes called query-based summarization, which summarizes objects specific to a query. Summarization systems are able to create both query relevant text summaries and generic machine-generated summaries depending on what the user needs. \\nAn example of a summarization problem is document summarization, which attempts to automatically produce an abstract from a given document. Sometimes one might be interested in generating a summary from a single source document, while others can use multiple source documents (for example, a cluster of articles on the same topic). This problem is called multi-document summarization. A related application is summarizing news articles. Imagine a system, which automatically pulls together news articles on a given topic (from the web), and concisely represents the latest news as a summary. \\nImage collection summarization is another application example of automatic summarization. It consists in selecting a representative set of images from a larger set of images.[3] A summary in this context is useful to show the most representative images of results in an image collection exploration system. Video summarization is a related domain, where the system automatically creates a trailer of a long video. This also has applications in consumer or personal videos, where one might want to skip the boring or repetitive actions. Similarly, in surveillance videos, one would want to extract important and suspicious activity, while ignoring all the boring and redundant frames captured.\\n'"
            ]
          },
          "metadata": {},
          "execution_count": 6
        }
      ]
    },
    {
      "cell_type": "markdown",
      "metadata": {
        "id": "a9a09d3f"
      },
      "source": [
        "# Proses 1 (Tokenization)"
      ],
      "id": "a9a09d3f"
    },
    {
      "cell_type": "code",
      "metadata": {
        "colab": {
          "base_uri": "https://localhost:8080/"
        },
        "id": "Sp4FSrWy7PnG",
        "outputId": "6eb66241-a2cf-4ea4-ab56-44a7f9fd916e"
      },
      "source": [
        "# Membuat objek iterable (bisa dilakukan iterasi) dari teks\n",
        "\n",
        "doc = nlp(text)\n",
        "doc"
      ],
      "id": "Sp4FSrWy7PnG",
      "execution_count": 7,
      "outputs": [
        {
          "output_type": "execute_result",
          "data": {
            "text/plain": [
              " There are broadly two types of extractive summarization tasks depending on what the summarization program focuses on. The first is generic summarization, which focuses on obtaining a generic summary or abstract of the collection (whether documents, or sets of images, or videos, news stories etc.). The second is query relevant summarization, sometimes called query-based summarization, which summarizes objects specific to a query. Summarization systems are able to create both query relevant text summaries and generic machine-generated summaries depending on what the user needs. \n",
              "An example of a summarization problem is document summarization, which attempts to automatically produce an abstract from a given document. Sometimes one might be interested in generating a summary from a single source document, while others can use multiple source documents (for example, a cluster of articles on the same topic). This problem is called multi-document summarization. A related application is summarizing news articles. Imagine a system, which automatically pulls together news articles on a given topic (from the web), and concisely represents the latest news as a summary. \n",
              "Image collection summarization is another application example of automatic summarization. It consists in selecting a representative set of images from a larger set of images.[3] A summary in this context is useful to show the most representative images of results in an image collection exploration system. Video summarization is a related domain, where the system automatically creates a trailer of a long video. This also has applications in consumer or personal videos, where one might want to skip the boring or repetitive actions. Similarly, in surveillance videos, one would want to extract important and suspicious activity, while ignoring all the boring and redundant frames captured."
            ]
          },
          "metadata": {},
          "execution_count": 7
        }
      ]
    },
    {
      "cell_type": "code",
      "metadata": {
        "colab": {
          "base_uri": "https://localhost:8080/"
        },
        "id": "zCk8F-uS7c4i",
        "outputId": "a1b6d099-7886-4339-aaad-a937767a1eb0"
      },
      "source": [
        "# Membuat token dari teks\n",
        "\n",
        "tokens = [token.text for token in doc]\n",
        "tokens"
      ],
      "id": "zCk8F-uS7c4i",
      "execution_count": 8,
      "outputs": [
        {
          "output_type": "execute_result",
          "data": {
            "text/plain": [
              "[' ',\n",
              " 'There',\n",
              " 'are',\n",
              " 'broadly',\n",
              " 'two',\n",
              " 'types',\n",
              " 'of',\n",
              " 'extractive',\n",
              " 'summarization',\n",
              " 'tasks',\n",
              " 'depending',\n",
              " 'on',\n",
              " 'what',\n",
              " 'the',\n",
              " 'summarization',\n",
              " 'program',\n",
              " 'focuses',\n",
              " 'on',\n",
              " '.',\n",
              " 'The',\n",
              " 'first',\n",
              " 'is',\n",
              " 'generic',\n",
              " 'summarization',\n",
              " ',',\n",
              " 'which',\n",
              " 'focuses',\n",
              " 'on',\n",
              " 'obtaining',\n",
              " 'a',\n",
              " 'generic',\n",
              " 'summary',\n",
              " 'or',\n",
              " 'abstract',\n",
              " 'of',\n",
              " 'the',\n",
              " 'collection',\n",
              " '(',\n",
              " 'whether',\n",
              " 'documents',\n",
              " ',',\n",
              " 'or',\n",
              " 'sets',\n",
              " 'of',\n",
              " 'images',\n",
              " ',',\n",
              " 'or',\n",
              " 'videos',\n",
              " ',',\n",
              " 'news',\n",
              " 'stories',\n",
              " 'etc',\n",
              " '.',\n",
              " ')',\n",
              " '.',\n",
              " 'The',\n",
              " 'second',\n",
              " 'is',\n",
              " 'query',\n",
              " 'relevant',\n",
              " 'summarization',\n",
              " ',',\n",
              " 'sometimes',\n",
              " 'called',\n",
              " 'query',\n",
              " '-',\n",
              " 'based',\n",
              " 'summarization',\n",
              " ',',\n",
              " 'which',\n",
              " 'summarizes',\n",
              " 'objects',\n",
              " 'specific',\n",
              " 'to',\n",
              " 'a',\n",
              " 'query',\n",
              " '.',\n",
              " 'Summarization',\n",
              " 'systems',\n",
              " 'are',\n",
              " 'able',\n",
              " 'to',\n",
              " 'create',\n",
              " 'both',\n",
              " 'query',\n",
              " 'relevant',\n",
              " 'text',\n",
              " 'summaries',\n",
              " 'and',\n",
              " 'generic',\n",
              " 'machine',\n",
              " '-',\n",
              " 'generated',\n",
              " 'summaries',\n",
              " 'depending',\n",
              " 'on',\n",
              " 'what',\n",
              " 'the',\n",
              " 'user',\n",
              " 'needs',\n",
              " '.',\n",
              " '\\n',\n",
              " 'An',\n",
              " 'example',\n",
              " 'of',\n",
              " 'a',\n",
              " 'summarization',\n",
              " 'problem',\n",
              " 'is',\n",
              " 'document',\n",
              " 'summarization',\n",
              " ',',\n",
              " 'which',\n",
              " 'attempts',\n",
              " 'to',\n",
              " 'automatically',\n",
              " 'produce',\n",
              " 'an',\n",
              " 'abstract',\n",
              " 'from',\n",
              " 'a',\n",
              " 'given',\n",
              " 'document',\n",
              " '.',\n",
              " 'Sometimes',\n",
              " 'one',\n",
              " 'might',\n",
              " 'be',\n",
              " 'interested',\n",
              " 'in',\n",
              " 'generating',\n",
              " 'a',\n",
              " 'summary',\n",
              " 'from',\n",
              " 'a',\n",
              " 'single',\n",
              " 'source',\n",
              " 'document',\n",
              " ',',\n",
              " 'while',\n",
              " 'others',\n",
              " 'can',\n",
              " 'use',\n",
              " 'multiple',\n",
              " 'source',\n",
              " 'documents',\n",
              " '(',\n",
              " 'for',\n",
              " 'example',\n",
              " ',',\n",
              " 'a',\n",
              " 'cluster',\n",
              " 'of',\n",
              " 'articles',\n",
              " 'on',\n",
              " 'the',\n",
              " 'same',\n",
              " 'topic',\n",
              " ')',\n",
              " '.',\n",
              " 'This',\n",
              " 'problem',\n",
              " 'is',\n",
              " 'called',\n",
              " 'multi',\n",
              " '-',\n",
              " 'document',\n",
              " 'summarization',\n",
              " '.',\n",
              " 'A',\n",
              " 'related',\n",
              " 'application',\n",
              " 'is',\n",
              " 'summarizing',\n",
              " 'news',\n",
              " 'articles',\n",
              " '.',\n",
              " 'Imagine',\n",
              " 'a',\n",
              " 'system',\n",
              " ',',\n",
              " 'which',\n",
              " 'automatically',\n",
              " 'pulls',\n",
              " 'together',\n",
              " 'news',\n",
              " 'articles',\n",
              " 'on',\n",
              " 'a',\n",
              " 'given',\n",
              " 'topic',\n",
              " '(',\n",
              " 'from',\n",
              " 'the',\n",
              " 'web',\n",
              " ')',\n",
              " ',',\n",
              " 'and',\n",
              " 'concisely',\n",
              " 'represents',\n",
              " 'the',\n",
              " 'latest',\n",
              " 'news',\n",
              " 'as',\n",
              " 'a',\n",
              " 'summary',\n",
              " '.',\n",
              " '\\n',\n",
              " 'Image',\n",
              " 'collection',\n",
              " 'summarization',\n",
              " 'is',\n",
              " 'another',\n",
              " 'application',\n",
              " 'example',\n",
              " 'of',\n",
              " 'automatic',\n",
              " 'summarization',\n",
              " '.',\n",
              " 'It',\n",
              " 'consists',\n",
              " 'in',\n",
              " 'selecting',\n",
              " 'a',\n",
              " 'representative',\n",
              " 'set',\n",
              " 'of',\n",
              " 'images',\n",
              " 'from',\n",
              " 'a',\n",
              " 'larger',\n",
              " 'set',\n",
              " 'of',\n",
              " 'images.[3',\n",
              " ']',\n",
              " 'A',\n",
              " 'summary',\n",
              " 'in',\n",
              " 'this',\n",
              " 'context',\n",
              " 'is',\n",
              " 'useful',\n",
              " 'to',\n",
              " 'show',\n",
              " 'the',\n",
              " 'most',\n",
              " 'representative',\n",
              " 'images',\n",
              " 'of',\n",
              " 'results',\n",
              " 'in',\n",
              " 'an',\n",
              " 'image',\n",
              " 'collection',\n",
              " 'exploration',\n",
              " 'system',\n",
              " '.',\n",
              " 'Video',\n",
              " 'summarization',\n",
              " 'is',\n",
              " 'a',\n",
              " 'related',\n",
              " 'domain',\n",
              " ',',\n",
              " 'where',\n",
              " 'the',\n",
              " 'system',\n",
              " 'automatically',\n",
              " 'creates',\n",
              " 'a',\n",
              " 'trailer',\n",
              " 'of',\n",
              " 'a',\n",
              " 'long',\n",
              " 'video',\n",
              " '.',\n",
              " 'This',\n",
              " 'also',\n",
              " 'has',\n",
              " 'applications',\n",
              " 'in',\n",
              " 'consumer',\n",
              " 'or',\n",
              " 'personal',\n",
              " 'videos',\n",
              " ',',\n",
              " 'where',\n",
              " 'one',\n",
              " 'might',\n",
              " 'want',\n",
              " 'to',\n",
              " 'skip',\n",
              " 'the',\n",
              " 'boring',\n",
              " 'or',\n",
              " 'repetitive',\n",
              " 'actions',\n",
              " '.',\n",
              " 'Similarly',\n",
              " ',',\n",
              " 'in',\n",
              " 'surveillance',\n",
              " 'videos',\n",
              " ',',\n",
              " 'one',\n",
              " 'would',\n",
              " 'want',\n",
              " 'to',\n",
              " 'extract',\n",
              " 'important',\n",
              " 'and',\n",
              " 'suspicious',\n",
              " 'activity',\n",
              " ',',\n",
              " 'while',\n",
              " 'ignoring',\n",
              " 'all',\n",
              " 'the',\n",
              " 'boring',\n",
              " 'and',\n",
              " 'redundant',\n",
              " 'frames',\n",
              " 'captured',\n",
              " '.',\n",
              " '\\n']"
            ]
          },
          "metadata": {},
          "execution_count": 8
        }
      ]
    },
    {
      "cell_type": "markdown",
      "metadata": {
        "id": "a8fb0054"
      },
      "source": [
        "# Proses 2 (Text cleaning)"
      ],
      "id": "a8fb0054"
    },
    {
      "cell_type": "code",
      "metadata": {
        "colab": {
          "base_uri": "https://localhost:8080/",
          "height": 36
        },
        "id": "F8MAErKb7qxH",
        "outputId": "e74763c7-7f07-42ac-cbd1-96720097e816"
      },
      "source": [
        "# Punctuation = karakter khusus, karakter ini akan dihilangkan dari teks\n",
        "\n",
        "punctuation = punctuation + '\\n'\n",
        "punctuation"
      ],
      "id": "F8MAErKb7qxH",
      "execution_count": 9,
      "outputs": [
        {
          "output_type": "execute_result",
          "data": {
            "application/vnd.google.colaboratory.intrinsic+json": {
              "type": "string"
            },
            "text/plain": [
              "'!\"#$%&\\'()*+,-./:;<=>?@[\\\\]^_`{|}~\\n'"
            ]
          },
          "metadata": {},
          "execution_count": 9
        }
      ]
    },
    {
      "cell_type": "markdown",
      "metadata": {
        "id": "ab74e37a"
      },
      "source": [
        "# Proses 3 ( Word-frequency table )"
      ],
      "id": "ab74e37a"
    },
    {
      "cell_type": "code",
      "metadata": {
        "id": "XIRJH2xP75Ns"
      },
      "source": [
        "word_frequencies = {}\n",
        "\n",
        "for word in doc:\n",
        "  if word.text.lower() not in stopwords:\n",
        "    if word.text.lower() not in punctuation:\n",
        "      if word.text not in word_frequencies.keys():\n",
        "        word_frequencies[word.text] = 1\n",
        "      else:\n",
        "        word_frequencies[word.text] += 1\n",
        "\n"
      ],
      "id": "XIRJH2xP75Ns",
      "execution_count": 10,
      "outputs": []
    },
    {
      "cell_type": "code",
      "metadata": {
        "id": "4edf901f",
        "colab": {
          "base_uri": "https://localhost:8080/"
        },
        "outputId": "421f51b8-1546-4c81-c88b-f4af71cba2e5"
      },
      "source": [
        "word_frequencies\n"
      ],
      "id": "4edf901f",
      "execution_count": 11,
      "outputs": [
        {
          "output_type": "execute_result",
          "data": {
            "text/plain": [
              "{' ': 1,\n",
              " 'Image': 1,\n",
              " 'Imagine': 1,\n",
              " 'Similarly': 1,\n",
              " 'Summarization': 1,\n",
              " 'Video': 1,\n",
              " 'able': 1,\n",
              " 'abstract': 2,\n",
              " 'actions': 1,\n",
              " 'activity': 1,\n",
              " 'application': 2,\n",
              " 'applications': 1,\n",
              " 'articles': 3,\n",
              " 'attempts': 1,\n",
              " 'automatic': 1,\n",
              " 'automatically': 3,\n",
              " 'based': 1,\n",
              " 'boring': 2,\n",
              " 'broadly': 1,\n",
              " 'called': 2,\n",
              " 'captured': 1,\n",
              " 'cluster': 1,\n",
              " 'collection': 3,\n",
              " 'concisely': 1,\n",
              " 'consists': 1,\n",
              " 'consumer': 1,\n",
              " 'context': 1,\n",
              " 'create': 1,\n",
              " 'creates': 1,\n",
              " 'depending': 2,\n",
              " 'document': 4,\n",
              " 'documents': 2,\n",
              " 'domain': 1,\n",
              " 'etc': 1,\n",
              " 'example': 3,\n",
              " 'exploration': 1,\n",
              " 'extract': 1,\n",
              " 'extractive': 1,\n",
              " 'focuses': 2,\n",
              " 'frames': 1,\n",
              " 'generated': 1,\n",
              " 'generating': 1,\n",
              " 'generic': 3,\n",
              " 'given': 2,\n",
              " 'ignoring': 1,\n",
              " 'image': 1,\n",
              " 'images': 3,\n",
              " 'images.[3': 1,\n",
              " 'important': 1,\n",
              " 'interested': 1,\n",
              " 'larger': 1,\n",
              " 'latest': 1,\n",
              " 'long': 1,\n",
              " 'machine': 1,\n",
              " 'multi': 1,\n",
              " 'multiple': 1,\n",
              " 'needs': 1,\n",
              " 'news': 4,\n",
              " 'objects': 1,\n",
              " 'obtaining': 1,\n",
              " 'personal': 1,\n",
              " 'problem': 2,\n",
              " 'produce': 1,\n",
              " 'program': 1,\n",
              " 'pulls': 1,\n",
              " 'query': 4,\n",
              " 'redundant': 1,\n",
              " 'related': 2,\n",
              " 'relevant': 2,\n",
              " 'repetitive': 1,\n",
              " 'representative': 2,\n",
              " 'represents': 1,\n",
              " 'results': 1,\n",
              " 'second': 1,\n",
              " 'selecting': 1,\n",
              " 'set': 2,\n",
              " 'sets': 1,\n",
              " 'single': 1,\n",
              " 'skip': 1,\n",
              " 'source': 2,\n",
              " 'specific': 1,\n",
              " 'stories': 1,\n",
              " 'summaries': 2,\n",
              " 'summarization': 11,\n",
              " 'summarizes': 1,\n",
              " 'summarizing': 1,\n",
              " 'summary': 4,\n",
              " 'surveillance': 1,\n",
              " 'suspicious': 1,\n",
              " 'system': 3,\n",
              " 'systems': 1,\n",
              " 'tasks': 1,\n",
              " 'text': 1,\n",
              " 'topic': 2,\n",
              " 'trailer': 1,\n",
              " 'types': 1,\n",
              " 'use': 1,\n",
              " 'useful': 1,\n",
              " 'user': 1,\n",
              " 'video': 1,\n",
              " 'videos': 3,\n",
              " 'want': 2,\n",
              " 'web': 1}"
            ]
          },
          "metadata": {},
          "execution_count": 11
        }
      ]
    },
    {
      "cell_type": "markdown",
      "metadata": {
        "id": "1aRZCLT_k584"
      },
      "source": [
        "![image.png](data:image/png;base64,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)"
      ],
      "id": "1aRZCLT_k584"
    },
    {
      "cell_type": "code",
      "metadata": {
        "colab": {
          "base_uri": "https://localhost:8080/"
        },
        "id": "ImQRc2hX84em",
        "outputId": "bf543d77-60dd-4b22-e096-8f13190b9a34"
      },
      "source": [
        "# Menyimpan nilai frekuensi maksimal dari token yang sudah dibuat\n",
        "\n",
        "max_frequency = max(word_frequencies.values())\n",
        "max_frequency"
      ],
      "id": "ImQRc2hX84em",
      "execution_count": 12,
      "outputs": [
        {
          "output_type": "execute_result",
          "data": {
            "text/plain": [
              "11"
            ]
          },
          "metadata": {},
          "execution_count": 12
        }
      ]
    },
    {
      "cell_type": "code",
      "metadata": {
        "colab": {
          "base_uri": "https://localhost:8080/"
        },
        "id": "7c9MHC439Exg",
        "outputId": "25981b37-d4fe-497c-ad0a-c324d9ef3a69"
      },
      "source": [
        "min_frequency = min(word_frequencies.values())\n",
        "min_frequency"
      ],
      "id": "7c9MHC439Exg",
      "execution_count": 13,
      "outputs": [
        {
          "output_type": "execute_result",
          "data": {
            "text/plain": [
              "1"
            ]
          },
          "metadata": {},
          "execution_count": 13
        }
      ]
    },
    {
      "cell_type": "code",
      "metadata": {
        "colab": {
          "base_uri": "https://localhost:8080/"
        },
        "id": "tA6-Dv-z9V07",
        "outputId": "9923b77f-2043-4ecc-8dd8-75b5e8edfd8c"
      },
      "source": [
        "# Menghitung skor\n",
        "\n",
        "for word in word_frequencies.keys():\n",
        "  word_frequencies[word] = word_frequencies[word]/max_frequency\n",
        "\n",
        "word_frequencies"
      ],
      "id": "tA6-Dv-z9V07",
      "execution_count": 14,
      "outputs": [
        {
          "output_type": "execute_result",
          "data": {
            "text/plain": [
              "{' ': 0.09090909090909091,\n",
              " 'Image': 0.09090909090909091,\n",
              " 'Imagine': 0.09090909090909091,\n",
              " 'Similarly': 0.09090909090909091,\n",
              " 'Summarization': 0.09090909090909091,\n",
              " 'Video': 0.09090909090909091,\n",
              " 'able': 0.09090909090909091,\n",
              " 'abstract': 0.18181818181818182,\n",
              " 'actions': 0.09090909090909091,\n",
              " 'activity': 0.09090909090909091,\n",
              " 'application': 0.18181818181818182,\n",
              " 'applications': 0.09090909090909091,\n",
              " 'articles': 0.2727272727272727,\n",
              " 'attempts': 0.09090909090909091,\n",
              " 'automatic': 0.09090909090909091,\n",
              " 'automatically': 0.2727272727272727,\n",
              " 'based': 0.09090909090909091,\n",
              " 'boring': 0.18181818181818182,\n",
              " 'broadly': 0.09090909090909091,\n",
              " 'called': 0.18181818181818182,\n",
              " 'captured': 0.09090909090909091,\n",
              " 'cluster': 0.09090909090909091,\n",
              " 'collection': 0.2727272727272727,\n",
              " 'concisely': 0.09090909090909091,\n",
              " 'consists': 0.09090909090909091,\n",
              " 'consumer': 0.09090909090909091,\n",
              " 'context': 0.09090909090909091,\n",
              " 'create': 0.09090909090909091,\n",
              " 'creates': 0.09090909090909091,\n",
              " 'depending': 0.18181818181818182,\n",
              " 'document': 0.36363636363636365,\n",
              " 'documents': 0.18181818181818182,\n",
              " 'domain': 0.09090909090909091,\n",
              " 'etc': 0.09090909090909091,\n",
              " 'example': 0.2727272727272727,\n",
              " 'exploration': 0.09090909090909091,\n",
              " 'extract': 0.09090909090909091,\n",
              " 'extractive': 0.09090909090909091,\n",
              " 'focuses': 0.18181818181818182,\n",
              " 'frames': 0.09090909090909091,\n",
              " 'generated': 0.09090909090909091,\n",
              " 'generating': 0.09090909090909091,\n",
              " 'generic': 0.2727272727272727,\n",
              " 'given': 0.18181818181818182,\n",
              " 'ignoring': 0.09090909090909091,\n",
              " 'image': 0.09090909090909091,\n",
              " 'images': 0.2727272727272727,\n",
              " 'images.[3': 0.09090909090909091,\n",
              " 'important': 0.09090909090909091,\n",
              " 'interested': 0.09090909090909091,\n",
              " 'larger': 0.09090909090909091,\n",
              " 'latest': 0.09090909090909091,\n",
              " 'long': 0.09090909090909091,\n",
              " 'machine': 0.09090909090909091,\n",
              " 'multi': 0.09090909090909091,\n",
              " 'multiple': 0.09090909090909091,\n",
              " 'needs': 0.09090909090909091,\n",
              " 'news': 0.36363636363636365,\n",
              " 'objects': 0.09090909090909091,\n",
              " 'obtaining': 0.09090909090909091,\n",
              " 'personal': 0.09090909090909091,\n",
              " 'problem': 0.18181818181818182,\n",
              " 'produce': 0.09090909090909091,\n",
              " 'program': 0.09090909090909091,\n",
              " 'pulls': 0.09090909090909091,\n",
              " 'query': 0.36363636363636365,\n",
              " 'redundant': 0.09090909090909091,\n",
              " 'related': 0.18181818181818182,\n",
              " 'relevant': 0.18181818181818182,\n",
              " 'repetitive': 0.09090909090909091,\n",
              " 'representative': 0.18181818181818182,\n",
              " 'represents': 0.09090909090909091,\n",
              " 'results': 0.09090909090909091,\n",
              " 'second': 0.09090909090909091,\n",
              " 'selecting': 0.09090909090909091,\n",
              " 'set': 0.18181818181818182,\n",
              " 'sets': 0.09090909090909091,\n",
              " 'single': 0.09090909090909091,\n",
              " 'skip': 0.09090909090909091,\n",
              " 'source': 0.18181818181818182,\n",
              " 'specific': 0.09090909090909091,\n",
              " 'stories': 0.09090909090909091,\n",
              " 'summaries': 0.18181818181818182,\n",
              " 'summarization': 1.0,\n",
              " 'summarizes': 0.09090909090909091,\n",
              " 'summarizing': 0.09090909090909091,\n",
              " 'summary': 0.36363636363636365,\n",
              " 'surveillance': 0.09090909090909091,\n",
              " 'suspicious': 0.09090909090909091,\n",
              " 'system': 0.2727272727272727,\n",
              " 'systems': 0.09090909090909091,\n",
              " 'tasks': 0.09090909090909091,\n",
              " 'text': 0.09090909090909091,\n",
              " 'topic': 0.18181818181818182,\n",
              " 'trailer': 0.09090909090909091,\n",
              " 'types': 0.09090909090909091,\n",
              " 'use': 0.09090909090909091,\n",
              " 'useful': 0.09090909090909091,\n",
              " 'user': 0.09090909090909091,\n",
              " 'video': 0.09090909090909091,\n",
              " 'videos': 0.2727272727272727,\n",
              " 'want': 0.18181818181818182,\n",
              " 'web': 0.09090909090909091}"
            ]
          },
          "metadata": {},
          "execution_count": 14
        }
      ]
    },
    {
      "cell_type": "code",
      "metadata": {
        "id": "55f406d8",
        "colab": {
          "base_uri": "https://localhost:8080/"
        },
        "outputId": "1e16c735-9942-4ad0-b2c9-4531661de7ba"
      },
      "source": [
        "sentence_tokens = [sent for sent in doc.sents]\n",
        "sentence_tokens"
      ],
      "id": "55f406d8",
      "execution_count": 15,
      "outputs": [
        {
          "output_type": "execute_result",
          "data": {
            "text/plain": [
              "[ There are broadly two types of extractive summarization tasks depending on what the summarization program focuses on.,\n",
              " The first is generic summarization, which focuses on obtaining a generic summary or abstract of the collection (whether documents, or sets of images, or videos, news stories etc.).,\n",
              " The second is query relevant summarization, sometimes called query-based summarization, which summarizes objects specific to a query.,\n",
              " Summarization systems are able to create both query relevant text summaries and generic machine-generated summaries depending on what the user needs. ,\n",
              " An example of a summarization problem is document summarization, which attempts to automatically produce an abstract from a given document.,\n",
              " Sometimes one might be interested in generating a summary from a single source document, while others can use multiple source documents (for example, a cluster of articles on the same topic).,\n",
              " This problem is called multi-document summarization.,\n",
              " A related application is summarizing news articles.,\n",
              " Imagine a system, which automatically pulls together news articles on a given topic (from the web), and concisely represents the latest news as a summary. ,\n",
              " Image collection summarization is another application example of automatic summarization.,\n",
              " It consists in selecting a representative set of images from a larger set of images.[3],\n",
              " A summary in this context is useful to show the most representative images of results in an image collection exploration system.,\n",
              " Video summarization is a related domain, where the system automatically creates a trailer of a long video.,\n",
              " This also has applications in consumer or personal videos, where one might want to skip the boring or repetitive actions.,\n",
              " Similarly, in surveillance videos, one would want to extract important and suspicious activity, while ignoring all the boring and redundant frames captured.]"
            ]
          },
          "metadata": {},
          "execution_count": 15
        }
      ]
    },
    {
      "cell_type": "code",
      "metadata": {
        "id": "7u2dsLuN-Mm0",
        "colab": {
          "base_uri": "https://localhost:8080/"
        },
        "outputId": "8681f893-c0e3-48f1-9332-3cf728378da4"
      },
      "source": [
        "# Mengisi skor untuk setiap kalimat\n",
        "\n",
        "sentence_scores = {}\n",
        "for sent in sentence_tokens:\n",
        "  for word in sent:\n",
        "    if word.text.lower() in word_frequencies.keys():\n",
        "      if sent not in sentence_scores.keys():\n",
        "        sentence_scores[sent] = word_frequencies[word.text.lower()]\n",
        "      else:\n",
        "        sentence_scores[sent] += word_frequencies[word.text.lower()]\n",
        "\n",
        "\n",
        "sentence_scores"
      ],
      "id": "7u2dsLuN-Mm0",
      "execution_count": 16,
      "outputs": [
        {
          "output_type": "execute_result",
          "data": {
            "text/plain": [
              "{ There are broadly two types of extractive summarization tasks depending on what the summarization program focuses on.: 2.909090909090909,\n",
              " The first is generic summarization, which focuses on obtaining a generic summary or abstract of the collection (whether documents, or sets of images, or videos, news stories etc.).: 3.9999999999999987,\n",
              " The second is query relevant summarization, sometimes called query-based summarization, which summarizes objects specific to a query.: 3.909090909090909,\n",
              " Summarization systems are able to create both query relevant text summaries and generic machine-generated summaries depending on what the user needs. : 3.09090909090909,\n",
              " An example of a summarization problem is document summarization, which attempts to automatically produce an abstract from a given document.: 3.9999999999999996,\n",
              " Sometimes one might be interested in generating a summary from a single source document, while others can use multiple source documents (for example, a cluster of articles on the same topic).: 2.545454545454545,\n",
              " This problem is called multi-document summarization.: 1.8181818181818183,\n",
              " A related application is summarizing news articles.: 1.0909090909090908,\n",
              " Imagine a system, which automatically pulls together news articles on a given topic (from the web), and concisely represents the latest news as a summary. : 2.727272727272727,\n",
              " Image collection summarization is another application example of automatic summarization.: 2.909090909090909,\n",
              " It consists in selecting a representative set of images from a larger set of images.[3]: 1.1818181818181817,\n",
              " A summary in this context is useful to show the most representative images of results in an image collection exploration system.: 1.818181818181818,\n",
              " Video summarization is a related domain, where the system automatically creates a trailer of a long video.: 2.2727272727272725,\n",
              " This also has applications in consumer or personal videos, where one might want to skip the boring or repetitive actions.: 1.1818181818181817,\n",
              " Similarly, in surveillance videos, one would want to extract important and suspicious activity, while ignoring all the boring and redundant frames captured.: 1.4545454545454544}"
            ]
          },
          "metadata": {},
          "execution_count": 16
        }
      ]
    },
    {
      "cell_type": "markdown",
      "metadata": {
        "id": "a8898340"
      },
      "source": [
        "# Proses 4 : End Process (Summarization)"
      ],
      "id": "a8898340"
    },
    {
      "cell_type": "markdown",
      "metadata": {
        "id": "Xa1AsKt2KkeZ"
      },
      "source": [
        "[heapq](https://docs.python.org/3/library/heapq.html)"
      ],
      "id": "Xa1AsKt2KkeZ"
    },
    {
      "cell_type": "code",
      "metadata": {
        "id": "1730f8a7"
      },
      "source": [
        "# Import library nlargest untuk mengurutkan dan mengambil n nilai terbesar dari list.\n",
        "\n",
        "from heapq import nlargest"
      ],
      "id": "1730f8a7",
      "execution_count": 17,
      "outputs": []
    },
    {
      "cell_type": "markdown",
      "metadata": {
        "id": "yhkORnKZlTwW"
      },
      "source": [
        "![image.png](data:image/png;base64,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)"
      ],
      "id": "yhkORnKZlTwW"
    },
    {
      "cell_type": "code",
      "metadata": {
        "id": "45113ff2",
        "colab": {
          "base_uri": "https://localhost:8080/"
        },
        "outputId": "f49514ff-ec3e-472a-c63d-265652bc87dd"
      },
      "source": [
        "# Menentukan ukuran teks setelah dirangkum menjadi 30% dari teks asli\n",
        "\n",
        "summarization_percentage = 0.3\n",
        "select_lenght = int(len(sentence_tokens) * summarization_percentage)\n",
        "select_lenght"
      ],
      "id": "45113ff2",
      "execution_count": 18,
      "outputs": [
        {
          "output_type": "execute_result",
          "data": {
            "text/plain": [
              "4"
            ]
          },
          "metadata": {},
          "execution_count": 18
        }
      ]
    },
    {
      "cell_type": "markdown",
      "metadata": {
        "id": "O7FqsPOXlXhG"
      },
      "source": [
        "![image.png](data:image/png;base64,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)"
      ],
      "id": "O7FqsPOXlXhG"
    },
    {
      "cell_type": "code",
      "metadata": {
        "id": "96e9b098"
      },
      "source": [
        "summary = nlargest(select_lenght, sentence_scores, key = sentence_scores.get)"
      ],
      "id": "96e9b098",
      "execution_count": 19,
      "outputs": []
    },
    {
      "cell_type": "code",
      "metadata": {
        "id": "9ZlrIdDR47D9",
        "colab": {
          "base_uri": "https://localhost:8080/"
        },
        "outputId": "4951727c-5410-4605-90d0-0adb5dd740d5"
      },
      "source": [
        "summary"
      ],
      "id": "9ZlrIdDR47D9",
      "execution_count": 20,
      "outputs": [
        {
          "output_type": "execute_result",
          "data": {
            "text/plain": [
              "[An example of a summarization problem is document summarization, which attempts to automatically produce an abstract from a given document.,\n",
              " The first is generic summarization, which focuses on obtaining a generic summary or abstract of the collection (whether documents, or sets of images, or videos, news stories etc.).,\n",
              " The second is query relevant summarization, sometimes called query-based summarization, which summarizes objects specific to a query.,\n",
              " Summarization systems are able to create both query relevant text summaries and generic machine-generated summaries depending on what the user needs. ]"
            ]
          },
          "metadata": {},
          "execution_count": 20
        }
      ]
    },
    {
      "cell_type": "code",
      "metadata": {
        "id": "b232b3b7"
      },
      "source": [
        "final_summary = [word.text for word in summary]\n",
        "summary = ' '.join(final_summary)"
      ],
      "id": "b232b3b7",
      "execution_count": 21,
      "outputs": []
    },
    {
      "cell_type": "code",
      "metadata": {
        "id": "5581b217",
        "colab": {
          "base_uri": "https://localhost:8080/"
        },
        "outputId": "07df1d41-2ba9-4a50-bb94-7be1862acd9b"
      },
      "source": [
        "print(f\"Jumlah kata sebelum dirangkum : {len(text)}\")\n",
        "print(f\"Jumlah kata setelah dirangkum : {len(summary)}\")"
      ],
      "id": "5581b217",
      "execution_count": 22,
      "outputs": [
        {
          "output_type": "stream",
          "name": "stdout",
          "text": [
            "Jumlah kata sebelum dirangkum : 1871\n",
            "Jumlah kata setelah dirangkum : 606\n"
          ]
        }
      ]
    },
    {
      "cell_type": "code",
      "metadata": {
        "id": "0I9KsgFRBN_G",
        "colab": {
          "base_uri": "https://localhost:8080/",
          "height": 127
        },
        "outputId": "9fd93f40-9227-4678-e8e4-2fa2280b1c87"
      },
      "source": [
        "text"
      ],
      "id": "0I9KsgFRBN_G",
      "execution_count": 23,
      "outputs": [
        {
          "output_type": "execute_result",
          "data": {
            "application/vnd.google.colaboratory.intrinsic+json": {
              "type": "string"
            },
            "text/plain": [
              "' There are broadly two types of extractive summarization tasks depending on what the summarization program focuses on. The first is generic summarization, which focuses on obtaining a generic summary or abstract of the collection (whether documents, or sets of images, or videos, news stories etc.). The second is query relevant summarization, sometimes called query-based summarization, which summarizes objects specific to a query. Summarization systems are able to create both query relevant text summaries and generic machine-generated summaries depending on what the user needs. \\nAn example of a summarization problem is document summarization, which attempts to automatically produce an abstract from a given document. Sometimes one might be interested in generating a summary from a single source document, while others can use multiple source documents (for example, a cluster of articles on the same topic). This problem is called multi-document summarization. A related application is summarizing news articles. Imagine a system, which automatically pulls together news articles on a given topic (from the web), and concisely represents the latest news as a summary. \\nImage collection summarization is another application example of automatic summarization. It consists in selecting a representative set of images from a larger set of images.[3] A summary in this context is useful to show the most representative images of results in an image collection exploration system. Video summarization is a related domain, where the system automatically creates a trailer of a long video. This also has applications in consumer or personal videos, where one might want to skip the boring or repetitive actions. Similarly, in surveillance videos, one would want to extract important and suspicious activity, while ignoring all the boring and redundant frames captured.\\n'"
            ]
          },
          "metadata": {},
          "execution_count": 23
        }
      ]
    },
    {
      "cell_type": "code",
      "metadata": {
        "id": "FLRnxyXfBRvz",
        "colab": {
          "base_uri": "https://localhost:8080/",
          "height": 91
        },
        "outputId": "af83c484-720d-438c-f52f-cd24cf8365d6"
      },
      "source": [
        "summary"
      ],
      "id": "FLRnxyXfBRvz",
      "execution_count": 24,
      "outputs": [
        {
          "output_type": "execute_result",
          "data": {
            "application/vnd.google.colaboratory.intrinsic+json": {
              "type": "string"
            },
            "text/plain": [
              "'An example of a summarization problem is document summarization, which attempts to automatically produce an abstract from a given document. The first is generic summarization, which focuses on obtaining a generic summary or abstract of the collection (whether documents, or sets of images, or videos, news stories etc.). The second is query relevant summarization, sometimes called query-based summarization, which summarizes objects specific to a query. Summarization systems are able to create both query relevant text summaries and generic machine-generated summaries depending on what the user needs. \\n'"
            ]
          },
          "metadata": {},
          "execution_count": 24
        }
      ]
    }
  ]
}