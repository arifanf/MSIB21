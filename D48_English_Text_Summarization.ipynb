{
  "nbformat": 4,
  "nbformat_minor": 5,
  "metadata": {
    "kernelspec": {
      "display_name": "Python 3",
      "language": "python",
      "name": "python3"
    },
    "language_info": {
      "codemirror_mode": {
        "name": "ipython",
        "version": 3
      },
      "file_extension": ".py",
      "mimetype": "text/x-python",
      "name": "python",
      "nbconvert_exporter": "python",
      "pygments_lexer": "ipython3",
      "version": "3.8.8"
    },
    "colab": {
      "name": "D48_English Text Summarization.ipynb",
      "provenance": [],
      "collapsed_sections": [],
      "include_colab_link": true
    }
  },
  "cells": [
    {
      "cell_type": "markdown",
      "metadata": {
        "id": "view-in-github",
        "colab_type": "text"
      },
      "source": [
        "<a href=\"https://colab.research.google.com/github/arifanf/MSIB21/blob/main/D48_English_Text_Summarization.ipynb\" target=\"_parent\"><img src=\"https://colab.research.google.com/assets/colab-badge.svg\" alt=\"Open In Colab\"/></a>"
      ]
    },
    {
      "cell_type": "markdown",
      "metadata": {
        "id": "gVG3dPqcHnz9"
      },
      "source": [
        "Day 48 - Rabu, 27 Oktober 2021"
      ],
      "id": "gVG3dPqcHnz9"
    },
    {
      "cell_type": "markdown",
      "metadata": {
        "id": "1ab456e7"
      },
      "source": [
        "# Extractive Text Summarization"
      ],
      "id": "1ab456e7"
    },
    {
      "cell_type": "markdown",
      "metadata": {
        "id": "94mcNor6Jy2-"
      },
      "source": [
        "Source : [Youtube](https://youtu.be/9PoKellNrBc)"
      ],
      "id": "94mcNor6Jy2-"
    },
    {
      "cell_type": "markdown",
      "metadata": {
        "id": "mPDQJYILLYpC"
      },
      "source": [
        "*Pada local computer*"
      ],
      "id": "mPDQJYILLYpC"
    },
    {
      "cell_type": "code",
      "metadata": {
        "id": "dc31f0f6"
      },
      "source": [
        "#Lakukan install modul spacy pada cmd:\n",
        "#Buka command prompt dengan klik kanan administrator previlege (Run as administrator).\n",
        "#Gunakan direktori C:\\\n",
        "#ketik : conda install -c conda-forge spacy\n",
        "#ketik : python -m spacy download en"
      ],
      "id": "dc31f0f6",
      "execution_count": 1,
      "outputs": []
    },
    {
      "cell_type": "code",
      "metadata": {
        "id": "DuonRICV5nxm"
      },
      "source": [
        "# Import library Spacy, library untuk melakukan proses yang ada di dalam domain nlp\n",
        "\n",
        "import spacy \n",
        "from spacy.lang.en.stop_words import STOP_WORDS\n",
        "from string import punctuation"
      ],
      "id": "DuonRICV5nxm",
      "execution_count": 2,
      "outputs": []
    },
    {
      "cell_type": "code",
      "metadata": {
        "id": "8aae4d8f",
        "colab": {
          "base_uri": "https://localhost:8080/"
        },
        "outputId": "7305b149-1277-44cb-873e-84cefdf33f5e"
      },
      "source": [
        "# Memasukkan daftar stopword ke dalam variabel stopwords\n",
        "\n",
        "stopwords = list(STOP_WORDS)\n",
        "stopwords"
      ],
      "id": "8aae4d8f",
      "execution_count": 3,
      "outputs": [
        {
          "output_type": "execute_result",
          "data": {
            "text/plain": [
              "['become',\n",
              " 'twenty',\n",
              " 'whoever',\n",
              " 'thus',\n",
              " 'you',\n",
              " 'my',\n",
              " \"'ve\",\n",
              " 'very',\n",
              " '‘ll',\n",
              " 'name',\n",
              " 'through',\n",
              " 'someone',\n",
              " 'above',\n",
              " 'next',\n",
              " 'these',\n",
              " 'your',\n",
              " 'sixty',\n",
              " 'so',\n",
              " 'own',\n",
              " 'against',\n",
              " 'he',\n",
              " 'used',\n",
              " 'has',\n",
              " 'then',\n",
              " 'whence',\n",
              " 'regarding',\n",
              " 'without',\n",
              " 'ca',\n",
              " 'yet',\n",
              " 'nobody',\n",
              " 'not',\n",
              " 'another',\n",
              " 'least',\n",
              " 'much',\n",
              " 'third',\n",
              " 'does',\n",
              " 'across',\n",
              " 'may',\n",
              " 'now',\n",
              " 'seeming',\n",
              " 'although',\n",
              " 'that',\n",
              " 'latterly',\n",
              " 'same',\n",
              " 'this',\n",
              " 're',\n",
              " \"'m\",\n",
              " 'over',\n",
              " 'former',\n",
              " 'else',\n",
              " 'a',\n",
              " 'her',\n",
              " 'with',\n",
              " 'move',\n",
              " 'might',\n",
              " 'hundred',\n",
              " 'beside',\n",
              " 'anyway',\n",
              " 'from',\n",
              " 'out',\n",
              " 'further',\n",
              " 'eleven',\n",
              " 'for',\n",
              " 'serious',\n",
              " 'was',\n",
              " 'them',\n",
              " 'bottom',\n",
              " 'whither',\n",
              " 'behind',\n",
              " 'give',\n",
              " 'together',\n",
              " 'whole',\n",
              " 'due',\n",
              " 'thereby',\n",
              " 'who',\n",
              " \"'d\",\n",
              " 'but',\n",
              " 'few',\n",
              " 'all',\n",
              " \"'ll\",\n",
              " 'such',\n",
              " 'herein',\n",
              " 'i',\n",
              " 'him',\n",
              " 'to',\n",
              " 'latter',\n",
              " 'fifty',\n",
              " 'would',\n",
              " 'himself',\n",
              " 'within',\n",
              " 'either',\n",
              " 'an',\n",
              " 'hence',\n",
              " 'where',\n",
              " \"n't\",\n",
              " 'how',\n",
              " 'hereafter',\n",
              " 'mine',\n",
              " 'nothing',\n",
              " 'during',\n",
              " 'top',\n",
              " 'became',\n",
              " 'mostly',\n",
              " 'his',\n",
              " 'made',\n",
              " 'really',\n",
              " 'using',\n",
              " 'any',\n",
              " '‘m',\n",
              " 'go',\n",
              " '’s',\n",
              " 'front',\n",
              " 'there',\n",
              " 'eight',\n",
              " 'onto',\n",
              " 'therein',\n",
              " 'have',\n",
              " 'many',\n",
              " 'their',\n",
              " 'each',\n",
              " 'per',\n",
              " 'rather',\n",
              " 'were',\n",
              " 'most',\n",
              " 'somehow',\n",
              " 'our',\n",
              " 'make',\n",
              " 'other',\n",
              " 'neither',\n",
              " 'say',\n",
              " 'thence',\n",
              " 'under',\n",
              " 'three',\n",
              " '’ll',\n",
              " 'side',\n",
              " 'moreover',\n",
              " '‘ve',\n",
              " 'hereupon',\n",
              " 'just',\n",
              " 'did',\n",
              " 'itself',\n",
              " 'back',\n",
              " 'wherever',\n",
              " 'along',\n",
              " 'first',\n",
              " 'ever',\n",
              " 'both',\n",
              " 'on',\n",
              " 'whereby',\n",
              " 'ours',\n",
              " 'whereas',\n",
              " 'hers',\n",
              " 'unless',\n",
              " 'take',\n",
              " 'because',\n",
              " 'throughout',\n",
              " 'none',\n",
              " 'last',\n",
              " 'namely',\n",
              " 'two',\n",
              " 'also',\n",
              " 'too',\n",
              " 'full',\n",
              " 'seems',\n",
              " 'get',\n",
              " 'four',\n",
              " 'up',\n",
              " 'about',\n",
              " 'we',\n",
              " 'again',\n",
              " 'noone',\n",
              " 'whether',\n",
              " 'yourself',\n",
              " 'n’t',\n",
              " 'after',\n",
              " 'whose',\n",
              " 'when',\n",
              " 'everyone',\n",
              " 'the',\n",
              " 'alone',\n",
              " \"'re\",\n",
              " 'though',\n",
              " 'whereupon',\n",
              " 'part',\n",
              " 'into',\n",
              " 'amount',\n",
              " 'me',\n",
              " 'yours',\n",
              " 'beyond',\n",
              " '‘re',\n",
              " '‘d',\n",
              " 'less',\n",
              " 'since',\n",
              " 'as',\n",
              " 'thru',\n",
              " 'by',\n",
              " 'themselves',\n",
              " 'several',\n",
              " 'nevertheless',\n",
              " 'whenever',\n",
              " 'while',\n",
              " 'thereafter',\n",
              " 'down',\n",
              " 'nowhere',\n",
              " 'please',\n",
              " 'upon',\n",
              " 'becoming',\n",
              " 'keep',\n",
              " 'been',\n",
              " 'therefore',\n",
              " \"'s\",\n",
              " 'or',\n",
              " 'done',\n",
              " 'had',\n",
              " 'never',\n",
              " 'off',\n",
              " 'everywhere',\n",
              " 'between',\n",
              " 'even',\n",
              " 'once',\n",
              " 'only',\n",
              " 'and',\n",
              " 'beforehand',\n",
              " 'wherein',\n",
              " 'twelve',\n",
              " 'put',\n",
              " 'herself',\n",
              " 'forty',\n",
              " 'than',\n",
              " 'its',\n",
              " 'what',\n",
              " 'at',\n",
              " 'if',\n",
              " 'below',\n",
              " 'being',\n",
              " 'be',\n",
              " '’m',\n",
              " 'indeed',\n",
              " 'nor',\n",
              " 'besides',\n",
              " 'formerly',\n",
              " 'always',\n",
              " 'others',\n",
              " 'elsewhere',\n",
              " 'already',\n",
              " 'call',\n",
              " 'fifteen',\n",
              " 'meanwhile',\n",
              " 'perhaps',\n",
              " 'here',\n",
              " 'of',\n",
              " 'until',\n",
              " 'nine',\n",
              " 'around',\n",
              " 'ten',\n",
              " 'six',\n",
              " 'seem',\n",
              " 'n‘t',\n",
              " 'often',\n",
              " 'towards',\n",
              " 'anywhere',\n",
              " 'among',\n",
              " 'some',\n",
              " 'sometime',\n",
              " 'thereupon',\n",
              " 'must',\n",
              " 'is',\n",
              " 'no',\n",
              " 'which',\n",
              " 'can',\n",
              " 'one',\n",
              " 'otherwise',\n",
              " 'cannot',\n",
              " 'will',\n",
              " '’d',\n",
              " 'seemed',\n",
              " 'in',\n",
              " 'except',\n",
              " 'toward',\n",
              " 'hereby',\n",
              " 'ourselves',\n",
              " 'however',\n",
              " 'do',\n",
              " 'see',\n",
              " 'somewhere',\n",
              " 'should',\n",
              " 'myself',\n",
              " 'everything',\n",
              " '’ve',\n",
              " '’re',\n",
              " 'becomes',\n",
              " 'every',\n",
              " 'why',\n",
              " 'almost',\n",
              " 'sometimes',\n",
              " 'before',\n",
              " 'quite',\n",
              " 'us',\n",
              " 'doing',\n",
              " 'something',\n",
              " 'anyone',\n",
              " 'yourselves',\n",
              " 'whatever',\n",
              " '‘s',\n",
              " 'anyhow',\n",
              " 'it',\n",
              " 'various',\n",
              " 'am',\n",
              " 'more',\n",
              " 'well',\n",
              " 'five',\n",
              " 'could',\n",
              " 'they',\n",
              " 'are',\n",
              " 'enough',\n",
              " 'whom',\n",
              " 'amongst',\n",
              " 'empty',\n",
              " 'still',\n",
              " 'anything',\n",
              " 'via',\n",
              " 'those',\n",
              " 'show',\n",
              " 'afterwards',\n",
              " 'whereafter',\n",
              " 'she']"
            ]
          },
          "metadata": {},
          "execution_count": 3
        }
      ]
    },
    {
      "cell_type": "code",
      "metadata": {
        "id": "8b0a6d49",
        "colab": {
          "base_uri": "https://localhost:8080/"
        },
        "outputId": "d2bcd555-e4d2-4dda-b887-fe8869b61696"
      },
      "source": [
        "# Mengambil komponen - komponen pada Spacy seperti:\n",
        "# tok2vec, tagger, parser, senter, ner, attribute_ruler, lemmatizer\n",
        "\n",
        "nlp = spacy.load('en_core_web_sm')\n",
        "nlp"
      ],
      "id": "8b0a6d49",
      "execution_count": 4,
      "outputs": [
        {
          "output_type": "execute_result",
          "data": {
            "text/plain": [
              "<spacy.lang.en.English at 0x7faa90ee5050>"
            ]
          },
          "metadata": {},
          "execution_count": 4
        }
      ]
    },
    {
      "cell_type": "markdown",
      "metadata": {
        "id": "LTpdZfqejvpT"
      },
      "source": [
        "There are broadly two types of extractive summarization tasks depending on what the summarization program focuses on. The first is generic summarization, which focuses on obtaining a generic summary or abstract of the collection (whether documents, or sets of images, or videos, news stories etc.). The second is query relevant summarization, sometimes called query-based summarization, which summarizes objects specific to a query. Summarization systems are able to create both query relevant text summaries and generic machine-generated summaries depending on what the user needs.\n",
        "An example of a summarization problem is document summarization, which attempts to automatically produce an abstract from a given document. Sometimes one might be interested in generating a summary from a single source document, while others can use multiple source documents (for example, a cluster of articles on the same topic). This problem is called multi-document summarization. A related application is summarizing news articles. Imagine a system, which automatically pulls together news articles on a given topic (from the web), and concisely represents the latest news as a summary.\n",
        "Image collection summarization is another application example of automatic summarization. It consists in selecting a representative set of images from a larger set of images.[3] A summary in this context is useful to show the most representative images of results in an image collection exploration system. Video summarization is a related domain, where the system automatically creates a trailer of a long video. This also has applications in consumer or personal videos, where one might want to skip the boring or repetitive actions. Similarly, in surveillance videos, one would want to extract important and suspicious activity, while ignoring all the boring and redundant frames captured."
      ],
      "id": "LTpdZfqejvpT"
    },
    {
      "cell_type": "code",
      "metadata": {
        "id": "21329d15"
      },
      "source": [
        "# Imput teks di atas disini\n",
        "\n",
        "text = \"\"\" There are broadly two types of extractive summarization tasks depending on what the summarization program focuses on. The first is generic summarization, which focuses on obtaining a generic summary or abstract of the collection (whether documents, or sets of images, or videos, news stories etc.). The second is query relevant summarization, sometimes called query-based summarization, which summarizes objects specific to a query. Summarization systems are able to create both query relevant text summaries and generic machine-generated summaries depending on what the user needs. \n",
        "An example of a summarization problem is document summarization, which attempts to automatically produce an abstract from a given document. Sometimes one might be interested in generating a summary from a single source document, while others can use multiple source documents (for example, a cluster of articles on the same topic). This problem is called multi-document summarization. A related application is summarizing news articles. Imagine a system, which automatically pulls together news articles on a given topic (from the web), and concisely represents the latest news as a summary. \n",
        "Image collection summarization is another application example of automatic summarization. It consists in selecting a representative set of images from a larger set of images.[3] A summary in this context is useful to show the most representative images of results in an image collection exploration system. Video summarization is a related domain, where the system automatically creates a trailer of a long video. This also has applications in consumer or personal videos, where one might want to skip the boring or repetitive actions. Similarly, in surveillance videos, one would want to extract important and suspicious activity, while ignoring all the boring and redundant frames captured.\n",
        "\"\"\""
      ],
      "id": "21329d15",
      "execution_count": 5,
      "outputs": []
    },
    {
      "cell_type": "code",
      "metadata": {
        "colab": {
          "base_uri": "https://localhost:8080/",
          "height": 127
        },
        "id": "Dah5BOqg7KfC",
        "outputId": "2444d0db-5779-41ca-b850-956f3ad66b75"
      },
      "source": [
        "text"
      ],
      "id": "Dah5BOqg7KfC",
      "execution_count": 6,
      "outputs": [
        {
          "output_type": "execute_result",
          "data": {
            "application/vnd.google.colaboratory.intrinsic+json": {
              "type": "string"
            },
            "text/plain": [
              "' There are broadly two types of extractive summarization tasks depending on what the summarization program focuses on. The first is generic summarization, which focuses on obtaining a generic summary or abstract of the collection (whether documents, or sets of images, or videos, news stories etc.). The second is query relevant summarization, sometimes called query-based summarization, which summarizes objects specific to a query. Summarization systems are able to create both query relevant text summaries and generic machine-generated summaries depending on what the user needs. \\nAn example of a summarization problem is document summarization, which attempts to automatically produce an abstract from a given document. Sometimes one might be interested in generating a summary from a single source document, while others can use multiple source documents (for example, a cluster of articles on the same topic). This problem is called multi-document summarization. A related application is summarizing news articles. Imagine a system, which automatically pulls together news articles on a given topic (from the web), and concisely represents the latest news as a summary. \\nImage collection summarization is another application example of automatic summarization. It consists in selecting a representative set of images from a larger set of images.[3] A summary in this context is useful to show the most representative images of results in an image collection exploration system. Video summarization is a related domain, where the system automatically creates a trailer of a long video. This also has applications in consumer or personal videos, where one might want to skip the boring or repetitive actions. Similarly, in surveillance videos, one would want to extract important and suspicious activity, while ignoring all the boring and redundant frames captured.\\n'"
            ]
          },
          "metadata": {},
          "execution_count": 6
        }
      ]
    },
    {
      "cell_type": "markdown",
      "metadata": {
        "id": "a9a09d3f"
      },
      "source": [
        "# Proses 1 (Tokenization)"
      ],
      "id": "a9a09d3f"
    },
    {
      "cell_type": "code",
      "metadata": {
        "colab": {
          "base_uri": "https://localhost:8080/"
        },
        "id": "Sp4FSrWy7PnG",
        "outputId": "6eb66241-a2cf-4ea4-ab56-44a7f9fd916e"
      },
      "source": [
        "# Membuat objek iterable (bisa dilakukan iterasi) dari teks\n",
        "\n",
        "doc = nlp(text)\n",
        "doc"
      ],
      "id": "Sp4FSrWy7PnG",
      "execution_count": 7,
      "outputs": [
        {
          "output_type": "execute_result",
          "data": {
            "text/plain": [
              " There are broadly two types of extractive summarization tasks depending on what the summarization program focuses on. The first is generic summarization, which focuses on obtaining a generic summary or abstract of the collection (whether documents, or sets of images, or videos, news stories etc.). The second is query relevant summarization, sometimes called query-based summarization, which summarizes objects specific to a query. Summarization systems are able to create both query relevant text summaries and generic machine-generated summaries depending on what the user needs. \n",
              "An example of a summarization problem is document summarization, which attempts to automatically produce an abstract from a given document. Sometimes one might be interested in generating a summary from a single source document, while others can use multiple source documents (for example, a cluster of articles on the same topic). This problem is called multi-document summarization. A related application is summarizing news articles. Imagine a system, which automatically pulls together news articles on a given topic (from the web), and concisely represents the latest news as a summary. \n",
              "Image collection summarization is another application example of automatic summarization. It consists in selecting a representative set of images from a larger set of images.[3] A summary in this context is useful to show the most representative images of results in an image collection exploration system. Video summarization is a related domain, where the system automatically creates a trailer of a long video. This also has applications in consumer or personal videos, where one might want to skip the boring or repetitive actions. Similarly, in surveillance videos, one would want to extract important and suspicious activity, while ignoring all the boring and redundant frames captured."
            ]
          },
          "metadata": {},
          "execution_count": 7
        }
      ]
    },
    {
      "cell_type": "code",
      "metadata": {
        "colab": {
          "base_uri": "https://localhost:8080/"
        },
        "id": "zCk8F-uS7c4i",
        "outputId": "a1b6d099-7886-4339-aaad-a937767a1eb0"
      },
      "source": [
        "# Membuat token dari teks\n",
        "\n",
        "tokens = [token.text for token in doc]\n",
        "tokens"
      ],
      "id": "zCk8F-uS7c4i",
      "execution_count": 8,
      "outputs": [
        {
          "output_type": "execute_result",
          "data": {
            "text/plain": [
              "[' ',\n",
              " 'There',\n",
              " 'are',\n",
              " 'broadly',\n",
              " 'two',\n",
              " 'types',\n",
              " 'of',\n",
              " 'extractive',\n",
              " 'summarization',\n",
              " 'tasks',\n",
              " 'depending',\n",
              " 'on',\n",
              " 'what',\n",
              " 'the',\n",
              " 'summarization',\n",
              " 'program',\n",
              " 'focuses',\n",
              " 'on',\n",
              " '.',\n",
              " 'The',\n",
              " 'first',\n",
              " 'is',\n",
              " 'generic',\n",
              " 'summarization',\n",
              " ',',\n",
              " 'which',\n",
              " 'focuses',\n",
              " 'on',\n",
              " 'obtaining',\n",
              " 'a',\n",
              " 'generic',\n",
              " 'summary',\n",
              " 'or',\n",
              " 'abstract',\n",
              " 'of',\n",
              " 'the',\n",
              " 'collection',\n",
              " '(',\n",
              " 'whether',\n",
              " 'documents',\n",
              " ',',\n",
              " 'or',\n",
              " 'sets',\n",
              " 'of',\n",
              " 'images',\n",
              " ',',\n",
              " 'or',\n",
              " 'videos',\n",
              " ',',\n",
              " 'news',\n",
              " 'stories',\n",
              " 'etc',\n",
              " '.',\n",
              " ')',\n",
              " '.',\n",
              " 'The',\n",
              " 'second',\n",
              " 'is',\n",
              " 'query',\n",
              " 'relevant',\n",
              " 'summarization',\n",
              " ',',\n",
              " 'sometimes',\n",
              " 'called',\n",
              " 'query',\n",
              " '-',\n",
              " 'based',\n",
              " 'summarization',\n",
              " ',',\n",
              " 'which',\n",
              " 'summarizes',\n",
              " 'objects',\n",
              " 'specific',\n",
              " 'to',\n",
              " 'a',\n",
              " 'query',\n",
              " '.',\n",
              " 'Summarization',\n",
              " 'systems',\n",
              " 'are',\n",
              " 'able',\n",
              " 'to',\n",
              " 'create',\n",
              " 'both',\n",
              " 'query',\n",
              " 'relevant',\n",
              " 'text',\n",
              " 'summaries',\n",
              " 'and',\n",
              " 'generic',\n",
              " 'machine',\n",
              " '-',\n",
              " 'generated',\n",
              " 'summaries',\n",
              " 'depending',\n",
              " 'on',\n",
              " 'what',\n",
              " 'the',\n",
              " 'user',\n",
              " 'needs',\n",
              " '.',\n",
              " '\\n',\n",
              " 'An',\n",
              " 'example',\n",
              " 'of',\n",
              " 'a',\n",
              " 'summarization',\n",
              " 'problem',\n",
              " 'is',\n",
              " 'document',\n",
              " 'summarization',\n",
              " ',',\n",
              " 'which',\n",
              " 'attempts',\n",
              " 'to',\n",
              " 'automatically',\n",
              " 'produce',\n",
              " 'an',\n",
              " 'abstract',\n",
              " 'from',\n",
              " 'a',\n",
              " 'given',\n",
              " 'document',\n",
              " '.',\n",
              " 'Sometimes',\n",
              " 'one',\n",
              " 'might',\n",
              " 'be',\n",
              " 'interested',\n",
              " 'in',\n",
              " 'generating',\n",
              " 'a',\n",
              " 'summary',\n",
              " 'from',\n",
              " 'a',\n",
              " 'single',\n",
              " 'source',\n",
              " 'document',\n",
              " ',',\n",
              " 'while',\n",
              " 'others',\n",
              " 'can',\n",
              " 'use',\n",
              " 'multiple',\n",
              " 'source',\n",
              " 'documents',\n",
              " '(',\n",
              " 'for',\n",
              " 'example',\n",
              " ',',\n",
              " 'a',\n",
              " 'cluster',\n",
              " 'of',\n",
              " 'articles',\n",
              " 'on',\n",
              " 'the',\n",
              " 'same',\n",
              " 'topic',\n",
              " ')',\n",
              " '.',\n",
              " 'This',\n",
              " 'problem',\n",
              " 'is',\n",
              " 'called',\n",
              " 'multi',\n",
              " '-',\n",
              " 'document',\n",
              " 'summarization',\n",
              " '.',\n",
              " 'A',\n",
              " 'related',\n",
              " 'application',\n",
              " 'is',\n",
              " 'summarizing',\n",
              " 'news',\n",
              " 'articles',\n",
              " '.',\n",
              " 'Imagine',\n",
              " 'a',\n",
              " 'system',\n",
              " ',',\n",
              " 'which',\n",
              " 'automatically',\n",
              " 'pulls',\n",
              " 'together',\n",
              " 'news',\n",
              " 'articles',\n",
              " 'on',\n",
              " 'a',\n",
              " 'given',\n",
              " 'topic',\n",
              " '(',\n",
              " 'from',\n",
              " 'the',\n",
              " 'web',\n",
              " ')',\n",
              " ',',\n",
              " 'and',\n",
              " 'concisely',\n",
              " 'represents',\n",
              " 'the',\n",
              " 'latest',\n",
              " 'news',\n",
              " 'as',\n",
              " 'a',\n",
              " 'summary',\n",
              " '.',\n",
              " '\\n',\n",
              " 'Image',\n",
              " 'collection',\n",
              " 'summarization',\n",
              " 'is',\n",
              " 'another',\n",
              " 'application',\n",
              " 'example',\n",
              " 'of',\n",
              " 'automatic',\n",
              " 'summarization',\n",
              " '.',\n",
              " 'It',\n",
              " 'consists',\n",
              " 'in',\n",
              " 'selecting',\n",
              " 'a',\n",
              " 'representative',\n",
              " 'set',\n",
              " 'of',\n",
              " 'images',\n",
              " 'from',\n",
              " 'a',\n",
              " 'larger',\n",
              " 'set',\n",
              " 'of',\n",
              " 'images.[3',\n",
              " ']',\n",
              " 'A',\n",
              " 'summary',\n",
              " 'in',\n",
              " 'this',\n",
              " 'context',\n",
              " 'is',\n",
              " 'useful',\n",
              " 'to',\n",
              " 'show',\n",
              " 'the',\n",
              " 'most',\n",
              " 'representative',\n",
              " 'images',\n",
              " 'of',\n",
              " 'results',\n",
              " 'in',\n",
              " 'an',\n",
              " 'image',\n",
              " 'collection',\n",
              " 'exploration',\n",
              " 'system',\n",
              " '.',\n",
              " 'Video',\n",
              " 'summarization',\n",
              " 'is',\n",
              " 'a',\n",
              " 'related',\n",
              " 'domain',\n",
              " ',',\n",
              " 'where',\n",
              " 'the',\n",
              " 'system',\n",
              " 'automatically',\n",
              " 'creates',\n",
              " 'a',\n",
              " 'trailer',\n",
              " 'of',\n",
              " 'a',\n",
              " 'long',\n",
              " 'video',\n",
              " '.',\n",
              " 'This',\n",
              " 'also',\n",
              " 'has',\n",
              " 'applications',\n",
              " 'in',\n",
              " 'consumer',\n",
              " 'or',\n",
              " 'personal',\n",
              " 'videos',\n",
              " ',',\n",
              " 'where',\n",
              " 'one',\n",
              " 'might',\n",
              " 'want',\n",
              " 'to',\n",
              " 'skip',\n",
              " 'the',\n",
              " 'boring',\n",
              " 'or',\n",
              " 'repetitive',\n",
              " 'actions',\n",
              " '.',\n",
              " 'Similarly',\n",
              " ',',\n",
              " 'in',\n",
              " 'surveillance',\n",
              " 'videos',\n",
              " ',',\n",
              " 'one',\n",
              " 'would',\n",
              " 'want',\n",
              " 'to',\n",
              " 'extract',\n",
              " 'important',\n",
              " 'and',\n",
              " 'suspicious',\n",
              " 'activity',\n",
              " ',',\n",
              " 'while',\n",
              " 'ignoring',\n",
              " 'all',\n",
              " 'the',\n",
              " 'boring',\n",
              " 'and',\n",
              " 'redundant',\n",
              " 'frames',\n",
              " 'captured',\n",
              " '.',\n",
              " '\\n']"
            ]
          },
          "metadata": {},
          "execution_count": 8
        }
      ]
    },
    {
      "cell_type": "markdown",
      "metadata": {
        "id": "a8fb0054"
      },
      "source": [
        "# Proses 2 (Text cleaning)"
      ],
      "id": "a8fb0054"
    },
    {
      "cell_type": "code",
      "metadata": {
        "colab": {
          "base_uri": "https://localhost:8080/",
          "height": 36
        },
        "id": "F8MAErKb7qxH",
        "outputId": "e74763c7-7f07-42ac-cbd1-96720097e816"
      },
      "source": [
        "# Punctuation = karakter khusus, karakter ini akan dihilangkan dari teks\n",
        "\n",
        "punctuation = punctuation + '\\n'\n",
        "punctuation"
      ],
      "id": "F8MAErKb7qxH",
      "execution_count": 9,
      "outputs": [
        {
          "output_type": "execute_result",
          "data": {
            "application/vnd.google.colaboratory.intrinsic+json": {
              "type": "string"
            },
            "text/plain": [
              "'!\"#$%&\\'()*+,-./:;<=>?@[\\\\]^_`{|}~\\n'"
            ]
          },
          "metadata": {},
          "execution_count": 9
        }
      ]
    },
    {
      "cell_type": "markdown",
      "metadata": {
        "id": "ab74e37a"
      },
      "source": [
        "# Proses 3 ( Word-frequency table )"
      ],
      "id": "ab74e37a"
    },
    {
      "cell_type": "code",
      "metadata": {
        "id": "XIRJH2xP75Ns"
      },
      "source": [
        "word_frequencies = {}\n",
        "\n",
        "for word in doc:\n",
        "  if word.text.lower() not in stopwords:\n",
        "    if word.text.lower() not in punctuation:\n",
        "      if word.text not in word_frequencies.keys():\n",
        "        word_frequencies[word.text] = 1\n",
        "      else:\n",
        "        word_frequencies[word.text] += 1\n",
        "\n"
      ],
      "id": "XIRJH2xP75Ns",
      "execution_count": 10,
      "outputs": []
    },
    {
      "cell_type": "code",
      "metadata": {
        "id": "4edf901f",
        "colab": {
          "base_uri": "https://localhost:8080/"
        },
        "outputId": "421f51b8-1546-4c81-c88b-f4af71cba2e5"
      },
      "source": [
        "word_frequencies\n"
      ],
      "id": "4edf901f",
      "execution_count": 11,
      "outputs": [
        {
          "output_type": "execute_result",
          "data": {
            "text/plain": [
              "{' ': 1,\n",
              " 'Image': 1,\n",
              " 'Imagine': 1,\n",
              " 'Similarly': 1,\n",
              " 'Summarization': 1,\n",
              " 'Video': 1,\n",
              " 'able': 1,\n",
              " 'abstract': 2,\n",
              " 'actions': 1,\n",
              " 'activity': 1,\n",
              " 'application': 2,\n",
              " 'applications': 1,\n",
              " 'articles': 3,\n",
              " 'attempts': 1,\n",
              " 'automatic': 1,\n",
              " 'automatically': 3,\n",
              " 'based': 1,\n",
              " 'boring': 2,\n",
              " 'broadly': 1,\n",
              " 'called': 2,\n",
              " 'captured': 1,\n",
              " 'cluster': 1,\n",
              " 'collection': 3,\n",
              " 'concisely': 1,\n",
              " 'consists': 1,\n",
              " 'consumer': 1,\n",
              " 'context': 1,\n",
              " 'create': 1,\n",
              " 'creates': 1,\n",
              " 'depending': 2,\n",
              " 'document': 4,\n",
              " 'documents': 2,\n",
              " 'domain': 1,\n",
              " 'etc': 1,\n",
              " 'example': 3,\n",
              " 'exploration': 1,\n",
              " 'extract': 1,\n",
              " 'extractive': 1,\n",
              " 'focuses': 2,\n",
              " 'frames': 1,\n",
              " 'generated': 1,\n",
              " 'generating': 1,\n",
              " 'generic': 3,\n",
              " 'given': 2,\n",
              " 'ignoring': 1,\n",
              " 'image': 1,\n",
              " 'images': 3,\n",
              " 'images.[3': 1,\n",
              " 'important': 1,\n",
              " 'interested': 1,\n",
              " 'larger': 1,\n",
              " 'latest': 1,\n",
              " 'long': 1,\n",
              " 'machine': 1,\n",
              " 'multi': 1,\n",
              " 'multiple': 1,\n",
              " 'needs': 1,\n",
              " 'news': 4,\n",
              " 'objects': 1,\n",
              " 'obtaining': 1,\n",
              " 'personal': 1,\n",
              " 'problem': 2,\n",
              " 'produce': 1,\n",
              " 'program': 1,\n",
              " 'pulls': 1,\n",
              " 'query': 4,\n",
              " 'redundant': 1,\n",
              " 'related': 2,\n",
              " 'relevant': 2,\n",
              " 'repetitive': 1,\n",
              " 'representative': 2,\n",
              " 'represents': 1,\n",
              " 'results': 1,\n",
              " 'second': 1,\n",
              " 'selecting': 1,\n",
              " 'set': 2,\n",
              " 'sets': 1,\n",
              " 'single': 1,\n",
              " 'skip': 1,\n",
              " 'source': 2,\n",
              " 'specific': 1,\n",
              " 'stories': 1,\n",
              " 'summaries': 2,\n",
              " 'summarization': 11,\n",
              " 'summarizes': 1,\n",
              " 'summarizing': 1,\n",
              " 'summary': 4,\n",
              " 'surveillance': 1,\n",
              " 'suspicious': 1,\n",
              " 'system': 3,\n",
              " 'systems': 1,\n",
              " 'tasks': 1,\n",
              " 'text': 1,\n",
              " 'topic': 2,\n",
              " 'trailer': 1,\n",
              " 'types': 1,\n",
              " 'use': 1,\n",
              " 'useful': 1,\n",
              " 'user': 1,\n",
              " 'video': 1,\n",
              " 'videos': 3,\n",
              " 'want': 2,\n",
              " 'web': 1}"
            ]
          },
          "metadata": {},
          "execution_count": 11
        }
      ]
    },
    {
      "cell_type": "code",
      "metadata": {
        "colab": {
          "base_uri": "https://localhost:8080/"
        },
        "id": "ImQRc2hX84em",
        "outputId": "bf543d77-60dd-4b22-e096-8f13190b9a34"
      },
      "source": [
        "# Menyimpan nilai frekuensi maksimal dari token yang sudah dibuat\n",
        "\n",
        "max_frequency = max(word_frequencies.values())\n",
        "max_frequency"
      ],
      "id": "ImQRc2hX84em",
      "execution_count": 12,
      "outputs": [
        {
          "output_type": "execute_result",
          "data": {
            "text/plain": [
              "11"
            ]
          },
          "metadata": {},
          "execution_count": 12
        }
      ]
    },
    {
      "cell_type": "code",
      "metadata": {
        "colab": {
          "base_uri": "https://localhost:8080/"
        },
        "id": "7c9MHC439Exg",
        "outputId": "25981b37-d4fe-497c-ad0a-c324d9ef3a69"
      },
      "source": [
        "min_frequency = min(word_frequencies.values())\n",
        "min_frequency"
      ],
      "id": "7c9MHC439Exg",
      "execution_count": 13,
      "outputs": [
        {
          "output_type": "execute_result",
          "data": {
            "text/plain": [
              "1"
            ]
          },
          "metadata": {},
          "execution_count": 13
        }
      ]
    },
    {
      "cell_type": "code",
      "metadata": {
        "colab": {
          "base_uri": "https://localhost:8080/"
        },
        "id": "tA6-Dv-z9V07",
        "outputId": "9923b77f-2043-4ecc-8dd8-75b5e8edfd8c"
      },
      "source": [
        "# Menghitung skor\n",
        "\n",
        "for word in word_frequencies.keys():\n",
        "  word_frequencies[word] = word_frequencies[word]/max_frequency\n",
        "\n",
        "word_frequencies"
      ],
      "id": "tA6-Dv-z9V07",
      "execution_count": 14,
      "outputs": [
        {
          "output_type": "execute_result",
          "data": {
            "text/plain": [
              "{' ': 0.09090909090909091,\n",
              " 'Image': 0.09090909090909091,\n",
              " 'Imagine': 0.09090909090909091,\n",
              " 'Similarly': 0.09090909090909091,\n",
              " 'Summarization': 0.09090909090909091,\n",
              " 'Video': 0.09090909090909091,\n",
              " 'able': 0.09090909090909091,\n",
              " 'abstract': 0.18181818181818182,\n",
              " 'actions': 0.09090909090909091,\n",
              " 'activity': 0.09090909090909091,\n",
              " 'application': 0.18181818181818182,\n",
              " 'applications': 0.09090909090909091,\n",
              " 'articles': 0.2727272727272727,\n",
              " 'attempts': 0.09090909090909091,\n",
              " 'automatic': 0.09090909090909091,\n",
              " 'automatically': 0.2727272727272727,\n",
              " 'based': 0.09090909090909091,\n",
              " 'boring': 0.18181818181818182,\n",
              " 'broadly': 0.09090909090909091,\n",
              " 'called': 0.18181818181818182,\n",
              " 'captured': 0.09090909090909091,\n",
              " 'cluster': 0.09090909090909091,\n",
              " 'collection': 0.2727272727272727,\n",
              " 'concisely': 0.09090909090909091,\n",
              " 'consists': 0.09090909090909091,\n",
              " 'consumer': 0.09090909090909091,\n",
              " 'context': 0.09090909090909091,\n",
              " 'create': 0.09090909090909091,\n",
              " 'creates': 0.09090909090909091,\n",
              " 'depending': 0.18181818181818182,\n",
              " 'document': 0.36363636363636365,\n",
              " 'documents': 0.18181818181818182,\n",
              " 'domain': 0.09090909090909091,\n",
              " 'etc': 0.09090909090909091,\n",
              " 'example': 0.2727272727272727,\n",
              " 'exploration': 0.09090909090909091,\n",
              " 'extract': 0.09090909090909091,\n",
              " 'extractive': 0.09090909090909091,\n",
              " 'focuses': 0.18181818181818182,\n",
              " 'frames': 0.09090909090909091,\n",
              " 'generated': 0.09090909090909091,\n",
              " 'generating': 0.09090909090909091,\n",
              " 'generic': 0.2727272727272727,\n",
              " 'given': 0.18181818181818182,\n",
              " 'ignoring': 0.09090909090909091,\n",
              " 'image': 0.09090909090909091,\n",
              " 'images': 0.2727272727272727,\n",
              " 'images.[3': 0.09090909090909091,\n",
              " 'important': 0.09090909090909091,\n",
              " 'interested': 0.09090909090909091,\n",
              " 'larger': 0.09090909090909091,\n",
              " 'latest': 0.09090909090909091,\n",
              " 'long': 0.09090909090909091,\n",
              " 'machine': 0.09090909090909091,\n",
              " 'multi': 0.09090909090909091,\n",
              " 'multiple': 0.09090909090909091,\n",
              " 'needs': 0.09090909090909091,\n",
              " 'news': 0.36363636363636365,\n",
              " 'objects': 0.09090909090909091,\n",
              " 'obtaining': 0.09090909090909091,\n",
              " 'personal': 0.09090909090909091,\n",
              " 'problem': 0.18181818181818182,\n",
              " 'produce': 0.09090909090909091,\n",
              " 'program': 0.09090909090909091,\n",
              " 'pulls': 0.09090909090909091,\n",
              " 'query': 0.36363636363636365,\n",
              " 'redundant': 0.09090909090909091,\n",
              " 'related': 0.18181818181818182,\n",
              " 'relevant': 0.18181818181818182,\n",
              " 'repetitive': 0.09090909090909091,\n",
              " 'representative': 0.18181818181818182,\n",
              " 'represents': 0.09090909090909091,\n",
              " 'results': 0.09090909090909091,\n",
              " 'second': 0.09090909090909091,\n",
              " 'selecting': 0.09090909090909091,\n",
              " 'set': 0.18181818181818182,\n",
              " 'sets': 0.09090909090909091,\n",
              " 'single': 0.09090909090909091,\n",
              " 'skip': 0.09090909090909091,\n",
              " 'source': 0.18181818181818182,\n",
              " 'specific': 0.09090909090909091,\n",
              " 'stories': 0.09090909090909091,\n",
              " 'summaries': 0.18181818181818182,\n",
              " 'summarization': 1.0,\n",
              " 'summarizes': 0.09090909090909091,\n",
              " 'summarizing': 0.09090909090909091,\n",
              " 'summary': 0.36363636363636365,\n",
              " 'surveillance': 0.09090909090909091,\n",
              " 'suspicious': 0.09090909090909091,\n",
              " 'system': 0.2727272727272727,\n",
              " 'systems': 0.09090909090909091,\n",
              " 'tasks': 0.09090909090909091,\n",
              " 'text': 0.09090909090909091,\n",
              " 'topic': 0.18181818181818182,\n",
              " 'trailer': 0.09090909090909091,\n",
              " 'types': 0.09090909090909091,\n",
              " 'use': 0.09090909090909091,\n",
              " 'useful': 0.09090909090909091,\n",
              " 'user': 0.09090909090909091,\n",
              " 'video': 0.09090909090909091,\n",
              " 'videos': 0.2727272727272727,\n",
              " 'want': 0.18181818181818182,\n",
              " 'web': 0.09090909090909091}"
            ]
          },
          "metadata": {},
          "execution_count": 14
        }
      ]
    },
    {
      "cell_type": "code",
      "metadata": {
        "id": "55f406d8",
        "colab": {
          "base_uri": "https://localhost:8080/"
        },
        "outputId": "1e16c735-9942-4ad0-b2c9-4531661de7ba"
      },
      "source": [
        "sentence_tokens = [sent for sent in doc.sents]\n",
        "sentence_tokens"
      ],
      "id": "55f406d8",
      "execution_count": 15,
      "outputs": [
        {
          "output_type": "execute_result",
          "data": {
            "text/plain": [
              "[ There are broadly two types of extractive summarization tasks depending on what the summarization program focuses on.,\n",
              " The first is generic summarization, which focuses on obtaining a generic summary or abstract of the collection (whether documents, or sets of images, or videos, news stories etc.).,\n",
              " The second is query relevant summarization, sometimes called query-based summarization, which summarizes objects specific to a query.,\n",
              " Summarization systems are able to create both query relevant text summaries and generic machine-generated summaries depending on what the user needs. ,\n",
              " An example of a summarization problem is document summarization, which attempts to automatically produce an abstract from a given document.,\n",
              " Sometimes one might be interested in generating a summary from a single source document, while others can use multiple source documents (for example, a cluster of articles on the same topic).,\n",
              " This problem is called multi-document summarization.,\n",
              " A related application is summarizing news articles.,\n",
              " Imagine a system, which automatically pulls together news articles on a given topic (from the web), and concisely represents the latest news as a summary. ,\n",
              " Image collection summarization is another application example of automatic summarization.,\n",
              " It consists in selecting a representative set of images from a larger set of images.[3],\n",
              " A summary in this context is useful to show the most representative images of results in an image collection exploration system.,\n",
              " Video summarization is a related domain, where the system automatically creates a trailer of a long video.,\n",
              " This also has applications in consumer or personal videos, where one might want to skip the boring or repetitive actions.,\n",
              " Similarly, in surveillance videos, one would want to extract important and suspicious activity, while ignoring all the boring and redundant frames captured.]"
            ]
          },
          "metadata": {},
          "execution_count": 15
        }
      ]
    },
    {
      "cell_type": "code",
      "metadata": {
        "id": "7u2dsLuN-Mm0",
        "colab": {
          "base_uri": "https://localhost:8080/"
        },
        "outputId": "8681f893-c0e3-48f1-9332-3cf728378da4"
      },
      "source": [
        "# Mengisi skor untuk setiap kalimat\n",
        "\n",
        "sentence_scores = {}\n",
        "for sent in sentence_tokens:\n",
        "  for word in sent:\n",
        "    if word.text.lower() in word_frequencies.keys():\n",
        "      if sent not in sentence_scores.keys():\n",
        "        sentence_scores[sent] = word_frequencies[word.text.lower()]\n",
        "      else:\n",
        "        sentence_scores[sent] += word_frequencies[word.text.lower()]\n",
        "\n",
        "\n",
        "sentence_scores"
      ],
      "id": "7u2dsLuN-Mm0",
      "execution_count": 16,
      "outputs": [
        {
          "output_type": "execute_result",
          "data": {
            "text/plain": [
              "{ There are broadly two types of extractive summarization tasks depending on what the summarization program focuses on.: 2.909090909090909,\n",
              " The first is generic summarization, which focuses on obtaining a generic summary or abstract of the collection (whether documents, or sets of images, or videos, news stories etc.).: 3.9999999999999987,\n",
              " The second is query relevant summarization, sometimes called query-based summarization, which summarizes objects specific to a query.: 3.909090909090909,\n",
              " Summarization systems are able to create both query relevant text summaries and generic machine-generated summaries depending on what the user needs. : 3.09090909090909,\n",
              " An example of a summarization problem is document summarization, which attempts to automatically produce an abstract from a given document.: 3.9999999999999996,\n",
              " Sometimes one might be interested in generating a summary from a single source document, while others can use multiple source documents (for example, a cluster of articles on the same topic).: 2.545454545454545,\n",
              " This problem is called multi-document summarization.: 1.8181818181818183,\n",
              " A related application is summarizing news articles.: 1.0909090909090908,\n",
              " Imagine a system, which automatically pulls together news articles on a given topic (from the web), and concisely represents the latest news as a summary. : 2.727272727272727,\n",
              " Image collection summarization is another application example of automatic summarization.: 2.909090909090909,\n",
              " It consists in selecting a representative set of images from a larger set of images.[3]: 1.1818181818181817,\n",
              " A summary in this context is useful to show the most representative images of results in an image collection exploration system.: 1.818181818181818,\n",
              " Video summarization is a related domain, where the system automatically creates a trailer of a long video.: 2.2727272727272725,\n",
              " This also has applications in consumer or personal videos, where one might want to skip the boring or repetitive actions.: 1.1818181818181817,\n",
              " Similarly, in surveillance videos, one would want to extract important and suspicious activity, while ignoring all the boring and redundant frames captured.: 1.4545454545454544}"
            ]
          },
          "metadata": {},
          "execution_count": 16
        }
      ]
    },
    {
      "cell_type": "markdown",
      "metadata": {
        "id": "a8898340"
      },
      "source": [
        "# Proses 4 : End Process (Summarization)"
      ],
      "id": "a8898340"
    },
    {
      "cell_type": "markdown",
      "metadata": {
        "id": "Xa1AsKt2KkeZ"
      },
      "source": [
        "[heapq](https://docs.python.org/3/library/heapq.html)"
      ],
      "id": "Xa1AsKt2KkeZ"
    },
    {
      "cell_type": "code",
      "metadata": {
        "id": "1730f8a7"
      },
      "source": [
        "# Import library nlargest untuk mengurutkan dan mengambil n nilai terbesar dari list.\n",
        "\n",
        "from heapq import nlargest"
      ],
      "id": "1730f8a7",
      "execution_count": 17,
      "outputs": []
    },
    {
      "cell_type": "code",
      "metadata": {
        "id": "96e9b098"
      },
      "source": [
        "summary = nlargest(select_lenght, sentence_scores, key = sentence_scores.get)"
      ],
      "id": "96e9b098",
      "execution_count": 19,
      "outputs": []
    },
    {
      "cell_type": "code",
      "metadata": {
        "id": "9ZlrIdDR47D9",
        "colab": {
          "base_uri": "https://localhost:8080/"
        },
        "outputId": "4951727c-5410-4605-90d0-0adb5dd740d5"
      },
      "source": [
        "summary"
      ],
      "id": "9ZlrIdDR47D9",
      "execution_count": 20,
      "outputs": [
        {
          "output_type": "execute_result",
          "data": {
            "text/plain": [
              "[An example of a summarization problem is document summarization, which attempts to automatically produce an abstract from a given document.,\n",
              " The first is generic summarization, which focuses on obtaining a generic summary or abstract of the collection (whether documents, or sets of images, or videos, news stories etc.).,\n",
              " The second is query relevant summarization, sometimes called query-based summarization, which summarizes objects specific to a query.,\n",
              " Summarization systems are able to create both query relevant text summaries and generic machine-generated summaries depending on what the user needs. ]"
            ]
          },
          "metadata": {},
          "execution_count": 20
        }
      ]
    },
    {
      "cell_type": "code",
      "metadata": {
        "id": "b232b3b7"
      },
      "source": [
        "final_summary = [word.text for word in summary]\n",
        "summary = ' '.join(final_summary)"
      ],
      "id": "b232b3b7",
      "execution_count": 21,
      "outputs": []
    },
    {
      "cell_type": "code",
      "metadata": {
        "id": "5581b217",
        "colab": {
          "base_uri": "https://localhost:8080/"
        },
        "outputId": "07df1d41-2ba9-4a50-bb94-7be1862acd9b"
      },
      "source": [
        "print(f\"Jumlah kata sebelum dirangkum : {len(text)}\")\n",
        "print(f\"Jumlah kata setelah dirangkum : {len(summary)}\")"
      ],
      "id": "5581b217",
      "execution_count": 22,
      "outputs": [
        {
          "output_type": "stream",
          "name": "stdout",
          "text": [
            "Jumlah kata sebelum dirangkum : 1871\n",
            "Jumlah kata setelah dirangkum : 606\n"
          ]
        }
      ]
    },
    {
      "cell_type": "code",
      "metadata": {
        "id": "0I9KsgFRBN_G",
        "colab": {
          "base_uri": "https://localhost:8080/",
          "height": 127
        },
        "outputId": "9fd93f40-9227-4678-e8e4-2fa2280b1c87"
      },
      "source": [
        "text"
      ],
      "id": "0I9KsgFRBN_G",
      "execution_count": 23,
      "outputs": [
        {
          "output_type": "execute_result",
          "data": {
            "application/vnd.google.colaboratory.intrinsic+json": {
              "type": "string"
            },
            "text/plain": [
              "' There are broadly two types of extractive summarization tasks depending on what the summarization program focuses on. The first is generic summarization, which focuses on obtaining a generic summary or abstract of the collection (whether documents, or sets of images, or videos, news stories etc.). The second is query relevant summarization, sometimes called query-based summarization, which summarizes objects specific to a query. Summarization systems are able to create both query relevant text summaries and generic machine-generated summaries depending on what the user needs. \\nAn example of a summarization problem is document summarization, which attempts to automatically produce an abstract from a given document. Sometimes one might be interested in generating a summary from a single source document, while others can use multiple source documents (for example, a cluster of articles on the same topic). This problem is called multi-document summarization. A related application is summarizing news articles. Imagine a system, which automatically pulls together news articles on a given topic (from the web), and concisely represents the latest news as a summary. \\nImage collection summarization is another application example of automatic summarization. It consists in selecting a representative set of images from a larger set of images.[3] A summary in this context is useful to show the most representative images of results in an image collection exploration system. Video summarization is a related domain, where the system automatically creates a trailer of a long video. This also has applications in consumer or personal videos, where one might want to skip the boring or repetitive actions. Similarly, in surveillance videos, one would want to extract important and suspicious activity, while ignoring all the boring and redundant frames captured.\\n'"
            ]
          },
          "metadata": {},
          "execution_count": 23
        }
      ]
    },
    {
      "cell_type": "code",
      "metadata": {
        "id": "FLRnxyXfBRvz",
        "colab": {
          "base_uri": "https://localhost:8080/",
          "height": 91
        },
        "outputId": "af83c484-720d-438c-f52f-cd24cf8365d6"
      },
      "source": [
        "summary"
      ],
      "id": "FLRnxyXfBRvz",
      "execution_count": 24,
      "outputs": [
        {
          "output_type": "execute_result",
          "data": {
            "application/vnd.google.colaboratory.intrinsic+json": {
              "type": "string"
            },
            "text/plain": [
              "'An example of a summarization problem is document summarization, which attempts to automatically produce an abstract from a given document. The first is generic summarization, which focuses on obtaining a generic summary or abstract of the collection (whether documents, or sets of images, or videos, news stories etc.). The second is query relevant summarization, sometimes called query-based summarization, which summarizes objects specific to a query. Summarization systems are able to create both query relevant text summaries and generic machine-generated summaries depending on what the user needs. \\n'"
            ]
          },
          "metadata": {},
          "execution_count": 24
        }
      ]
    }
  ]
}