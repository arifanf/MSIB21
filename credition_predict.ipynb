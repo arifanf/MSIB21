{
  "nbformat": 4,
  "nbformat_minor": 0,
  "metadata": {
    "colab": {
      "name": "credition predict.ipynb",
      "provenance": [],
      "collapsed_sections": [],
      "include_colab_link": true
    },
    "kernelspec": {
      "name": "python3",
      "display_name": "Python 3"
    },
    "language_info": {
      "name": "python"
    }
  },
  "cells": [
    {
      "cell_type": "markdown",
      "metadata": {
        "id": "view-in-github",
        "colab_type": "text"
      },
      "source": [
        "<a href=\"https://colab.research.google.com/github/arifanf/MSIB21/blob/main/credition_predict.ipynb\" target=\"_parent\"><img src=\"https://colab.research.google.com/assets/colab-badge.svg\" alt=\"Open In Colab\"/></a>"
      ]
    },
    {
      "cell_type": "markdown",
      "metadata": {
        "id": "MoxORZE4N-PL"
      },
      "source": [
        "#PREDIKSI "
      ]
    },
    {
      "cell_type": "code",
      "metadata": {
        "colab": {
          "base_uri": "https://localhost:8080/",
          "height": 999
        },
        "id": "NoF3GePGl42k",
        "outputId": "e2abe885-9a00-4437-f0dd-77916a6560cf"
      },
      "source": [
        "# Read the data\n",
        "import pandas as pd\n",
        "\n",
        "df = pd.read_csv('https://raw.githubusercontent.com/arifanf/MSIB21/main/Dataset/konsumen.csv', sep=';')\n",
        "df"
      ],
      "execution_count": 2,
      "outputs": [
        {
          "output_type": "execute_result",
          "data": {
            "text/html": [
              "<div>\n",
              "<style scoped>\n",
              "    .dataframe tbody tr th:only-of-type {\n",
              "        vertical-align: middle;\n",
              "    }\n",
              "\n",
              "    .dataframe tbody tr th {\n",
              "        vertical-align: top;\n",
              "    }\n",
              "\n",
              "    .dataframe thead th {\n",
              "        text-align: right;\n",
              "    }\n",
              "</style>\n",
              "<table border=\"1\" class=\"dataframe\">\n",
              "  <thead>\n",
              "    <tr style=\"text-align: right;\">\n",
              "      <th></th>\n",
              "      <th>SALES DATE</th>\n",
              "      <th>TYPE MOTOR</th>\n",
              "      <th>COLOR</th>\n",
              "      <th>KODE CUSTOMER</th>\n",
              "      <th>JENIS KELAMIN</th>\n",
              "      <th>TANGGAL LAHIR</th>\n",
              "      <th>KECAMATAN SURAT</th>\n",
              "      <th>KOTA SURAT</th>\n",
              "      <th>PROPINSI</th>\n",
              "      <th>STATUS RUMAH</th>\n",
              "      <th>JENIS PENJUALAN STNK</th>\n",
              "      <th>JENIS PENJUALAN SSU</th>\n",
              "      <th>BESAR DP</th>\n",
              "      <th>BESAR CICILAN</th>\n",
              "      <th>LAMA CICILAN</th>\n",
              "      <th>AGAMA</th>\n",
              "      <th>PEKERJAAN</th>\n",
              "      <th>PENGELUARAN</th>\n",
              "      <th>PENDIDIKAN</th>\n",
              "      <th>KEBERSEDIAAN DIHUBUNGI</th>\n",
              "      <th>MERK MOTOR SBLMNYA</th>\n",
              "      <th>TYPE MOTOR SBLMNYA</th>\n",
              "      <th>SMH DIGUNAKAN UNTUK</th>\n",
              "      <th>YG MENGGUNAKAN SMH</th>\n",
              "      <th>HOBI</th>\n",
              "      <th>KETERANGAN</th>\n",
              "      <th>KEWARGANEGARAAN</th>\n",
              "    </tr>\n",
              "  </thead>\n",
              "  <tbody>\n",
              "    <tr>\n",
              "      <th>0</th>\n",
              "      <td>08/08/2019</td>\n",
              "      <td>REVO FIT FI</td>\n",
              "      <td>HITAM</td>\n",
              "      <td>INDIVIDUAL</td>\n",
              "      <td>LAKI-LAKI</td>\n",
              "      <td>25/08/1970</td>\n",
              "      <td>Manyar</td>\n",
              "      <td>Kab. Gresik</td>\n",
              "      <td>Jawa Timur</td>\n",
              "      <td>RUMAH SENDIRI</td>\n",
              "      <td>CASH</td>\n",
              "      <td>CASH</td>\n",
              "      <td>NaN</td>\n",
              "      <td>NaN</td>\n",
              "      <td>NaN</td>\n",
              "      <td>ISLAM</td>\n",
              "      <td>DOKTER</td>\n",
              "      <td>RP 2.000.001,- S/D RP 3.000.000,-</td>\n",
              "      <td>AKADEMI/DIPLOMA</td>\n",
              "      <td>YES</td>\n",
              "      <td>HONDA</td>\n",
              "      <td>AT AUTOMATIC</td>\n",
              "      <td>BERDAGANG</td>\n",
              "      <td>SAYA SENDIRI</td>\n",
              "      <td>Adventure (Petualangan)</td>\n",
              "      <td>NaN</td>\n",
              "      <td>WNI</td>\n",
              "    </tr>\n",
              "    <tr>\n",
              "      <th>1</th>\n",
              "      <td>16/10/2019</td>\n",
              "      <td>REVO FIT FI</td>\n",
              "      <td>HITAM</td>\n",
              "      <td>INDIVIDUAL</td>\n",
              "      <td>LAKI-LAKI</td>\n",
              "      <td>31/03/1972</td>\n",
              "      <td>Driyorejo</td>\n",
              "      <td>Kab. Gresik</td>\n",
              "      <td>Jawa Timur</td>\n",
              "      <td>RUMAH SENDIRI</td>\n",
              "      <td>CASH</td>\n",
              "      <td>CASH</td>\n",
              "      <td>NaN</td>\n",
              "      <td>NaN</td>\n",
              "      <td>NaN</td>\n",
              "      <td>ISLAM</td>\n",
              "      <td>PEGAWAI SWASTA, INDUSTRI</td>\n",
              "      <td>RP 3.000.001,- S/D RP 4.000.000,-</td>\n",
              "      <td>SLTA/SMU</td>\n",
              "      <td>YES</td>\n",
              "      <td>HONDA</td>\n",
              "      <td>SPORT</td>\n",
              "      <td>BERDAGANG</td>\n",
              "      <td>SAYA SENDIRI</td>\n",
              "      <td>Adventure (Petualangan)</td>\n",
              "      <td>NaN</td>\n",
              "      <td>WNI</td>\n",
              "    </tr>\n",
              "    <tr>\n",
              "      <th>2</th>\n",
              "      <td>07/10/2019</td>\n",
              "      <td>REVO FIT FI</td>\n",
              "      <td>HITAM</td>\n",
              "      <td>INDIVIDUAL</td>\n",
              "      <td>LAKI-LAKI</td>\n",
              "      <td>29/12/1998</td>\n",
              "      <td>Cerme</td>\n",
              "      <td>Kab. Gresik</td>\n",
              "      <td>Jawa Timur</td>\n",
              "      <td>RUMAH ORANG TUA / KELUARGA</td>\n",
              "      <td>CASH</td>\n",
              "      <td>CASH</td>\n",
              "      <td>NaN</td>\n",
              "      <td>NaN</td>\n",
              "      <td>NaN</td>\n",
              "      <td>ISLAM</td>\n",
              "      <td>MAHASISWA / PELAJAR</td>\n",
              "      <td>RP 1.000.001,- S/D RP 1.500.000,-</td>\n",
              "      <td>SLTA/SMU</td>\n",
              "      <td>YES</td>\n",
              "      <td>HONDA</td>\n",
              "      <td>SPORT</td>\n",
              "      <td>BERDAGANG</td>\n",
              "      <td>SAYA SENDIRI</td>\n",
              "      <td>Adventure (Petualangan)</td>\n",
              "      <td>NaN</td>\n",
              "      <td>WNI</td>\n",
              "    </tr>\n",
              "    <tr>\n",
              "      <th>3</th>\n",
              "      <td>09/09/2019</td>\n",
              "      <td>REVO FIT FI</td>\n",
              "      <td>HITAM</td>\n",
              "      <td>INDIVIDUAL</td>\n",
              "      <td>LAKI-LAKI</td>\n",
              "      <td>29/01/1983</td>\n",
              "      <td>Menganti</td>\n",
              "      <td>Kab. Gresik</td>\n",
              "      <td>Jawa Timur</td>\n",
              "      <td>RUMAH SENDIRI</td>\n",
              "      <td>CREDIT</td>\n",
              "      <td>CREDIT</td>\n",
              "      <td>1300000.0</td>\n",
              "      <td>634000.0</td>\n",
              "      <td>35.0</td>\n",
              "      <td>ISLAM</td>\n",
              "      <td>PEGAWAI SWASTA, INDUSTRI</td>\n",
              "      <td>RP 1.000.001,- S/D RP 1.500.000,-</td>\n",
              "      <td>SLTA/SMU</td>\n",
              "      <td>YES</td>\n",
              "      <td>HONDA</td>\n",
              "      <td>AT AUTOMATIC</td>\n",
              "      <td>PEMAKAIAN JARAK DEKAT</td>\n",
              "      <td>SAYA SENDIRI</td>\n",
              "      <td>Makan</td>\n",
              "      <td>SOPAN</td>\n",
              "      <td>WNI</td>\n",
              "    </tr>\n",
              "    <tr>\n",
              "      <th>4</th>\n",
              "      <td>07/10/2019</td>\n",
              "      <td>REVO FIT FI</td>\n",
              "      <td>HITAM</td>\n",
              "      <td>INDIVIDUAL</td>\n",
              "      <td>LAKI-LAKI</td>\n",
              "      <td>19/01/1996</td>\n",
              "      <td>Panceng</td>\n",
              "      <td>Kab. Gresik</td>\n",
              "      <td>Jawa Timur</td>\n",
              "      <td>RUMAH SENDIRI</td>\n",
              "      <td>CASH</td>\n",
              "      <td>CASH</td>\n",
              "      <td>NaN</td>\n",
              "      <td>NaN</td>\n",
              "      <td>NaN</td>\n",
              "      <td>ISLAM</td>\n",
              "      <td>MAHASISWA / PELAJAR</td>\n",
              "      <td>RP 1.000.001,- S/D RP 1.500.000,-</td>\n",
              "      <td>SLTA/SMU</td>\n",
              "      <td>YES</td>\n",
              "      <td>HONDA</td>\n",
              "      <td>SPORT</td>\n",
              "      <td>BERDAGANG</td>\n",
              "      <td>SAYA SENDIRI</td>\n",
              "      <td>Adventure (Petualangan)</td>\n",
              "      <td>NaN</td>\n",
              "      <td>WNI</td>\n",
              "    </tr>\n",
              "    <tr>\n",
              "      <th>...</th>\n",
              "      <td>...</td>\n",
              "      <td>...</td>\n",
              "      <td>...</td>\n",
              "      <td>...</td>\n",
              "      <td>...</td>\n",
              "      <td>...</td>\n",
              "      <td>...</td>\n",
              "      <td>...</td>\n",
              "      <td>...</td>\n",
              "      <td>...</td>\n",
              "      <td>...</td>\n",
              "      <td>...</td>\n",
              "      <td>...</td>\n",
              "      <td>...</td>\n",
              "      <td>...</td>\n",
              "      <td>...</td>\n",
              "      <td>...</td>\n",
              "      <td>...</td>\n",
              "      <td>...</td>\n",
              "      <td>...</td>\n",
              "      <td>...</td>\n",
              "      <td>...</td>\n",
              "      <td>...</td>\n",
              "      <td>...</td>\n",
              "      <td>...</td>\n",
              "      <td>...</td>\n",
              "      <td>...</td>\n",
              "    </tr>\n",
              "    <tr>\n",
              "      <th>18611</th>\n",
              "      <td>10/04/2019</td>\n",
              "      <td>CBR 250RR STD</td>\n",
              "      <td>HITAM</td>\n",
              "      <td>INDIVIDUAL</td>\n",
              "      <td>PEREMPUAN</td>\n",
              "      <td>26/11/1984</td>\n",
              "      <td>Wringinanom</td>\n",
              "      <td>Kab. Gresik</td>\n",
              "      <td>Jawa Timur</td>\n",
              "      <td>RUMAH SENDIRI</td>\n",
              "      <td>CASH</td>\n",
              "      <td>CASH</td>\n",
              "      <td>NaN</td>\n",
              "      <td>NaN</td>\n",
              "      <td>NaN</td>\n",
              "      <td>ISLAM</td>\n",
              "      <td>PEGAWAI SWASTA, JASA</td>\n",
              "      <td>RP 2.000.001,- S/D RP 3.000.000,-</td>\n",
              "      <td>SLTA/SMU</td>\n",
              "      <td>YES</td>\n",
              "      <td>BELUM PERNAH MEMILIKI</td>\n",
              "      <td>BELUM PERNAH MEMILIKI</td>\n",
              "      <td>BERDAGANG</td>\n",
              "      <td>SAYA SENDIRI</td>\n",
              "      <td>Mengarang Cerita</td>\n",
              "      <td>BAIK</td>\n",
              "      <td>WNI</td>\n",
              "    </tr>\n",
              "    <tr>\n",
              "      <th>18612</th>\n",
              "      <td>02/08/2019</td>\n",
              "      <td>CBR 250RR ABS</td>\n",
              "      <td>HITAM</td>\n",
              "      <td>INDIVIDUAL</td>\n",
              "      <td>LAKI-LAKI</td>\n",
              "      <td>14/02/1994</td>\n",
              "      <td>Gresik</td>\n",
              "      <td>Kab. Gresik</td>\n",
              "      <td>Jawa Timur</td>\n",
              "      <td>RUMAH SEWA</td>\n",
              "      <td>CREDIT</td>\n",
              "      <td>CASH</td>\n",
              "      <td>NaN</td>\n",
              "      <td>NaN</td>\n",
              "      <td>NaN</td>\n",
              "      <td>ISLAM</td>\n",
              "      <td>PEGAWAI SWASTA, INDUSTRI</td>\n",
              "      <td>RP 1.000.001,- S/D RP 1.500.000,-</td>\n",
              "      <td>SLTA/SMU</td>\n",
              "      <td>YES</td>\n",
              "      <td>YAMAHA</td>\n",
              "      <td>AT AUTOMATIC</td>\n",
              "      <td>LAIN-LAIN</td>\n",
              "      <td>PASANGAN SUAMI ATAU ISTRI</td>\n",
              "      <td>Membaca</td>\n",
              "      <td>NaN</td>\n",
              "      <td>WNI</td>\n",
              "    </tr>\n",
              "    <tr>\n",
              "      <th>18613</th>\n",
              "      <td>29/07/2019</td>\n",
              "      <td>CBR 250RR ABS</td>\n",
              "      <td>MERAH</td>\n",
              "      <td>INDIVIDUAL</td>\n",
              "      <td>LAKI-LAKI</td>\n",
              "      <td>23/06/1998</td>\n",
              "      <td>Benjeng</td>\n",
              "      <td>Kab. Gresik</td>\n",
              "      <td>Jawa Timur</td>\n",
              "      <td>RUMAH ORANG TUA / KELUARGA</td>\n",
              "      <td>CASH</td>\n",
              "      <td>CASH</td>\n",
              "      <td>NaN</td>\n",
              "      <td>NaN</td>\n",
              "      <td>NaN</td>\n",
              "      <td>ISLAM</td>\n",
              "      <td>PEGAWAI SWASTA, INDUSTRI</td>\n",
              "      <td>RP 700.001,- S/D RP 1.000.000,-</td>\n",
              "      <td>SLTA/SMU</td>\n",
              "      <td>YES</td>\n",
              "      <td>HONDA</td>\n",
              "      <td>CUB BEBEK</td>\n",
              "      <td>BERDAGANG</td>\n",
              "      <td>SAYA SENDIRI</td>\n",
              "      <td>Adventure (Petualangan)</td>\n",
              "      <td>NaN</td>\n",
              "      <td>WNI</td>\n",
              "    </tr>\n",
              "    <tr>\n",
              "      <th>18614</th>\n",
              "      <td>15/03/2019</td>\n",
              "      <td>SUPER CUB C125</td>\n",
              "      <td>BIRU-PUTIH</td>\n",
              "      <td>INDIVIDUAL</td>\n",
              "      <td>LAKI-LAKI</td>\n",
              "      <td>18/08/1992</td>\n",
              "      <td>Kebomas</td>\n",
              "      <td>Kab. Gresik</td>\n",
              "      <td>Jawa Timur</td>\n",
              "      <td>RUMAH ORANG TUA / KELUARGA</td>\n",
              "      <td>CREDIT</td>\n",
              "      <td>CASH</td>\n",
              "      <td>NaN</td>\n",
              "      <td>NaN</td>\n",
              "      <td>NaN</td>\n",
              "      <td>ISLAM</td>\n",
              "      <td>PEGAWAI SWASTA, INDUSTRI</td>\n",
              "      <td>RP 2.000.001,- S/D RP 3.000.000,-</td>\n",
              "      <td>AKADEMI/DIPLOMA</td>\n",
              "      <td>YES</td>\n",
              "      <td>HONDA</td>\n",
              "      <td>AT AUTOMATIC</td>\n",
              "      <td>BERDAGANG</td>\n",
              "      <td>SAYA SENDIRI</td>\n",
              "      <td>Makan</td>\n",
              "      <td>NaN</td>\n",
              "      <td>WNI</td>\n",
              "    </tr>\n",
              "    <tr>\n",
              "      <th>18615</th>\n",
              "      <td>10/04/2019</td>\n",
              "      <td>SUPER CUB C125</td>\n",
              "      <td>BIRU-PUTIH</td>\n",
              "      <td>INDIVIDUAL</td>\n",
              "      <td>LAKI-LAKI</td>\n",
              "      <td>06/07/1986</td>\n",
              "      <td>Manyar</td>\n",
              "      <td>Kab. Gresik</td>\n",
              "      <td>Jawa Timur</td>\n",
              "      <td>RUMAH SENDIRI</td>\n",
              "      <td>CASH</td>\n",
              "      <td>CASH</td>\n",
              "      <td>NaN</td>\n",
              "      <td>NaN</td>\n",
              "      <td>NaN</td>\n",
              "      <td>ISLAM</td>\n",
              "      <td>PEGAWAI SWASTA, PERDAGANGAN (RETAIL)</td>\n",
              "      <td>RP 2.000.001,- S/D RP 3.000.000,-</td>\n",
              "      <td>AKADEMI/DIPLOMA</td>\n",
              "      <td>NO</td>\n",
              "      <td>HONDA</td>\n",
              "      <td>AT AUTOMATIC</td>\n",
              "      <td>KEBUTUHAN KELUARGA</td>\n",
              "      <td>SAYA SENDIRI</td>\n",
              "      <td>Menanam Bunga</td>\n",
              "      <td>NaN</td>\n",
              "      <td>WNI</td>\n",
              "    </tr>\n",
              "  </tbody>\n",
              "</table>\n",
              "<p>18616 rows × 27 columns</p>\n",
              "</div>"
            ],
            "text/plain": [
              "       SALES DATE      TYPE MOTOR  ... KETERANGAN KEWARGANEGARAAN\n",
              "0      08/08/2019     REVO FIT FI  ...        NaN             WNI\n",
              "1      16/10/2019     REVO FIT FI  ...        NaN             WNI\n",
              "2      07/10/2019     REVO FIT FI  ...        NaN             WNI\n",
              "3      09/09/2019     REVO FIT FI  ...      SOPAN             WNI\n",
              "4      07/10/2019     REVO FIT FI  ...        NaN             WNI\n",
              "...           ...             ...  ...        ...             ...\n",
              "18611  10/04/2019   CBR 250RR STD  ...       BAIK             WNI\n",
              "18612  02/08/2019   CBR 250RR ABS  ...        NaN             WNI\n",
              "18613  29/07/2019   CBR 250RR ABS  ...        NaN             WNI\n",
              "18614  15/03/2019  SUPER CUB C125  ...        NaN             WNI\n",
              "18615  10/04/2019  SUPER CUB C125  ...        NaN             WNI\n",
              "\n",
              "[18616 rows x 27 columns]"
            ]
          },
          "metadata": {},
          "execution_count": 2
        }
      ]
    },
    {
      "cell_type": "markdown",
      "metadata": {
        "id": "zzl3sUTGmxjm"
      },
      "source": [
        "# Tentang Dataset\n",
        "Secara sekilas, dataset ini adalah data mengenai penjualan motor yang mencakup informasi mengenai motor yang dijual serta informasi mengenai pembeli. Maka akan dianalisis bagaimana cara meningkatkan penjualan motor yang ada serta meningkatkan pembayaran melalui credit.\n",
        "\n",
        "Hal-hal yang ingin dijawab pada analisis data ini adalah:\n",
        "- Motor apa yang paling banyak dibeli\n",
        "- Target konsumen baru, dengan cara menganalisis karateristik orang-orang yang sudah melakukan pembelian motor (mencakup usia, tempat tinggal, sistem pembayaran, pekerjaan, gaji, pendidikan, apakah pernah memiliki motor, dan tujuan penggunaan motor)\n",
        "- Kapan waktu yang tepat untuk melakukan promosi (dengan melihat kapan konsumen paling sering membeli motor)."
      ]
    },
    {
      "cell_type": "markdown",
      "metadata": {
        "id": "PVxgTgokqtAT"
      },
      "source": [
        "## Pre-Processing\n",
        "Data yang ada ternyata sangat besar. Akan dianalisis dulu variabel-variabel apa saja yang ada beserta melihat apakah ada duplikasi data dan nilai null."
      ]
    },
    {
      "cell_type": "code",
      "metadata": {
        "colab": {
          "base_uri": "https://localhost:8080/"
        },
        "id": "fLZhtf5Bly5J",
        "outputId": "151fdcf1-3878-4bc7-8c5d-306542e6c96e"
      },
      "source": [
        "# Memunculkan informasi terkait data\n",
        "df.info()"
      ],
      "execution_count": 3,
      "outputs": [
        {
          "output_type": "stream",
          "name": "stdout",
          "text": [
            "<class 'pandas.core.frame.DataFrame'>\n",
            "RangeIndex: 18616 entries, 0 to 18615\n",
            "Data columns (total 27 columns):\n",
            " #   Column                  Non-Null Count  Dtype  \n",
            "---  ------                  --------------  -----  \n",
            " 0   SALES DATE              18616 non-null  object \n",
            " 1   TYPE MOTOR              18616 non-null  object \n",
            " 2   COLOR                   18616 non-null  object \n",
            " 3   KODE CUSTOMER           18616 non-null  object \n",
            " 4   JENIS KELAMIN           18616 non-null  object \n",
            " 5   TANGGAL LAHIR           18616 non-null  object \n",
            " 6   KECAMATAN SURAT         18616 non-null  object \n",
            " 7   KOTA SURAT              18616 non-null  object \n",
            " 8   PROPINSI                18616 non-null  object \n",
            " 9   STATUS RUMAH            18616 non-null  object \n",
            " 10  JENIS PENJUALAN STNK    18616 non-null  object \n",
            " 11  JENIS PENJUALAN SSU     18616 non-null  object \n",
            " 12  BESAR DP                10928 non-null  float64\n",
            " 13  BESAR CICILAN           10928 non-null  float64\n",
            " 14  LAMA CICILAN            10928 non-null  float64\n",
            " 15  AGAMA                   18616 non-null  object \n",
            " 16  PEKERJAAN               18616 non-null  object \n",
            " 17  PENGELUARAN             18616 non-null  object \n",
            " 18  PENDIDIKAN              18616 non-null  object \n",
            " 19  KEBERSEDIAAN DIHUBUNGI  18616 non-null  object \n",
            " 20  MERK MOTOR SBLMNYA      18616 non-null  object \n",
            " 21  TYPE MOTOR SBLMNYA      18616 non-null  object \n",
            " 22  SMH DIGUNAKAN UNTUK     18616 non-null  object \n",
            " 23  YG MENGGUNAKAN SMH      18616 non-null  object \n",
            " 24  HOBI                    18616 non-null  object \n",
            " 25  KETERANGAN              7262 non-null   object \n",
            " 26  KEWARGANEGARAAN         18610 non-null  object \n",
            "dtypes: float64(3), object(24)\n",
            "memory usage: 3.8+ MB\n"
          ]
        }
      ]
    },
    {
      "cell_type": "markdown",
      "metadata": {
        "id": "-055UhROl2g_"
      },
      "source": [
        "Dari info diatas, dapat diketahui ada nilai null pada variabel \"BESAR DP\", \"BESAR CICILAN\", \"LAMA CICILAN\", serta \"KETERANGAN\". Diekspektasi nilai null untuk variabel \"BESAR DP\", \"BESAR CICILAN\", dan \"LAMA CICILAN\" dikarenakan pembeli tersebut tidak mencicil motor yang dibeli. Sedangkan untuk variabel \"KETERANGAN\" jika dilihat pada dataset hanya melambangkan kepribadian dari pembeli. Karena nilai null pada variabel \"KETERANGAN\" melebihi 50%, maka variabel \"KETERANGAN\" tidak akan diikutkan dalam analisis.\n",
        "\n"
      ]
    },
    {
      "cell_type": "code",
      "metadata": {
        "id": "Y8zDdke3q6kg"
      },
      "source": [
        "# Mengeliminasi variabel \"KETERANGAN\"\n",
        "df = df.drop([\"KETERANGAN\"], axis=1)"
      ],
      "execution_count": 4,
      "outputs": []
    },
    {
      "cell_type": "code",
      "metadata": {
        "colab": {
          "base_uri": "https://localhost:8080/"
        },
        "id": "VLYbl8V35dDZ",
        "outputId": "b73c9d6b-ab66-4ee0-f0d1-7b71c986fcf1"
      },
      "source": [
        "# Informasi dataset setelah keterangan didrop\n",
        "df.info()"
      ],
      "execution_count": 5,
      "outputs": [
        {
          "output_type": "stream",
          "name": "stdout",
          "text": [
            "<class 'pandas.core.frame.DataFrame'>\n",
            "RangeIndex: 18616 entries, 0 to 18615\n",
            "Data columns (total 26 columns):\n",
            " #   Column                  Non-Null Count  Dtype  \n",
            "---  ------                  --------------  -----  \n",
            " 0   SALES DATE              18616 non-null  object \n",
            " 1   TYPE MOTOR              18616 non-null  object \n",
            " 2   COLOR                   18616 non-null  object \n",
            " 3   KODE CUSTOMER           18616 non-null  object \n",
            " 4   JENIS KELAMIN           18616 non-null  object \n",
            " 5   TANGGAL LAHIR           18616 non-null  object \n",
            " 6   KECAMATAN SURAT         18616 non-null  object \n",
            " 7   KOTA SURAT              18616 non-null  object \n",
            " 8   PROPINSI                18616 non-null  object \n",
            " 9   STATUS RUMAH            18616 non-null  object \n",
            " 10  JENIS PENJUALAN STNK    18616 non-null  object \n",
            " 11  JENIS PENJUALAN SSU     18616 non-null  object \n",
            " 12  BESAR DP                10928 non-null  float64\n",
            " 13  BESAR CICILAN           10928 non-null  float64\n",
            " 14  LAMA CICILAN            10928 non-null  float64\n",
            " 15  AGAMA                   18616 non-null  object \n",
            " 16  PEKERJAAN               18616 non-null  object \n",
            " 17  PENGELUARAN             18616 non-null  object \n",
            " 18  PENDIDIKAN              18616 non-null  object \n",
            " 19  KEBERSEDIAAN DIHUBUNGI  18616 non-null  object \n",
            " 20  MERK MOTOR SBLMNYA      18616 non-null  object \n",
            " 21  TYPE MOTOR SBLMNYA      18616 non-null  object \n",
            " 22  SMH DIGUNAKAN UNTUK     18616 non-null  object \n",
            " 23  YG MENGGUNAKAN SMH      18616 non-null  object \n",
            " 24  HOBI                    18616 non-null  object \n",
            " 25  KEWARGANEGARAAN         18610 non-null  object \n",
            "dtypes: float64(3), object(23)\n",
            "memory usage: 3.7+ MB\n"
          ]
        }
      ]
    },
    {
      "cell_type": "markdown",
      "metadata": {
        "id": "RBx0qrKBstkg"
      },
      "source": [
        "Sekarang akan dianalisis motor apa yang dibeli dengan credit oleh pembali."
      ]
    },
    {
      "cell_type": "code",
      "metadata": {
        "colab": {
          "base_uri": "https://localhost:8080/"
        },
        "id": "AWlqdEastZRV",
        "outputId": "4beb46ee-e7ef-4d6c-cbd9-8fa00ef573e6"
      },
      "source": [
        "df_motorcredit = df[[\"TYPE MOTOR\", \"JENIS PENJUALAN STNK\"]][df[\"JENIS PENJUALAN STNK\"]==\"CREDIT\"]\n",
        "percent_credit = len(df_motorcredit)/len(df)*100\n",
        "print(f\"Jumlah motor yang dikredit adalah {len(df_motorcredit)} dari {len(df)}\")\n",
        "print(f\"yaitu {percent_credit} % dari total transaksi\\n\")"
      ],
      "execution_count": 6,
      "outputs": [
        {
          "output_type": "stream",
          "name": "stdout",
          "text": [
            "Jumlah motor yang dikredit adalah 11266 dari 18616\n",
            "yaitu 60.51783412118608 % dari total transaksi\n",
            "\n"
          ]
        }
      ]
    },
    {
      "cell_type": "code",
      "metadata": {
        "id": "iEyx4tSq1fm1"
      },
      "source": [
        "# Ingin dimiliki variabel usia yang diambil dari tahun lahir\n",
        "# Variabel \"TANGGAL LAHIR\" dipisah sehingga dimiliki tanggal, bulan, dan tahun lahir masing-masing dalam bentuk integer pada kolom-kolom terpisah\n",
        "df[df.columns[5]] = df[df.columns[5]].replace('/', ' ', regex=True).astype(object)\n",
        "df[['Tanggal lahir', 'Bulan lahir', 'Tahun lahir']] = df[\"TANGGAL LAHIR\"].str.split(' ', 2, expand=True).astype(int)"
      ],
      "execution_count": 7,
      "outputs": []
    },
    {
      "cell_type": "markdown",
      "metadata": {
        "id": "BnXPPM4jGge4"
      },
      "source": [
        "## Membuat Dataset X dan Y"
      ]
    },
    {
      "cell_type": "code",
      "metadata": {
        "id": "jbX86gdGzq03",
        "colab": {
          "base_uri": "https://localhost:8080/"
        },
        "outputId": "b900ab72-c80c-4e26-f3a5-be005bce8908"
      },
      "source": [
        "# Mencantumkan variabel apa saja yang digunakan untuk dataset X dan y\n",
        "X_variable = [\"TYPE MOTOR\", \"COLOR\", \"JENIS KELAMIN\", \"Tahun lahir\", \"STATUS RUMAH\", \"PEKERJAAN\", \"PENGELUARAN\", \"MERK MOTOR SBLMNYA\", \"TYPE MOTOR SBLMNYA\", \"SMH DIGUNAKAN UNTUK\", \"YG MENGGUNAKAN SMH\", \"HOBI\"]\n",
        "y_variable = [\"JENIS PENJUALAN STNK\"]\n",
        "\n",
        "# Membuat dataset X dan y\n",
        "X = df[X_variable]\n",
        "y = df[y_variable]\n",
        "\n",
        "# Mengubah data categorical menjadi label\n",
        "from sklearn.preprocessing import LabelEncoder\n",
        "LE = LabelEncoder()\n",
        "# Dataset X\n",
        "for column in X.columns:\n",
        "  X[column] = LE.fit_transform(X[column])\n",
        "# Dataset y\n",
        "y = LE.fit_transform(y)\n",
        "\n",
        "from sklearn.model_selection import train_test_split\n",
        "X_train, X_test, y_train, y_test = train_test_split(X, y)"
      ],
      "execution_count": 8,
      "outputs": [
        {
          "output_type": "stream",
          "name": "stderr",
          "text": [
            "/usr/local/lib/python3.7/dist-packages/ipykernel_launcher.py:14: SettingWithCopyWarning: \n",
            "A value is trying to be set on a copy of a slice from a DataFrame.\n",
            "Try using .loc[row_indexer,col_indexer] = value instead\n",
            "\n",
            "See the caveats in the documentation: https://pandas.pydata.org/pandas-docs/stable/user_guide/indexing.html#returning-a-view-versus-a-copy\n",
            "  \n",
            "/usr/local/lib/python3.7/dist-packages/sklearn/preprocessing/_label.py:115: DataConversionWarning: A column-vector y was passed when a 1d array was expected. Please change the shape of y to (n_samples, ), for example using ravel().\n",
            "  y = column_or_1d(y, warn=True)\n"
          ]
        }
      ]
    },
    {
      "cell_type": "code",
      "metadata": {
        "colab": {
          "base_uri": "https://localhost:8080/",
          "height": 423
        },
        "id": "f9cUhUbx_YYU",
        "outputId": "b40f8088-77b2-4696-bf99-f236658ea503"
      },
      "source": [
        "X"
      ],
      "execution_count": 9,
      "outputs": [
        {
          "output_type": "execute_result",
          "data": {
            "text/html": [
              "<div>\n",
              "<style scoped>\n",
              "    .dataframe tbody tr th:only-of-type {\n",
              "        vertical-align: middle;\n",
              "    }\n",
              "\n",
              "    .dataframe tbody tr th {\n",
              "        vertical-align: top;\n",
              "    }\n",
              "\n",
              "    .dataframe thead th {\n",
              "        text-align: right;\n",
              "    }\n",
              "</style>\n",
              "<table border=\"1\" class=\"dataframe\">\n",
              "  <thead>\n",
              "    <tr style=\"text-align: right;\">\n",
              "      <th></th>\n",
              "      <th>TYPE MOTOR</th>\n",
              "      <th>COLOR</th>\n",
              "      <th>JENIS KELAMIN</th>\n",
              "      <th>Tahun lahir</th>\n",
              "      <th>STATUS RUMAH</th>\n",
              "      <th>PEKERJAAN</th>\n",
              "      <th>PENGELUARAN</th>\n",
              "      <th>MERK MOTOR SBLMNYA</th>\n",
              "      <th>TYPE MOTOR SBLMNYA</th>\n",
              "      <th>SMH DIGUNAKAN UNTUK</th>\n",
              "      <th>YG MENGGUNAKAN SMH</th>\n",
              "      <th>HOBI</th>\n",
              "    </tr>\n",
              "  </thead>\n",
              "  <tbody>\n",
              "    <tr>\n",
              "      <th>0</th>\n",
              "      <td>30</td>\n",
              "      <td>5</td>\n",
              "      <td>0</td>\n",
              "      <td>28</td>\n",
              "      <td>1</td>\n",
              "      <td>0</td>\n",
              "      <td>4</td>\n",
              "      <td>1</td>\n",
              "      <td>0</td>\n",
              "      <td>1</td>\n",
              "      <td>3</td>\n",
              "      <td>0</td>\n",
              "    </tr>\n",
              "    <tr>\n",
              "      <th>1</th>\n",
              "      <td>30</td>\n",
              "      <td>5</td>\n",
              "      <td>0</td>\n",
              "      <td>30</td>\n",
              "      <td>1</td>\n",
              "      <td>9</td>\n",
              "      <td>5</td>\n",
              "      <td>1</td>\n",
              "      <td>3</td>\n",
              "      <td>1</td>\n",
              "      <td>3</td>\n",
              "      <td>0</td>\n",
              "    </tr>\n",
              "    <tr>\n",
              "      <th>2</th>\n",
              "      <td>30</td>\n",
              "      <td>5</td>\n",
              "      <td>0</td>\n",
              "      <td>56</td>\n",
              "      <td>0</td>\n",
              "      <td>4</td>\n",
              "      <td>2</td>\n",
              "      <td>1</td>\n",
              "      <td>3</td>\n",
              "      <td>1</td>\n",
              "      <td>3</td>\n",
              "      <td>0</td>\n",
              "    </tr>\n",
              "    <tr>\n",
              "      <th>3</th>\n",
              "      <td>30</td>\n",
              "      <td>5</td>\n",
              "      <td>0</td>\n",
              "      <td>41</td>\n",
              "      <td>1</td>\n",
              "      <td>9</td>\n",
              "      <td>2</td>\n",
              "      <td>1</td>\n",
              "      <td>0</td>\n",
              "      <td>5</td>\n",
              "      <td>3</td>\n",
              "      <td>20</td>\n",
              "    </tr>\n",
              "    <tr>\n",
              "      <th>4</th>\n",
              "      <td>30</td>\n",
              "      <td>5</td>\n",
              "      <td>0</td>\n",
              "      <td>54</td>\n",
              "      <td>1</td>\n",
              "      <td>4</td>\n",
              "      <td>2</td>\n",
              "      <td>1</td>\n",
              "      <td>3</td>\n",
              "      <td>1</td>\n",
              "      <td>3</td>\n",
              "      <td>0</td>\n",
              "    </tr>\n",
              "    <tr>\n",
              "      <th>...</th>\n",
              "      <td>...</td>\n",
              "      <td>...</td>\n",
              "      <td>...</td>\n",
              "      <td>...</td>\n",
              "      <td>...</td>\n",
              "      <td>...</td>\n",
              "      <td>...</td>\n",
              "      <td>...</td>\n",
              "      <td>...</td>\n",
              "      <td>...</td>\n",
              "      <td>...</td>\n",
              "      <td>...</td>\n",
              "    </tr>\n",
              "    <tr>\n",
              "      <th>18611</th>\n",
              "      <td>15</td>\n",
              "      <td>5</td>\n",
              "      <td>1</td>\n",
              "      <td>42</td>\n",
              "      <td>1</td>\n",
              "      <td>10</td>\n",
              "      <td>4</td>\n",
              "      <td>0</td>\n",
              "      <td>1</td>\n",
              "      <td>1</td>\n",
              "      <td>3</td>\n",
              "      <td>34</td>\n",
              "    </tr>\n",
              "    <tr>\n",
              "      <th>18612</th>\n",
              "      <td>14</td>\n",
              "      <td>5</td>\n",
              "      <td>0</td>\n",
              "      <td>52</td>\n",
              "      <td>2</td>\n",
              "      <td>9</td>\n",
              "      <td>2</td>\n",
              "      <td>5</td>\n",
              "      <td>0</td>\n",
              "      <td>4</td>\n",
              "      <td>2</td>\n",
              "      <td>25</td>\n",
              "    </tr>\n",
              "    <tr>\n",
              "      <th>18613</th>\n",
              "      <td>14</td>\n",
              "      <td>11</td>\n",
              "      <td>0</td>\n",
              "      <td>56</td>\n",
              "      <td>0</td>\n",
              "      <td>9</td>\n",
              "      <td>6</td>\n",
              "      <td>1</td>\n",
              "      <td>2</td>\n",
              "      <td>1</td>\n",
              "      <td>3</td>\n",
              "      <td>0</td>\n",
              "    </tr>\n",
              "    <tr>\n",
              "      <th>18614</th>\n",
              "      <td>31</td>\n",
              "      <td>2</td>\n",
              "      <td>0</td>\n",
              "      <td>50</td>\n",
              "      <td>0</td>\n",
              "      <td>9</td>\n",
              "      <td>4</td>\n",
              "      <td>1</td>\n",
              "      <td>0</td>\n",
              "      <td>1</td>\n",
              "      <td>3</td>\n",
              "      <td>20</td>\n",
              "    </tr>\n",
              "    <tr>\n",
              "      <th>18615</th>\n",
              "      <td>31</td>\n",
              "      <td>2</td>\n",
              "      <td>0</td>\n",
              "      <td>44</td>\n",
              "      <td>1</td>\n",
              "      <td>12</td>\n",
              "      <td>4</td>\n",
              "      <td>1</td>\n",
              "      <td>0</td>\n",
              "      <td>3</td>\n",
              "      <td>3</td>\n",
              "      <td>28</td>\n",
              "    </tr>\n",
              "  </tbody>\n",
              "</table>\n",
              "<p>18616 rows × 12 columns</p>\n",
              "</div>"
            ],
            "text/plain": [
              "       TYPE MOTOR  COLOR  ...  YG MENGGUNAKAN SMH  HOBI\n",
              "0              30      5  ...                   3     0\n",
              "1              30      5  ...                   3     0\n",
              "2              30      5  ...                   3     0\n",
              "3              30      5  ...                   3    20\n",
              "4              30      5  ...                   3     0\n",
              "...           ...    ...  ...                 ...   ...\n",
              "18611          15      5  ...                   3    34\n",
              "18612          14      5  ...                   2    25\n",
              "18613          14     11  ...                   3     0\n",
              "18614          31      2  ...                   3    20\n",
              "18615          31      2  ...                   3    28\n",
              "\n",
              "[18616 rows x 12 columns]"
            ]
          },
          "metadata": {},
          "execution_count": 9
        }
      ]
    },
    {
      "cell_type": "code",
      "metadata": {
        "colab": {
          "base_uri": "https://localhost:8080/"
        },
        "id": "1A86AW77_bDE",
        "outputId": "ee5769d6-a811-4f5e-f829-5fe25adbc90f"
      },
      "source": [
        "X[column]"
      ],
      "execution_count": 10,
      "outputs": [
        {
          "output_type": "execute_result",
          "data": {
            "text/plain": [
              "0         0\n",
              "1         0\n",
              "2         0\n",
              "3        20\n",
              "4         0\n",
              "         ..\n",
              "18611    34\n",
              "18612    25\n",
              "18613     0\n",
              "18614    20\n",
              "18615    28\n",
              "Name: HOBI, Length: 18616, dtype: int64"
            ]
          },
          "metadata": {},
          "execution_count": 10
        }
      ]
    },
    {
      "cell_type": "code",
      "metadata": {
        "colab": {
          "base_uri": "https://localhost:8080/"
        },
        "id": "Ag1FZhM7-8b5",
        "outputId": "9785b300-43aa-41f1-9ce8-d630654d4d8e"
      },
      "source": [
        "y"
      ],
      "execution_count": 11,
      "outputs": [
        {
          "output_type": "execute_result",
          "data": {
            "text/plain": [
              "array([0, 0, 0, ..., 0, 1, 0])"
            ]
          },
          "metadata": {},
          "execution_count": 11
        }
      ]
    },
    {
      "cell_type": "code",
      "metadata": {
        "colab": {
          "base_uri": "https://localhost:8080/",
          "height": 313
        },
        "id": "K-e3Gass8cr_",
        "outputId": "5b78d699-1f1f-4496-ac4d-e55fe6c3eece"
      },
      "source": [
        "# Visualisasi setelah data diubah ke numerik\n",
        "import matplotlib.pyplot as plt\n",
        "import seaborn as sns\n",
        "%matplotlib inline\n",
        "\n",
        "# Creating a bar plot\n",
        "sns.barplot(x=X[column], y=y)\n",
        "# Add labels to your graph\n",
        "plt.xlabel(\"Kriteria Pembeli\")\n",
        "plt.ylabel(\"Jenis Penjualan STNK\")\n",
        "plt.title(\"Visualisasi Credit Berdasarkan Kriteria Pembeli\")\n",
        "plt.legend()\n",
        "plt.show()"
      ],
      "execution_count": 12,
      "outputs": [
        {
          "output_type": "stream",
          "name": "stderr",
          "text": [
            "No handles with labels found to put in legend.\n"
          ]
        },
        {
          "output_type": "display_data",
          "data": {
            "image/png": "[encoded data removed]",
            "text/plain": [
              "<Figure size 432x288 with 1 Axes>"
            ]
          },
          "metadata": {
            "needs_background": "light"
          }
        }
      ]
    },
    {
      "cell_type": "markdown",
      "metadata": {
        "id": "OmYVn5ZRyCJS"
      },
      "source": [
        "## Modelling: Random Forest"
      ]
    },
    {
      "cell_type": "code",
      "metadata": {
        "id": "GEUCK7fV3NIb",
        "colab": {
          "base_uri": "https://localhost:8080/"
        },
        "outputId": "5e166163-7e9c-4294-8988-943948cd312e"
      },
      "source": [
        "# import algoritma Random Forest \n",
        "from sklearn.ensemble import RandomForestClassifier\n",
        "\n",
        "rnd_clf = RandomForestClassifier(n_estimators=1000, max_leaf_nodes=5000, n_jobs=-1)\n",
        "rnd_clf.fit(X_train, y_train)\n",
        "y_pred_rf = rnd_clf.predict(X_test)\n",
        "\n",
        "from sklearn.metrics import accuracy_score\n",
        "\n",
        "print(f\"Akurasi Random Forrest: {accuracy_score(y_test, y_pred_rf)}\")"
      ],
      "execution_count": 13,
      "outputs": [
        {
          "output_type": "stream",
          "name": "stdout",
          "text": [
            "Akurasi Random Forrest: 0.8306832831972497\n"
          ]
        }
      ]
    },
    {
      "cell_type": "markdown",
      "metadata": {
        "id": "fWXWUq5fISGv"
      },
      "source": [
        "Model yang dibuat memiliki akurasi 82.7% untuk memprediksi apakah pembeli akan menggunakan pembayaran CREDIT untuk membeli motor dari variabel: \"TYPE MOTOR\", \"COLOR\", \"JENIS KELAMIN\", \"Tahun lahir\", \"STATUS RUMAH\", \"PEKERJAAN\", \"PENGELUARAN\", \"MERK MOTOR SBLMNYA\", \"TYPE MOTOR SBLMNYA\", \"SMH DIGUNAKAN UNTUK\", \"YG MENGGUNAKAN SMH\", dan \"HOBI\".<br><br>\n",
        "\n",
        "Maka, bisa dilakukan pengambilan data kustomer baru terkait variabel-variabel tersebut dan kemudian model dapat memprediksi apakah kustomer baru tersebut memiliki kecenderungan untuk membayar dengan CREDIT.\n",
        "\n"
      ]
    },
    {
      "cell_type": "code",
      "metadata": {
        "id": "WW9Q3rhjIc27",
        "colab": {
          "base_uri": "https://localhost:8080/"
        },
        "outputId": "88b253ea-a7a4-4f18-b567-c2b5ca2f3040"
      },
      "source": [
        "# Modeling Naive Bayes\n",
        "from sklearn.naive_bayes import GaussianNB\n",
        "from sklearn.metrics import confusion_matrix\n",
        "from sklearn import metrics\n",
        "\n",
        "# Mengaktifkan/memanggil/membuat fungsi klasifikasi Naive Bayes\n",
        "nb_clf = GaussianNB()\n",
        "# Memasukkan data training pada fungsi klasifikasi Naive Bayes\n",
        "nbtrain = nb_clf.fit(X_train, y_train)\n",
        "# Menentukan hasil prediksi dari x_test\n",
        "y_pred = nbtrain.predict(X_test)\n",
        "\n",
        "confusion_matrix(y_test, y_pred)\n",
        "\n",
        "print(\"Akurasi Naive Bayes :\", metrics.accuracy_score(y_test, y_pred))"
      ],
      "execution_count": 14,
      "outputs": [
        {
          "output_type": "stream",
          "name": "stdout",
          "text": [
            "Akurasi Naive Bayes : 0.5960464116888697\n"
          ]
        }
      ]
    },
    {
      "cell_type": "code",
      "metadata": {
        "colab": {
          "base_uri": "https://localhost:8080/"
        },
        "id": "E7pzlpNL1fAY",
        "outputId": "3a627baa-6072-4f6f-abbc-79b72bcb5b2b"
      },
      "source": [
        "# Modeling Logistic Regression\n",
        "from sklearn.linear_model import LogisticRegression\n",
        "from sklearn import metrics\n",
        "\n",
        "# Mengaktifkan/memanggil/membuat fungsi klasifikasi Logistic Regression\n",
        "lr_clf = LogisticRegression()\n",
        "# Mencocokan model dengan data training pada fungsi klasifikasi Logistic Regression\n",
        "lr_clf.fit(X_train,y_train)\n",
        "# Menentukan hasil prediksi dari x_test\n",
        "y_pred = lr_clf.predict(X_test)\n",
        "\n",
        "confusion_matrix(y_test, y_pred)\n",
        "\n",
        "print(\"Akurasi Logistic Regression :\", metrics.accuracy_score(y_test, y_pred))"
      ],
      "execution_count": 15,
      "outputs": [
        {
          "output_type": "stream",
          "name": "stdout",
          "text": [
            "Akurasi Logistic Regression : 0.6061452513966481\n"
          ]
        },
        {
          "output_type": "stream",
          "name": "stderr",
          "text": [
            "/usr/local/lib/python3.7/dist-packages/sklearn/linear_model/_logistic.py:818: ConvergenceWarning: lbfgs failed to converge (status=1):\n",
            "STOP: TOTAL NO. of ITERATIONS REACHED LIMIT.\n",
            "\n",
            "Increase the number of iterations (max_iter) or scale the data as shown in:\n",
            "    https://scikit-learn.org/stable/modules/preprocessing.html\n",
            "Please also refer to the documentation for alternative solver options:\n",
            "    https://scikit-learn.org/stable/modules/linear_model.html#logistic-regression\n",
            "  extra_warning_msg=_LOGISTIC_SOLVER_CONVERGENCE_MSG,\n"
          ]
        }
      ]
    },
    {
      "cell_type": "code",
      "metadata": {
        "colab": {
          "base_uri": "https://localhost:8080/"
        },
        "id": "adqoL7fB8Ccg",
        "outputId": "703ff888-4892-43bc-a2d8-e4312eae1267"
      },
      "source": [
        "# Modeling KNN\n",
        "from sklearn.neighbors import KNeighborsClassifier\n",
        "from sklearn import metrics\n",
        "\n",
        "# Mengaktifkan/memanggil/membuat fungsi klasifikasi KNN\n",
        "knn_clf = KNeighborsClassifier(n_neighbors = 2)\n",
        "# Mencocokan model dengan data training pada fungsi klasifikasi KNN\n",
        "knn_clf.fit(X_train, y_train)\n",
        "# Menentukan hasil prediksi dari x_test\n",
        "y_pred = knn_clf.predict(X_test)\n",
        "\n",
        "print(\"Akurasi KNN :\",metrics.accuracy_score(y_test, y_pred))"
      ],
      "execution_count": 16,
      "outputs": [
        {
          "output_type": "stream",
          "name": "stdout",
          "text": [
            "Akurasi KNN : 0.708422862054147\n"
          ]
        }
      ]
    },
    {
      "cell_type": "code",
      "metadata": {
        "colab": {
          "base_uri": "https://localhost:8080/"
        },
        "id": "wMajhdZsBYMD",
        "outputId": "1907cb3f-a898-4bae-d600-ddf1c314ecb1"
      },
      "source": [
        "# Modeling Support Vector Machine\n",
        "from sklearn import svm\n",
        "from sklearn import metrics\n",
        "\n",
        "# Mengaktifkan/memanggil/membuat fungsi klasifikasi SVM\n",
        "svm_clf = svm.SVC(kernel='linear') # Linear Kernel\n",
        "# Mencocokan model dengan data training pada fungsi klasifikasi SVM\n",
        "svm_clf.fit(X_train, y_train)\n",
        "# Menentukan hasil prediksi dari x_test\n",
        "y_pred = svm_clf.predict(X_test)\n",
        "\n",
        "print(\"Akurasi Support Vector Machine :\",metrics.accuracy_score(y_test, y_pred))"
      ],
      "execution_count": 17,
      "outputs": [
        {
          "output_type": "stream",
          "name": "stdout",
          "text": [
            "Akurasi Support Vector Machine : 0.6055006446067899\n"
          ]
        }
      ]
    },
    {
      "cell_type": "code",
      "metadata": {
        "colab": {
          "base_uri": "https://localhost:8080/"
        },
        "id": "qXRCq8niCdMF",
        "outputId": "0f7a386f-a85d-4d4c-c77d-d15ba6d75c45"
      },
      "source": [
        "# Modeling Decision Tree\n",
        "from sklearn.tree import DecisionTreeClassifier # Import Decision Tree Classifier\n",
        "from sklearn import metrics #Import scikit-learn metrics module for accuracy calculation\n",
        "\n",
        "# Mengaktifkan/memanggil/membuat fungsi klasifikasi Decision Tree\n",
        "dt_clf = DecisionTreeClassifier()\n",
        "# Memasukkan data training pada fungsi klasifikasi Decision Tree\n",
        "dt_train = dt_clf.fit(X_train,y_train)\n",
        "# Menentukan hasil prediksi dari x_test\n",
        "y_pred = dt_train.predict(X_test)\n",
        "\n",
        "print(\"Akurasi Decision Tree :\",metrics.accuracy_score(y_test, y_pred))"
      ],
      "execution_count": 18,
      "outputs": [
        {
          "output_type": "stream",
          "name": "stdout",
          "text": [
            "Akurasi Decision Tree : 0.8068328319724968\n"
          ]
        }
      ]
    }
  ]
}